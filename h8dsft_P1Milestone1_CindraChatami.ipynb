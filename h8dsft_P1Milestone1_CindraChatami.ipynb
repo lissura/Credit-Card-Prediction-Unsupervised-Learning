{
  "cells": [
    {
      "cell_type": "markdown",
      "metadata": {
        "id": "JP9Si3rnx-il"
      },
      "source": [
        "# 1. Perkenalan\n",
        "1. Nama : Cindra Chatami\n",
        "2. Batch : 9 FTDS\n",
        "\n",
        "Dataset yang digunakan didapatkan dari [Bank Marketing Dataset](https://archive.ics.uci.edu/ml/datasets/Bank+Marketing) dengan menggunakan folder `bank-additional` dan file `bank-additional.csv`. \n",
        "\n",
        "Data ini merupakan data dari campaign bank di Portugis sebuah product dari bulan May 2008 - November 2010. Campaign ini dilakukan dengan phone calls untuk mencari tahu apakah client akan melakukan subscribe pada deposit bank (Yes or No).\n",
        "\n",
        "Milestone kali ini akan membuat 7 model untuk memprediksi apakah client akan melakukan subs/tidak berdasarkan dataset yang ada. Model tersebut adalah LogisticRegression, Support Vector Machine, Decision Tree, Random Forest, KNN, Naive Bayes, dan Gradient Boosting dan menggunakan Hyperparamter terbaiknya dengan bantuan GridSearchCV. "
      ]
    },
    {
      "cell_type": "markdown",
      "metadata": {
        "id": "EugxHLxWyR-y"
      },
      "source": [
        "# 2. Import Libraries"
      ]
    },
    {
      "cell_type": "code",
      "execution_count": 1,
      "metadata": {
        "id": "cKxxfkpHxgLQ"
      },
      "outputs": [],
      "source": [
        "#untuk EDA\n",
        "import pandas as pd\n",
        "import numpy as np\n",
        "import matplotlib.pyplot as plt\n",
        "import seaborn as sns\n",
        "\n",
        "\n",
        "#untuk preprocessing\n",
        "from sklearn.model_selection import train_test_split, GridSearchCV\n",
        "from sklearn.compose import ColumnTransformer\n",
        "from sklearn.pipeline import Pipeline\n",
        "from sklearn.impute import SimpleImputer\n",
        "from sklearn.metrics import *\n",
        "from sklearn.preprocessing import  MinMaxScaler, FunctionTransformer, PowerTransformer\n",
        "\n",
        "\n",
        "\n",
        "#untuk model\n",
        "from sklearn.linear_model import LogisticRegression\n",
        "from sklearn.svm import SVC\n",
        "from sklearn.tree import DecisionTreeClassifier\n",
        "from sklearn.ensemble import RandomForestClassifier, GradientBoostingClassifier\n",
        "from sklearn.neighbors import KNeighborsClassifier\n",
        "from sklearn.naive_bayes import MultinomialNB\n",
        "from sklearn.model_selection import cross_val_score\n",
        "\n",
        "import warnings\n",
        "warnings.filterwarnings(\"ignore\")"
      ]
    },
    {
      "cell_type": "markdown",
      "metadata": {
        "id": "wbxYW3QI_sBq"
      },
      "source": [
        "# Load Data"
      ]
    },
    {
      "cell_type": "code",
      "execution_count": 2,
      "metadata": {
        "id": "gytDEW8Xz6dO"
      },
      "outputs": [],
      "source": [
        "df = pd.read_csv('bank-additional-full.csv', sep = ';')"
      ]
    },
    {
      "cell_type": "code",
      "execution_count": 3,
      "metadata": {
        "id": "CvY7FIFcYSys"
      },
      "outputs": [],
      "source": [
        "pd. set_option('display.max_columns', None) #konfigurasi dilakukan agar dapat melihat semua kolom"
      ]
    },
    {
      "cell_type": "code",
      "execution_count": 4,
      "metadata": {
        "colab": {
          "base_uri": "https://localhost:8080/",
          "height": 270
        },
        "id": "kvzXj_H80IX3",
        "outputId": "cb4a82dc-308e-4460-cd6c-8efae064b68c"
      },
      "outputs": [
        {
          "data": {
            "text/html": [
              "\n",
              "  <div id=\"df-bd268c4c-6550-4939-afcf-98a307b46880\">\n",
              "    <div class=\"colab-df-container\">\n",
              "      <div>\n",
              "<style scoped>\n",
              "    .dataframe tbody tr th:only-of-type {\n",
              "        vertical-align: middle;\n",
              "    }\n",
              "\n",
              "    .dataframe tbody tr th {\n",
              "        vertical-align: top;\n",
              "    }\n",
              "\n",
              "    .dataframe thead th {\n",
              "        text-align: right;\n",
              "    }\n",
              "</style>\n",
              "<table border=\"1\" class=\"dataframe\">\n",
              "  <thead>\n",
              "    <tr style=\"text-align: right;\">\n",
              "      <th></th>\n",
              "      <th>age</th>\n",
              "      <th>job</th>\n",
              "      <th>marital</th>\n",
              "      <th>education</th>\n",
              "      <th>default</th>\n",
              "      <th>housing</th>\n",
              "      <th>loan</th>\n",
              "      <th>contact</th>\n",
              "      <th>month</th>\n",
              "      <th>day_of_week</th>\n",
              "      <th>duration</th>\n",
              "      <th>campaign</th>\n",
              "      <th>pdays</th>\n",
              "      <th>previous</th>\n",
              "      <th>poutcome</th>\n",
              "      <th>emp.var.rate</th>\n",
              "      <th>cons.price.idx</th>\n",
              "      <th>cons.conf.idx</th>\n",
              "      <th>euribor3m</th>\n",
              "      <th>nr.employed</th>\n",
              "      <th>y</th>\n",
              "    </tr>\n",
              "  </thead>\n",
              "  <tbody>\n",
              "    <tr>\n",
              "      <th>0</th>\n",
              "      <td>56</td>\n",
              "      <td>housemaid</td>\n",
              "      <td>married</td>\n",
              "      <td>basic.4y</td>\n",
              "      <td>no</td>\n",
              "      <td>no</td>\n",
              "      <td>no</td>\n",
              "      <td>telephone</td>\n",
              "      <td>may</td>\n",
              "      <td>mon</td>\n",
              "      <td>261</td>\n",
              "      <td>1</td>\n",
              "      <td>999</td>\n",
              "      <td>0</td>\n",
              "      <td>nonexistent</td>\n",
              "      <td>1.1</td>\n",
              "      <td>93.994</td>\n",
              "      <td>-36.4</td>\n",
              "      <td>4.857</td>\n",
              "      <td>5191.0</td>\n",
              "      <td>no</td>\n",
              "    </tr>\n",
              "    <tr>\n",
              "      <th>1</th>\n",
              "      <td>57</td>\n",
              "      <td>services</td>\n",
              "      <td>married</td>\n",
              "      <td>high.school</td>\n",
              "      <td>unknown</td>\n",
              "      <td>no</td>\n",
              "      <td>no</td>\n",
              "      <td>telephone</td>\n",
              "      <td>may</td>\n",
              "      <td>mon</td>\n",
              "      <td>149</td>\n",
              "      <td>1</td>\n",
              "      <td>999</td>\n",
              "      <td>0</td>\n",
              "      <td>nonexistent</td>\n",
              "      <td>1.1</td>\n",
              "      <td>93.994</td>\n",
              "      <td>-36.4</td>\n",
              "      <td>4.857</td>\n",
              "      <td>5191.0</td>\n",
              "      <td>no</td>\n",
              "    </tr>\n",
              "    <tr>\n",
              "      <th>2</th>\n",
              "      <td>37</td>\n",
              "      <td>services</td>\n",
              "      <td>married</td>\n",
              "      <td>high.school</td>\n",
              "      <td>no</td>\n",
              "      <td>yes</td>\n",
              "      <td>no</td>\n",
              "      <td>telephone</td>\n",
              "      <td>may</td>\n",
              "      <td>mon</td>\n",
              "      <td>226</td>\n",
              "      <td>1</td>\n",
              "      <td>999</td>\n",
              "      <td>0</td>\n",
              "      <td>nonexistent</td>\n",
              "      <td>1.1</td>\n",
              "      <td>93.994</td>\n",
              "      <td>-36.4</td>\n",
              "      <td>4.857</td>\n",
              "      <td>5191.0</td>\n",
              "      <td>no</td>\n",
              "    </tr>\n",
              "    <tr>\n",
              "      <th>3</th>\n",
              "      <td>40</td>\n",
              "      <td>admin.</td>\n",
              "      <td>married</td>\n",
              "      <td>basic.6y</td>\n",
              "      <td>no</td>\n",
              "      <td>no</td>\n",
              "      <td>no</td>\n",
              "      <td>telephone</td>\n",
              "      <td>may</td>\n",
              "      <td>mon</td>\n",
              "      <td>151</td>\n",
              "      <td>1</td>\n",
              "      <td>999</td>\n",
              "      <td>0</td>\n",
              "      <td>nonexistent</td>\n",
              "      <td>1.1</td>\n",
              "      <td>93.994</td>\n",
              "      <td>-36.4</td>\n",
              "      <td>4.857</td>\n",
              "      <td>5191.0</td>\n",
              "      <td>no</td>\n",
              "    </tr>\n",
              "    <tr>\n",
              "      <th>4</th>\n",
              "      <td>56</td>\n",
              "      <td>services</td>\n",
              "      <td>married</td>\n",
              "      <td>high.school</td>\n",
              "      <td>no</td>\n",
              "      <td>no</td>\n",
              "      <td>yes</td>\n",
              "      <td>telephone</td>\n",
              "      <td>may</td>\n",
              "      <td>mon</td>\n",
              "      <td>307</td>\n",
              "      <td>1</td>\n",
              "      <td>999</td>\n",
              "      <td>0</td>\n",
              "      <td>nonexistent</td>\n",
              "      <td>1.1</td>\n",
              "      <td>93.994</td>\n",
              "      <td>-36.4</td>\n",
              "      <td>4.857</td>\n",
              "      <td>5191.0</td>\n",
              "      <td>no</td>\n",
              "    </tr>\n",
              "  </tbody>\n",
              "</table>\n",
              "</div>\n",
              "      <button class=\"colab-df-convert\" onclick=\"convertToInteractive('df-bd268c4c-6550-4939-afcf-98a307b46880')\"\n",
              "              title=\"Convert this dataframe to an interactive table.\"\n",
              "              style=\"display:none;\">\n",
              "        \n",
              "  <svg xmlns=\"http://www.w3.org/2000/svg\" height=\"24px\"viewBox=\"0 0 24 24\"\n",
              "       width=\"24px\">\n",
              "    <path d=\"M0 0h24v24H0V0z\" fill=\"none\"/>\n",
              "    <path d=\"M18.56 5.44l.94 2.06.94-2.06 2.06-.94-2.06-.94-.94-2.06-.94 2.06-2.06.94zm-11 1L8.5 8.5l.94-2.06 2.06-.94-2.06-.94L8.5 2.5l-.94 2.06-2.06.94zm10 10l.94 2.06.94-2.06 2.06-.94-2.06-.94-.94-2.06-.94 2.06-2.06.94z\"/><path d=\"M17.41 7.96l-1.37-1.37c-.4-.4-.92-.59-1.43-.59-.52 0-1.04.2-1.43.59L10.3 9.45l-7.72 7.72c-.78.78-.78 2.05 0 2.83L4 21.41c.39.39.9.59 1.41.59.51 0 1.02-.2 1.41-.59l7.78-7.78 2.81-2.81c.8-.78.8-2.07 0-2.86zM5.41 20L4 18.59l7.72-7.72 1.47 1.35L5.41 20z\"/>\n",
              "  </svg>\n",
              "      </button>\n",
              "      \n",
              "  <style>\n",
              "    .colab-df-container {\n",
              "      display:flex;\n",
              "      flex-wrap:wrap;\n",
              "      gap: 12px;\n",
              "    }\n",
              "\n",
              "    .colab-df-convert {\n",
              "      background-color: #E8F0FE;\n",
              "      border: none;\n",
              "      border-radius: 50%;\n",
              "      cursor: pointer;\n",
              "      display: none;\n",
              "      fill: #1967D2;\n",
              "      height: 32px;\n",
              "      padding: 0 0 0 0;\n",
              "      width: 32px;\n",
              "    }\n",
              "\n",
              "    .colab-df-convert:hover {\n",
              "      background-color: #E2EBFA;\n",
              "      box-shadow: 0px 1px 2px rgba(60, 64, 67, 0.3), 0px 1px 3px 1px rgba(60, 64, 67, 0.15);\n",
              "      fill: #174EA6;\n",
              "    }\n",
              "\n",
              "    [theme=dark] .colab-df-convert {\n",
              "      background-color: #3B4455;\n",
              "      fill: #D2E3FC;\n",
              "    }\n",
              "\n",
              "    [theme=dark] .colab-df-convert:hover {\n",
              "      background-color: #434B5C;\n",
              "      box-shadow: 0px 1px 3px 1px rgba(0, 0, 0, 0.15);\n",
              "      filter: drop-shadow(0px 1px 2px rgba(0, 0, 0, 0.3));\n",
              "      fill: #FFFFFF;\n",
              "    }\n",
              "  </style>\n",
              "\n",
              "      <script>\n",
              "        const buttonEl =\n",
              "          document.querySelector('#df-bd268c4c-6550-4939-afcf-98a307b46880 button.colab-df-convert');\n",
              "        buttonEl.style.display =\n",
              "          google.colab.kernel.accessAllowed ? 'block' : 'none';\n",
              "\n",
              "        async function convertToInteractive(key) {\n",
              "          const element = document.querySelector('#df-bd268c4c-6550-4939-afcf-98a307b46880');\n",
              "          const dataTable =\n",
              "            await google.colab.kernel.invokeFunction('convertToInteractive',\n",
              "                                                     [key], {});\n",
              "          if (!dataTable) return;\n",
              "\n",
              "          const docLinkHtml = 'Like what you see? Visit the ' +\n",
              "            '<a target=\"_blank\" href=https://colab.research.google.com/notebooks/data_table.ipynb>data table notebook</a>'\n",
              "            + ' to learn more about interactive tables.';\n",
              "          element.innerHTML = '';\n",
              "          dataTable['output_type'] = 'display_data';\n",
              "          await google.colab.output.renderOutput(dataTable, element);\n",
              "          const docLink = document.createElement('div');\n",
              "          docLink.innerHTML = docLinkHtml;\n",
              "          element.appendChild(docLink);\n",
              "        }\n",
              "      </script>\n",
              "    </div>\n",
              "  </div>\n",
              "  "
            ],
            "text/plain": [
              "   age        job  marital    education  default housing loan    contact  \\\n",
              "0   56  housemaid  married     basic.4y       no      no   no  telephone   \n",
              "1   57   services  married  high.school  unknown      no   no  telephone   \n",
              "2   37   services  married  high.school       no     yes   no  telephone   \n",
              "3   40     admin.  married     basic.6y       no      no   no  telephone   \n",
              "4   56   services  married  high.school       no      no  yes  telephone   \n",
              "\n",
              "  month day_of_week  duration  campaign  pdays  previous     poutcome  \\\n",
              "0   may         mon       261         1    999         0  nonexistent   \n",
              "1   may         mon       149         1    999         0  nonexistent   \n",
              "2   may         mon       226         1    999         0  nonexistent   \n",
              "3   may         mon       151         1    999         0  nonexistent   \n",
              "4   may         mon       307         1    999         0  nonexistent   \n",
              "\n",
              "   emp.var.rate  cons.price.idx  cons.conf.idx  euribor3m  nr.employed   y  \n",
              "0           1.1          93.994          -36.4      4.857       5191.0  no  \n",
              "1           1.1          93.994          -36.4      4.857       5191.0  no  \n",
              "2           1.1          93.994          -36.4      4.857       5191.0  no  \n",
              "3           1.1          93.994          -36.4      4.857       5191.0  no  \n",
              "4           1.1          93.994          -36.4      4.857       5191.0  no  "
            ]
          },
          "execution_count": 4,
          "metadata": {},
          "output_type": "execute_result"
        }
      ],
      "source": [
        "df.head()"
      ]
    },
    {
      "cell_type": "markdown",
      "metadata": {
        "id": "9Wkv5RlG1Uuy"
      },
      "source": [
        "bank client data:\n",
        "1.  age (numeric)\n",
        "2.  job : type of job (categorical: 'admin.','blue-collar','entrepreneur','housemaid','management','retired','self-employed','services','student','technician','unemployed','unknown')\n",
        "3.  marital : marital status (categorical: 'divorced','married','single','unknown'; note: 'divorced' means divorced or widowed)\n",
        "4.  education (categorical: 'basic.4y','basic.6y','basic.9y','high.school','illiterate','professional.course','university.degree','unknown')\n",
        "5.  default: has credit in default? (categorical: 'no','yes','unknown')\n",
        "6.  housing: has housing loan? (categorical: 'no','yes','unknown')\n",
        "7.  loan: has personal loan? (categorical: 'no','yes','unknown')\n",
        "\n",
        "related with the last contact of the current campaign:\n",
        "\n",
        "8.  contact: contact communication type (categorical: 'cellular','telephone')\n",
        "9.  month: last contact month of year (categorical: 'jan', 'feb', 'mar', ..., 'nov', 'dec')\n",
        "10.  day_of_week: last contact day of the week (categorical: 'mon','tue','wed','thu','fri')\n",
        "11.  duration: last contact duration, in seconds (numeric). Important note: this attribute highly affects the output target (e.g., if duration=0 then y='no'). Yet, the duration is not known before a call is performed. Also, after the end of the call y is obviously known. Thus, this input should only be included for benchmark purposes and should be discarded if the intention is to have a realistic predictive model.\n",
        "\n",
        "other attributes:\n",
        "\n",
        "12.  campaign: number of contacts performed during this campaign and for this client (numeric, includes last contact)\n",
        "13.  pdays: number of days that passed by after the client was last contacted from a previous campaign (numeric; 999 means client was not previously contacted)\n",
        "14.  previous: number of contacts performed before this campaign and for this client (numeric)\n",
        "15.  poutcome: outcome of the previous marketing campaign (categorical: 'failure','nonexistent','success')\n",
        "\n",
        "social and economic context attributes\n",
        "\n",
        "16.  emp.var.rate: employment variation rate - quarterly indicator (numeric)\n",
        "17.  cons.price.idx: consumer price index - monthly indicator (numeric)\n",
        "18.  cons.conf.idx: consumer confidence index - monthly indicator (numeric)\n",
        "19. euribor3m: euribor 3 month rate - daily indicator (numeric)\n",
        "20. nr.employed: number of employees - quarterly indicator (numeric)\n",
        "\n",
        "Output variable (desired target):\n",
        "\n",
        "21. y: has the client subscribed a term deposit? (binary: 'yes','no')"
      ]
    },
    {
      "cell_type": "markdown",
      "metadata": {
        "id": "0WSXaKPf_uOz"
      },
      "source": [
        "# EDA"
      ]
    },
    {
      "cell_type": "code",
      "execution_count": 5,
      "metadata": {
        "colab": {
          "base_uri": "https://localhost:8080/",
          "height": 300
        },
        "id": "c19MjZzV_1UF",
        "outputId": "67ac4b52-279d-415c-9478-952dc1694a03"
      },
      "outputs": [
        {
          "data": {
            "text/html": [
              "\n",
              "  <div id=\"df-b43d2a73-a24d-4de7-9fa1-03d8800128e1\">\n",
              "    <div class=\"colab-df-container\">\n",
              "      <div>\n",
              "<style scoped>\n",
              "    .dataframe tbody tr th:only-of-type {\n",
              "        vertical-align: middle;\n",
              "    }\n",
              "\n",
              "    .dataframe tbody tr th {\n",
              "        vertical-align: top;\n",
              "    }\n",
              "\n",
              "    .dataframe thead th {\n",
              "        text-align: right;\n",
              "    }\n",
              "</style>\n",
              "<table border=\"1\" class=\"dataframe\">\n",
              "  <thead>\n",
              "    <tr style=\"text-align: right;\">\n",
              "      <th></th>\n",
              "      <th>age</th>\n",
              "      <th>duration</th>\n",
              "      <th>campaign</th>\n",
              "      <th>pdays</th>\n",
              "      <th>previous</th>\n",
              "      <th>emp.var.rate</th>\n",
              "      <th>cons.price.idx</th>\n",
              "      <th>cons.conf.idx</th>\n",
              "      <th>euribor3m</th>\n",
              "      <th>nr.employed</th>\n",
              "    </tr>\n",
              "  </thead>\n",
              "  <tbody>\n",
              "    <tr>\n",
              "      <th>count</th>\n",
              "      <td>41188.00000</td>\n",
              "      <td>41188.000000</td>\n",
              "      <td>41188.000000</td>\n",
              "      <td>41188.000000</td>\n",
              "      <td>41188.000000</td>\n",
              "      <td>41188.000000</td>\n",
              "      <td>41188.000000</td>\n",
              "      <td>41188.000000</td>\n",
              "      <td>41188.000000</td>\n",
              "      <td>41188.000000</td>\n",
              "    </tr>\n",
              "    <tr>\n",
              "      <th>mean</th>\n",
              "      <td>40.02406</td>\n",
              "      <td>258.285010</td>\n",
              "      <td>2.567593</td>\n",
              "      <td>962.475454</td>\n",
              "      <td>0.172963</td>\n",
              "      <td>0.081886</td>\n",
              "      <td>93.575664</td>\n",
              "      <td>-40.502600</td>\n",
              "      <td>3.621291</td>\n",
              "      <td>5167.035911</td>\n",
              "    </tr>\n",
              "    <tr>\n",
              "      <th>std</th>\n",
              "      <td>10.42125</td>\n",
              "      <td>259.279249</td>\n",
              "      <td>2.770014</td>\n",
              "      <td>186.910907</td>\n",
              "      <td>0.494901</td>\n",
              "      <td>1.570960</td>\n",
              "      <td>0.578840</td>\n",
              "      <td>4.628198</td>\n",
              "      <td>1.734447</td>\n",
              "      <td>72.251528</td>\n",
              "    </tr>\n",
              "    <tr>\n",
              "      <th>min</th>\n",
              "      <td>17.00000</td>\n",
              "      <td>0.000000</td>\n",
              "      <td>1.000000</td>\n",
              "      <td>0.000000</td>\n",
              "      <td>0.000000</td>\n",
              "      <td>-3.400000</td>\n",
              "      <td>92.201000</td>\n",
              "      <td>-50.800000</td>\n",
              "      <td>0.634000</td>\n",
              "      <td>4963.600000</td>\n",
              "    </tr>\n",
              "    <tr>\n",
              "      <th>25%</th>\n",
              "      <td>32.00000</td>\n",
              "      <td>102.000000</td>\n",
              "      <td>1.000000</td>\n",
              "      <td>999.000000</td>\n",
              "      <td>0.000000</td>\n",
              "      <td>-1.800000</td>\n",
              "      <td>93.075000</td>\n",
              "      <td>-42.700000</td>\n",
              "      <td>1.344000</td>\n",
              "      <td>5099.100000</td>\n",
              "    </tr>\n",
              "    <tr>\n",
              "      <th>50%</th>\n",
              "      <td>38.00000</td>\n",
              "      <td>180.000000</td>\n",
              "      <td>2.000000</td>\n",
              "      <td>999.000000</td>\n",
              "      <td>0.000000</td>\n",
              "      <td>1.100000</td>\n",
              "      <td>93.749000</td>\n",
              "      <td>-41.800000</td>\n",
              "      <td>4.857000</td>\n",
              "      <td>5191.000000</td>\n",
              "    </tr>\n",
              "    <tr>\n",
              "      <th>75%</th>\n",
              "      <td>47.00000</td>\n",
              "      <td>319.000000</td>\n",
              "      <td>3.000000</td>\n",
              "      <td>999.000000</td>\n",
              "      <td>0.000000</td>\n",
              "      <td>1.400000</td>\n",
              "      <td>93.994000</td>\n",
              "      <td>-36.400000</td>\n",
              "      <td>4.961000</td>\n",
              "      <td>5228.100000</td>\n",
              "    </tr>\n",
              "    <tr>\n",
              "      <th>max</th>\n",
              "      <td>98.00000</td>\n",
              "      <td>4918.000000</td>\n",
              "      <td>56.000000</td>\n",
              "      <td>999.000000</td>\n",
              "      <td>7.000000</td>\n",
              "      <td>1.400000</td>\n",
              "      <td>94.767000</td>\n",
              "      <td>-26.900000</td>\n",
              "      <td>5.045000</td>\n",
              "      <td>5228.100000</td>\n",
              "    </tr>\n",
              "  </tbody>\n",
              "</table>\n",
              "</div>\n",
              "      <button class=\"colab-df-convert\" onclick=\"convertToInteractive('df-b43d2a73-a24d-4de7-9fa1-03d8800128e1')\"\n",
              "              title=\"Convert this dataframe to an interactive table.\"\n",
              "              style=\"display:none;\">\n",
              "        \n",
              "  <svg xmlns=\"http://www.w3.org/2000/svg\" height=\"24px\"viewBox=\"0 0 24 24\"\n",
              "       width=\"24px\">\n",
              "    <path d=\"M0 0h24v24H0V0z\" fill=\"none\"/>\n",
              "    <path d=\"M18.56 5.44l.94 2.06.94-2.06 2.06-.94-2.06-.94-.94-2.06-.94 2.06-2.06.94zm-11 1L8.5 8.5l.94-2.06 2.06-.94-2.06-.94L8.5 2.5l-.94 2.06-2.06.94zm10 10l.94 2.06.94-2.06 2.06-.94-2.06-.94-.94-2.06-.94 2.06-2.06.94z\"/><path d=\"M17.41 7.96l-1.37-1.37c-.4-.4-.92-.59-1.43-.59-.52 0-1.04.2-1.43.59L10.3 9.45l-7.72 7.72c-.78.78-.78 2.05 0 2.83L4 21.41c.39.39.9.59 1.41.59.51 0 1.02-.2 1.41-.59l7.78-7.78 2.81-2.81c.8-.78.8-2.07 0-2.86zM5.41 20L4 18.59l7.72-7.72 1.47 1.35L5.41 20z\"/>\n",
              "  </svg>\n",
              "      </button>\n",
              "      \n",
              "  <style>\n",
              "    .colab-df-container {\n",
              "      display:flex;\n",
              "      flex-wrap:wrap;\n",
              "      gap: 12px;\n",
              "    }\n",
              "\n",
              "    .colab-df-convert {\n",
              "      background-color: #E8F0FE;\n",
              "      border: none;\n",
              "      border-radius: 50%;\n",
              "      cursor: pointer;\n",
              "      display: none;\n",
              "      fill: #1967D2;\n",
              "      height: 32px;\n",
              "      padding: 0 0 0 0;\n",
              "      width: 32px;\n",
              "    }\n",
              "\n",
              "    .colab-df-convert:hover {\n",
              "      background-color: #E2EBFA;\n",
              "      box-shadow: 0px 1px 2px rgba(60, 64, 67, 0.3), 0px 1px 3px 1px rgba(60, 64, 67, 0.15);\n",
              "      fill: #174EA6;\n",
              "    }\n",
              "\n",
              "    [theme=dark] .colab-df-convert {\n",
              "      background-color: #3B4455;\n",
              "      fill: #D2E3FC;\n",
              "    }\n",
              "\n",
              "    [theme=dark] .colab-df-convert:hover {\n",
              "      background-color: #434B5C;\n",
              "      box-shadow: 0px 1px 3px 1px rgba(0, 0, 0, 0.15);\n",
              "      filter: drop-shadow(0px 1px 2px rgba(0, 0, 0, 0.3));\n",
              "      fill: #FFFFFF;\n",
              "    }\n",
              "  </style>\n",
              "\n",
              "      <script>\n",
              "        const buttonEl =\n",
              "          document.querySelector('#df-b43d2a73-a24d-4de7-9fa1-03d8800128e1 button.colab-df-convert');\n",
              "        buttonEl.style.display =\n",
              "          google.colab.kernel.accessAllowed ? 'block' : 'none';\n",
              "\n",
              "        async function convertToInteractive(key) {\n",
              "          const element = document.querySelector('#df-b43d2a73-a24d-4de7-9fa1-03d8800128e1');\n",
              "          const dataTable =\n",
              "            await google.colab.kernel.invokeFunction('convertToInteractive',\n",
              "                                                     [key], {});\n",
              "          if (!dataTable) return;\n",
              "\n",
              "          const docLinkHtml = 'Like what you see? Visit the ' +\n",
              "            '<a target=\"_blank\" href=https://colab.research.google.com/notebooks/data_table.ipynb>data table notebook</a>'\n",
              "            + ' to learn more about interactive tables.';\n",
              "          element.innerHTML = '';\n",
              "          dataTable['output_type'] = 'display_data';\n",
              "          await google.colab.output.renderOutput(dataTable, element);\n",
              "          const docLink = document.createElement('div');\n",
              "          docLink.innerHTML = docLinkHtml;\n",
              "          element.appendChild(docLink);\n",
              "        }\n",
              "      </script>\n",
              "    </div>\n",
              "  </div>\n",
              "  "
            ],
            "text/plain": [
              "               age      duration      campaign         pdays      previous  \\\n",
              "count  41188.00000  41188.000000  41188.000000  41188.000000  41188.000000   \n",
              "mean      40.02406    258.285010      2.567593    962.475454      0.172963   \n",
              "std       10.42125    259.279249      2.770014    186.910907      0.494901   \n",
              "min       17.00000      0.000000      1.000000      0.000000      0.000000   \n",
              "25%       32.00000    102.000000      1.000000    999.000000      0.000000   \n",
              "50%       38.00000    180.000000      2.000000    999.000000      0.000000   \n",
              "75%       47.00000    319.000000      3.000000    999.000000      0.000000   \n",
              "max       98.00000   4918.000000     56.000000    999.000000      7.000000   \n",
              "\n",
              "       emp.var.rate  cons.price.idx  cons.conf.idx     euribor3m   nr.employed  \n",
              "count  41188.000000    41188.000000   41188.000000  41188.000000  41188.000000  \n",
              "mean       0.081886       93.575664     -40.502600      3.621291   5167.035911  \n",
              "std        1.570960        0.578840       4.628198      1.734447     72.251528  \n",
              "min       -3.400000       92.201000     -50.800000      0.634000   4963.600000  \n",
              "25%       -1.800000       93.075000     -42.700000      1.344000   5099.100000  \n",
              "50%        1.100000       93.749000     -41.800000      4.857000   5191.000000  \n",
              "75%        1.400000       93.994000     -36.400000      4.961000   5228.100000  \n",
              "max        1.400000       94.767000     -26.900000      5.045000   5228.100000  "
            ]
          },
          "execution_count": 5,
          "metadata": {},
          "output_type": "execute_result"
        }
      ],
      "source": [
        "#melihat deskriptif data\n",
        "df.describe()"
      ]
    },
    {
      "cell_type": "markdown",
      "metadata": {
        "id": "VMOXD5_j_3jL"
      },
      "source": [
        "> Rata-rata umur pada dataset ini adalah 40 tahun, perlu di cek max value pada umur\n",
        "\n",
        "> colom campaign memiliki nilai max yang jauh dari nilai rata-ratanya, hal ini perlu di cek lebih jauh apakah data tersebut outlier/bukan\n",
        "\n",
        "> kolom nr.employed memiliki nilai 75% dan max yang sama, kemungkinan data ini adalah data outliers yang sudah dilakukan `capping`\n",
        "\n",
        "> kolom durasi hanya berarti ketika telepon di angkat, kolom ini tidak terlalu berfungsi dalam dataset ini\n",
        "\n",
        "> rata-rata tiap customer dikontak oleh marketing 2x (kolom campaign), perlu di cek max value pada kolom campaign adalah outlier atau bukan\n",
        "\n",
        "> pdays 999 berarti client tersebut `tidak dihubungi` oleh perusahaan"
      ]
    },
    {
      "cell_type": "code",
      "execution_count": 6,
      "metadata": {
        "colab": {
          "base_uri": "https://localhost:8080/"
        },
        "id": "2diub18eAzEB",
        "outputId": "ba52582c-cd66-4470-c2bc-42ca46afa283"
      },
      "outputs": [
        {
          "name": "stdout",
          "output_type": "stream",
          "text": [
            "<class 'pandas.core.frame.DataFrame'>\n",
            "RangeIndex: 41188 entries, 0 to 41187\n",
            "Data columns (total 21 columns):\n",
            " #   Column          Non-Null Count  Dtype  \n",
            "---  ------          --------------  -----  \n",
            " 0   age             41188 non-null  int64  \n",
            " 1   job             41188 non-null  object \n",
            " 2   marital         41188 non-null  object \n",
            " 3   education       41188 non-null  object \n",
            " 4   default         41188 non-null  object \n",
            " 5   housing         41188 non-null  object \n",
            " 6   loan            41188 non-null  object \n",
            " 7   contact         41188 non-null  object \n",
            " 8   month           41188 non-null  object \n",
            " 9   day_of_week     41188 non-null  object \n",
            " 10  duration        41188 non-null  int64  \n",
            " 11  campaign        41188 non-null  int64  \n",
            " 12  pdays           41188 non-null  int64  \n",
            " 13  previous        41188 non-null  int64  \n",
            " 14  poutcome        41188 non-null  object \n",
            " 15  emp.var.rate    41188 non-null  float64\n",
            " 16  cons.price.idx  41188 non-null  float64\n",
            " 17  cons.conf.idx   41188 non-null  float64\n",
            " 18  euribor3m       41188 non-null  float64\n",
            " 19  nr.employed     41188 non-null  float64\n",
            " 20  y               41188 non-null  object \n",
            "dtypes: float64(5), int64(5), object(11)\n",
            "memory usage: 6.6+ MB\n"
          ]
        }
      ],
      "source": [
        "df.info()"
      ]
    },
    {
      "cell_type": "markdown",
      "metadata": {
        "id": "1jjaY0-WA038"
      },
      "source": [
        "> - terdapat 41188  entries pada data\n",
        "> - kolom default, housing, loan, target(y) masih dalam bentuk object yang perlu dirubah menjadi int untuk mempermudah analisis (Yes = 1, No = 0)\n",
        "\n"
      ]
    },
    {
      "cell_type": "code",
      "execution_count": 7,
      "metadata": {
        "id": "8DTjevzgBqUC"
      },
      "outputs": [],
      "source": [
        "#merubah tipe object menjadi int untuk mempermudah analisis dan model\n",
        "df['y'] = (df['y'] == 'yes').astype(int)"
      ]
    },
    {
      "cell_type": "code",
      "execution_count": 8,
      "metadata": {
        "colab": {
          "base_uri": "https://localhost:8080/"
        },
        "id": "WuarOT3uB_AT",
        "outputId": "51faade0-353c-447c-f2ea-c42f408615d2"
      },
      "outputs": [
        {
          "name": "stdout",
          "output_type": "stream",
          "text": [
            "<class 'pandas.core.frame.DataFrame'>\n",
            "RangeIndex: 41188 entries, 0 to 41187\n",
            "Data columns (total 21 columns):\n",
            " #   Column          Non-Null Count  Dtype  \n",
            "---  ------          --------------  -----  \n",
            " 0   age             41188 non-null  int64  \n",
            " 1   job             41188 non-null  object \n",
            " 2   marital         41188 non-null  object \n",
            " 3   education       41188 non-null  object \n",
            " 4   default         41188 non-null  object \n",
            " 5   housing         41188 non-null  object \n",
            " 6   loan            41188 non-null  object \n",
            " 7   contact         41188 non-null  object \n",
            " 8   month           41188 non-null  object \n",
            " 9   day_of_week     41188 non-null  object \n",
            " 10  duration        41188 non-null  int64  \n",
            " 11  campaign        41188 non-null  int64  \n",
            " 12  pdays           41188 non-null  int64  \n",
            " 13  previous        41188 non-null  int64  \n",
            " 14  poutcome        41188 non-null  object \n",
            " 15  emp.var.rate    41188 non-null  float64\n",
            " 16  cons.price.idx  41188 non-null  float64\n",
            " 17  cons.conf.idx   41188 non-null  float64\n",
            " 18  euribor3m       41188 non-null  float64\n",
            " 19  nr.employed     41188 non-null  float64\n",
            " 20  y               41188 non-null  int64  \n",
            "dtypes: float64(5), int64(6), object(10)\n",
            "memory usage: 6.6+ MB\n"
          ]
        }
      ],
      "source": [
        "df.info()"
      ]
    },
    {
      "cell_type": "code",
      "execution_count": 9,
      "metadata": {
        "id": "zAexqVqtC-p9"
      },
      "outputs": [],
      "source": [
        "#merubah nama kolom agar lebih mudah dipahami\n",
        "df = df.rename({'y' : 'deposit', 'default' : 'credit'}, axis=1)"
      ]
    },
    {
      "cell_type": "code",
      "execution_count": 10,
      "metadata": {
        "colab": {
          "base_uri": "https://localhost:8080/",
          "height": 280
        },
        "id": "cH9Y3DPPjGgH",
        "outputId": "e83ed8ac-3e6c-43a5-997c-35979fd47498"
      },
      "outputs": [
        {
          "data": {
            "text/plain": [
              "<matplotlib.axes._subplots.AxesSubplot at 0x7f11c8cf2ad0>"
            ]
          },
          "execution_count": 10,
          "metadata": {},
          "output_type": "execute_result"
        },
        {
          "data": {
            "image/png": "[encoded data removed]",
            "text/plain": [
              "<Figure size 432x288 with 1 Axes>"
            ]
          },
          "metadata": {
            "needs_background": "light"
          },
          "output_type": "display_data"
        }
      ],
      "source": [
        "df.deposit.value_counts().plot(kind='bar')"
      ]
    },
    {
      "cell_type": "markdown",
      "metadata": {
        "id": "TZRImj_wjRbf"
      },
      "source": [
        "> Data imbalance antara deposit dan tidak deposit"
      ]
    },
    {
      "cell_type": "markdown",
      "metadata": {
        "id": "Eps3ZGuxj3qL"
      },
      "source": [
        "## Distribusi Data Dari Kolom Numeric"
      ]
    },
    {
      "cell_type": "code",
      "execution_count": 11,
      "metadata": {
        "colab": {
          "base_uri": "https://localhost:8080/",
          "height": 878
        },
        "id": "iIMc8r1Gj65z",
        "outputId": "5278112d-5d96-473a-a6c0-fa904f9161fa"
      },
      "outputs": [
        {
          "data": {
            "image/png": "[encoded data removed]",
            "text/plain": [
              "<Figure size 1080x1080 with 12 Axes>"
            ]
          },
          "metadata": {
            "needs_background": "light"
          },
          "output_type": "display_data"
        }
      ],
      "source": [
        "df_numeric = df.select_dtypes(include=np.number)\n",
        "columns = df_numeric.columns\n",
        "df_numeric = PowerTransformer().fit_transform(df_numeric)\n",
        "df_numeric = pd.DataFrame(df_numeric, columns= columns)\n",
        "df_numeric.hist(bins=15, figsize=(15,15), color='blue');"
      ]
    },
    {
      "cell_type": "markdown",
      "metadata": {
        "id": "CMap5aUdhhYN"
      },
      "source": [
        "> - tidak ada data yang terdistribusi dengan normal\n",
        "> - data imbalance antara target yes dengan no"
      ]
    },
    {
      "cell_type": "markdown",
      "metadata": {
        "id": "U1KigJCPIpXm"
      },
      "source": [
        "## Cardinality"
      ]
    },
    {
      "cell_type": "code",
      "execution_count": 12,
      "metadata": {
        "colab": {
          "base_uri": "https://localhost:8080/"
        },
        "id": "1WjnbVdJIqen",
        "outputId": "d64415db-e05c-4913-ed44-1daaef357907"
      },
      "outputs": [
        {
          "name": "stdout",
          "output_type": "stream",
          "text": [
            "jumlah cardinality pada kolom job :  12\n",
            "jumlah cardinality pada kolom marital :  4\n",
            "jumlah cardinality pada kolom education :  8\n",
            "jumlah cardinality pada kolom credit :  3\n",
            "jumlah cardinality pada kolom housing :  3\n",
            "jumlah cardinality pada kolom loan :  3\n",
            "jumlah cardinality pada kolom contact :  2\n",
            "jumlah cardinality pada kolom month :  10\n",
            "jumlah cardinality pada kolom day_of_week :  5\n",
            "jumlah cardinality pada kolom poutcome :  3\n"
          ]
        }
      ],
      "source": [
        "cardinal = df.select_dtypes(include='object')\n",
        "for uniq in cardinal : \n",
        "  print(f'jumlah cardinality pada kolom {uniq} : ',len(cardinal[uniq].unique()))"
      ]
    },
    {
      "cell_type": "markdown",
      "metadata": {
        "id": "wvykJo0YghMM"
      },
      "source": [
        "Cardinality terbanyak ada pada kolom job, month, dan education. Namun kolom bulan tidak dapat dilakukan pengelompokan/pengurangan cardinality. Maka akan dilakukan untuk mengurangi cardinality pada kolom education & job saja."
      ]
    },
    {
      "cell_type": "code",
      "execution_count": 13,
      "metadata": {
        "colab": {
          "base_uri": "https://localhost:8080/"
        },
        "id": "ebnmX8V3Itww",
        "outputId": "9afb4d09-310e-442a-fca0-8e62560b64b4"
      },
      "outputs": [
        {
          "data": {
            "text/plain": [
              "university.degree      12168\n",
              "high.school             9515\n",
              "basic.9y                6045\n",
              "professional.course     5243\n",
              "basic.4y                4176\n",
              "basic.6y                2292\n",
              "unknown                 1731\n",
              "illiterate                18\n",
              "Name: education, dtype: int64"
            ]
          },
          "execution_count": 13,
          "metadata": {},
          "output_type": "execute_result"
        }
      ],
      "source": [
        "#cek unique value dari kolom education\n",
        "df.education.value_counts()"
      ]
    },
    {
      "cell_type": "code",
      "execution_count": 14,
      "metadata": {
        "colab": {
          "base_uri": "https://localhost:8080/"
        },
        "id": "247ul5o0IwuO",
        "outputId": "8a55f6d8-3f5b-4af1-b923-60b819ef8a3f"
      },
      "outputs": [
        {
          "data": {
            "text/plain": [
              "admin.           10422\n",
              "blue-collar       9254\n",
              "technician        6743\n",
              "services          3969\n",
              "management        2924\n",
              "retired           1720\n",
              "entrepreneur      1456\n",
              "self-employed     1421\n",
              "housemaid         1060\n",
              "unemployed        1014\n",
              "student            875\n",
              "unknown            330\n",
              "Name: job, dtype: int64"
            ]
          },
          "execution_count": 14,
          "metadata": {},
          "output_type": "execute_result"
        }
      ],
      "source": [
        "#cek unqiue value dari kolom job\n",
        "df.job.value_counts()"
      ]
    },
    {
      "cell_type": "markdown",
      "metadata": {
        "id": "kxyI3cSYI0VE"
      },
      "source": [
        "> Cardinality pada kolom job & education masih bisa disederhanakan berdasarkan sumber berikut :\n",
        "\n",
        ">> Kolom job akan dikelompokan berdasarkan [collarnya](https://en.wikipedia.org/wiki/Designation_of_workers_by_collar_color)\n",
        "\n",
        ">> Kolom education akan dikelompokan menjadi basic saja https://en.wikipedia.org/wiki/Education_in_Portugal"
      ]
    },
    {
      "cell_type": "code",
      "execution_count": 15,
      "metadata": {
        "colab": {
          "base_uri": "https://localhost:8080/"
        },
        "id": "XT7NBgzydkUv",
        "outputId": "b090b942-0a67-4e6c-f5d3-a13a81683b00"
      },
      "outputs": [
        {
          "data": {
            "text/plain": [
              "university.degree      12168\n",
              "high.school             9515\n",
              "basic.9y                6045\n",
              "professional.course     5243\n",
              "basic.4y                4176\n",
              "basic.6y                2292\n",
              "unknown                 1731\n",
              "illiterate                18\n",
              "Name: education, dtype: int64"
            ]
          },
          "execution_count": 15,
          "metadata": {},
          "output_type": "execute_result"
        }
      ],
      "source": [
        "df.education.value_counts()"
      ]
    },
    {
      "cell_type": "code",
      "execution_count": 16,
      "metadata": {
        "id": "CzAw4tplI4Yx"
      },
      "outputs": [],
      "source": [
        "df['education'].replace({'basic.4y' : 'basic.education', #pengelompokan kolom education\n",
        "                          'basic.9y' : 'basic.education', \n",
        "                         'basic.6y' : 'basic.education'    \n",
        "}, inplace=True)\n",
        "\n",
        "df['collar'] = df['job'].replace({ 'admin.' : 'white collar', 'blue-collar' : 'blue collar', #pengelompokan kolom job\n",
        "                                  'technician' : 'grey collar','services' : 'pink collar',\n",
        "                                  'management' : 'white collar', 'entrepreneur' :'white collar',\n",
        "                                  'self-employed' : 'white collar', 'housemaid' : 'blue collar',\n",
        "                                  'student' : 'unemployed'\n",
        "                                  })"
      ]
    },
    {
      "cell_type": "markdown",
      "metadata": {
        "id": "1u1DrQcGWaqO"
      },
      "source": [
        "## Korelasi Feature Dengan label"
      ]
    },
    {
      "cell_type": "code",
      "execution_count": 17,
      "metadata": {
        "id": "1DufrEx3NZuC"
      },
      "outputs": [],
      "source": [
        "_df = df.copy() #korelasi dilihat dengan menggunakan data frame yg berbeda agar tidak merusak dataset yg asli\n",
        "_df[['housing','loan','credit']] = (_df[['housing','loan','credit']] == 'yes').astype(int)\n",
        " #housing, loan, dan credit dirubah menjadi angka 0/1 agar dapat dilihat relasinya dengan kolom target"
      ]
    },
    {
      "cell_type": "code",
      "execution_count": 18,
      "metadata": {
        "colab": {
          "base_uri": "https://localhost:8080/",
          "height": 685
        },
        "id": "2VgR3r1mFPbH",
        "outputId": "9939e39f-53eb-4842-9f80-5c95d3cb2cb2"
      },
      "outputs": [
        {
          "data": {
            "text/plain": [
              "Text(0.5, 1.0, 'Korelasi Feature Terhadap Target (Deposit)')"
            ]
          },
          "execution_count": 18,
          "metadata": {},
          "output_type": "execute_result"
        },
        {
          "data": {
            "image/png": "[encoded data removed]",
            "text/plain": [
              "<Figure size 1080x720 with 1 Axes>"
            ]
          },
          "metadata": {
            "needs_background": "light"
          },
          "output_type": "display_data"
        }
      ],
      "source": [
        "plt.subplots(figsize=(15, 10))\n",
        "_corr = _df.corr()['deposit'].sort_values()\n",
        "_corr.plot(kind='bar')\n",
        "plt.xticks(rotation=45)\n",
        "plt.grid()\n",
        "plt.xlabel('Kolom Pada Dataset')\n",
        "plt.ylabel('Nilai Korelasi')\n",
        "plt.title('Korelasi Feature Terhadap Target (Deposit)')\n"
      ]
    },
    {
      "cell_type": "markdown",
      "metadata": {
        "id": "a397CpiLFXNR"
      },
      "source": [
        "> Berdasarkan plot correlation, yang berkorelasi dengan deposit adalah nr.employed, pdays, euribor3m, emp.var.rat, cons.price.idx, campaign, age, cons.conf.idx, previous, & duration"
      ]
    },
    {
      "cell_type": "markdown",
      "metadata": {
        "id": "RrDM_ulkEJbZ"
      },
      "source": [
        "## Korelasi Antar Feature"
      ]
    },
    {
      "cell_type": "code",
      "execution_count": 19,
      "metadata": {
        "colab": {
          "base_uri": "https://localhost:8080/",
          "height": 618
        },
        "id": "VXKHjojlELKi",
        "outputId": "6d708d26-212c-4ba2-a886-9d45298cdfaf"
      },
      "outputs": [
        {
          "data": {
            "text/plain": [
              "<matplotlib.axes._subplots.AxesSubplot at 0x7f11c81b8b10>"
            ]
          },
          "execution_count": 19,
          "metadata": {},
          "output_type": "execute_result"
        },
        {
          "data": {
            "image/png": "[encoded data removed]",
            "text/plain": [
              "<Figure size 1080x648 with 2 Axes>"
            ]
          },
          "metadata": {
            "needs_background": "light"
          },
          "output_type": "display_data"
        }
      ],
      "source": [
        "plt.figure(figsize=(15,9))\n",
        "sns.heatmap(_df.corr().abs())"
      ]
    },
    {
      "cell_type": "markdown",
      "metadata": {
        "id": "-uIIcC7lh1_C"
      },
      "source": [
        "> - Semakin terang kotak pada plot menunjukkan bahwa kolom tersebut menunjukkan angka yang sama yang menunjukkan bahwa kolom ini tidak independen. Pada heatmap kali ini, semua feature sudah independen karena tidak ada yang menunjukkan warna dengan terang yang sama.\n",
        "> - Kolom yang lain tidak menunjukkan korelasi, berarti setiap kolom pada data ini adalah independent.\n",
        "> - Kolom yang berwarna gelap berarti kolom tersebut tidak memiliki korelasi (sangat rendah) terhadap kolom target (deposit)"
      ]
    },
    {
      "cell_type": "markdown",
      "metadata": {
        "id": "1L99ZAkSQi8b"
      },
      "source": [
        "## Korelasi Tingkat Edukasi Dengan Deposit"
      ]
    },
    {
      "cell_type": "code",
      "execution_count": 20,
      "metadata": {
        "colab": {
          "base_uri": "https://localhost:8080/",
          "height": 454
        },
        "id": "OgufDWYqpXyr",
        "outputId": "6c63d6d2-550d-4961-93b0-09c6737c2072"
      },
      "outputs": [
        {
          "data": {
            "text/plain": [
              "Text(0, 0.5, 'Rata-Rata Client Yang Deposit')"
            ]
          },
          "execution_count": 20,
          "metadata": {},
          "output_type": "execute_result"
        },
        {
          "data": {
            "image/png": "[encoded data removed]",
            "text/plain": [
              "<Figure size 720x360 with 1 Axes>"
            ]
          },
          "metadata": {
            "needs_background": "light"
          },
          "output_type": "display_data"
        }
      ],
      "source": [
        "educ = df.groupby('education').mean()['deposit'].sort_values(ascending=False).plot(kind='bar', figsize=(10,5),\n",
        "                                                                            title = 'Rata-rata jumlah client yang deposit berdasarkan pendidikan')\n",
        "educ.set_xlabel('Tingkat Pendidikan')\n",
        "educ.set_ylabel('Rata-Rata Client Yang Deposit')\n",
        "#menggunakan .mean() agar yang di-plot adalah rata-rata orang yang melakukan deposit (karena nilai yes bernilai 1)"
      ]
    },
    {
      "cell_type": "markdown",
      "metadata": {
        "id": "qIuqrQnhiOrE"
      },
      "source": [
        "> Secara Urutan, yang memiliki kemungkinan lebih besar untuk melakukan deposit adalah illiterate, unknown, university degree, professional curse, highschool, dan basic education"
      ]
    },
    {
      "cell_type": "markdown",
      "metadata": {
        "id": "mZ299ZbobRVE"
      },
      "source": [
        "Jika dilakukan pengurutan, apakah kolom education akan memiliki kontribusi tinggi terhadap fitur? "
      ]
    },
    {
      "cell_type": "code",
      "execution_count": 21,
      "metadata": {
        "id": "1mCkwdwWbX6v"
      },
      "outputs": [],
      "source": [
        "df['educ_'] = df['education'].replace({\n",
        "    'basic.education' : 1,\n",
        "    'high.school' : 2,\n",
        "    'professional.course' : 3,\n",
        "    'university.degree' : 4,\n",
        "    'unknown' : 5,\n",
        "    'illiterate':6,\n",
        "})"
      ]
    },
    {
      "cell_type": "code",
      "execution_count": 22,
      "metadata": {
        "colab": {
          "base_uri": "https://localhost:8080/"
        },
        "id": "5H0vg8exbvPj",
        "outputId": "d8062766-dcf3-47e9-ed48-e4696a473782"
      },
      "outputs": [
        {
          "data": {
            "text/plain": [
              "nr.employed      -0.354678\n",
              "pdays            -0.324914\n",
              "euribor3m        -0.307771\n",
              "emp.var.rate     -0.298334\n",
              "cons.price.idx   -0.136211\n",
              "campaign         -0.066357\n",
              "age               0.030399\n",
              "cons.conf.idx     0.054878\n",
              "educ_             0.064668\n",
              "previous          0.230181\n",
              "duration          0.405274\n",
              "deposit           1.000000\n",
              "Name: deposit, dtype: float64"
            ]
          },
          "execution_count": 22,
          "metadata": {},
          "output_type": "execute_result"
        }
      ],
      "source": [
        "df.corr()['deposit'].sort_values()"
      ]
    },
    {
      "cell_type": "markdown",
      "metadata": {
        "id": "jWDy0xJsb3Ck"
      },
      "source": [
        "> Kolom education hanya memiliki korelasi sebesar 0.06 (kecil). Artinya, tingkat pendidikan client tidak mempengaruhi keputusan client untuk melakukan deposit meskipun sudah diurutkan"
      ]
    },
    {
      "cell_type": "markdown",
      "metadata": {
        "id": "m86zzswmQqTO"
      },
      "source": [
        "## Korelasi Deposit Dengan Pekerjaan"
      ]
    },
    {
      "cell_type": "code",
      "execution_count": 23,
      "metadata": {
        "colab": {
          "base_uri": "https://localhost:8080/",
          "height": 404
        },
        "id": "hS_M2wjknlD7",
        "outputId": "f5509e88-eb34-4348-e520-83d8f8a64e2d"
      },
      "outputs": [
        {
          "data": {
            "text/plain": [
              "Text(0, 0.5, 'Rata-Rata Client Yang Deposit')"
            ]
          },
          "execution_count": 23,
          "metadata": {},
          "output_type": "execute_result"
        },
        {
          "data": {
            "image/png": "[encoded data removed]",
            "text/plain": [
              "<Figure size 720x360 with 1 Axes>"
            ]
          },
          "metadata": {
            "needs_background": "light"
          },
          "output_type": "display_data"
        }
      ],
      "source": [
        "jobs = df.groupby('collar').mean()['deposit'].sort_values(ascending=False).plot(kind='bar', figsize=(10,5))\n",
        "jobs.set_xlabel('Collar Pekerjaan')\n",
        "jobs.set_ylabel('Rata-Rata Client Yang Deposit')\n",
        "#menggunakan .mean() agar yang di-plot adalah rata-rata orang yang melakukan deposit (karena nilai deposit bernilai 1)"
      ]
    },
    {
      "cell_type": "markdown",
      "metadata": {
        "id": "V7oupGL4kgDQ"
      },
      "source": [
        "> Dilihat dari gambarnya, pekerjaan yang cenderung memiliki probabilitas untuk melakukan deposit adalah `student, retired, unemployed, white collar, unknown,grey collar, pink collar, dan terakhir blue collar`. Namun hanya pekerjaan `admin` yang memiliki probabilitas terbesar  utnuk melakukan deposit"
      ]
    },
    {
      "cell_type": "markdown",
      "metadata": {
        "id": "b30V6y_rcKug"
      },
      "source": [
        "apakah kolom job akan berkorelasi tinggi pada deposit jika dilakukan peng-urutan?"
      ]
    },
    {
      "cell_type": "code",
      "execution_count": 24,
      "metadata": {
        "id": "LpS7ynC_cVo3"
      },
      "outputs": [],
      "source": [
        "df['job_']=df['collar'].replace({\n",
        "    'blue collar': 1,\n",
        "    'pink collar' : 2,\n",
        "    'grey collar' : 3,\n",
        "    'unknown' : 4,\n",
        "    'white collar' : 5,\n",
        "    'unemployed' : 6,\n",
        "    'retired' : 7\n",
        "    })"
      ]
    },
    {
      "cell_type": "code",
      "execution_count": 25,
      "metadata": {
        "colab": {
          "base_uri": "https://localhost:8080/"
        },
        "id": "gQonSp08c0dr",
        "outputId": "fd12eb44-ecf1-41d1-eb55-6238d244230d"
      },
      "outputs": [
        {
          "data": {
            "text/plain": [
              "<bound method Series.sort_values of age               0.030399\n",
              "duration          0.405274\n",
              "campaign         -0.066357\n",
              "pdays            -0.324914\n",
              "previous          0.230181\n",
              "emp.var.rate     -0.298334\n",
              "cons.price.idx   -0.136211\n",
              "cons.conf.idx     0.054878\n",
              "euribor3m        -0.307771\n",
              "nr.employed      -0.354678\n",
              "deposit           1.000000\n",
              "educ_             0.064668\n",
              "job_              0.114374\n",
              "Name: deposit, dtype: float64>"
            ]
          },
          "execution_count": 25,
          "metadata": {},
          "output_type": "execute_result"
        }
      ],
      "source": [
        "df.corr()['deposit'].sort_values"
      ]
    },
    {
      "cell_type": "markdown",
      "metadata": {
        "id": "F-ZXGy2vdD6F"
      },
      "source": [
        "> Kolom job memiliki korelasi yang besar setelah diurutkan yaitu 0.1 terhadap target. Artinya, pekerjaan client akan berpengaruh pada keputusan client untuk deposit/tidak"
      ]
    },
    {
      "cell_type": "markdown",
      "metadata": {
        "id": "PEv-uKdzQ7iq"
      },
      "source": [
        "## Korelasi Deposit Dengan Status Perkawinan"
      ]
    },
    {
      "cell_type": "code",
      "execution_count": 26,
      "metadata": {
        "colab": {
          "base_uri": "https://localhost:8080/",
          "height": 386
        },
        "id": "RjA6Krp-Q-kZ",
        "outputId": "993b3deb-2ed7-4b63-fddf-cb5c4046d36b"
      },
      "outputs": [
        {
          "data": {
            "text/plain": [
              "Text(0, 0.5, 'Rata-Rata Client Yang Deposit')"
            ]
          },
          "execution_count": 26,
          "metadata": {},
          "output_type": "execute_result"
        },
        {
          "data": {
            "image/png": "[encoded data removed]",
            "text/plain": [
              "<Figure size 720x360 with 1 Axes>"
            ]
          },
          "metadata": {
            "needs_background": "light"
          },
          "output_type": "display_data"
        }
      ],
      "source": [
        "marital = df.groupby('marital').mean()['deposit'].sort_values(ascending=False).plot(kind='bar', figsize=(10,5))\n",
        "marital.set_xlabel('Status Perkawinan')\n",
        "marital.set_ylabel('Rata-Rata Client Yang Deposit')\n",
        "#menggunakan .mean() agar yang di-plot adalah rata-rata orang yang melakukan deposit (karena nilai deposit bernilai 1)"
      ]
    },
    {
      "cell_type": "markdown",
      "metadata": {
        "id": "EfFJ6GWels2-"
      },
      "source": [
        "> Dilihat dari histogramnya, client dengan status pernikahan `unknown` cenderung melakukan deposit (ada tingkatan korelasi). Namun apakah hal tersebut berpengaruh signifikan ?"
      ]
    },
    {
      "cell_type": "code",
      "execution_count": 27,
      "metadata": {
        "id": "fSdfOIhVdL66"
      },
      "outputs": [],
      "source": [
        "df['marital_'] = df['marital'].replace({\n",
        "    'married' : 1,\n",
        "    'divorced' : 2,\n",
        "    'single' : 3,\n",
        "    'unknown' :4})"
      ]
    },
    {
      "cell_type": "code",
      "execution_count": 28,
      "metadata": {
        "colab": {
          "base_uri": "https://localhost:8080/"
        },
        "id": "rQfwKxjSdXHx",
        "outputId": "730aa9ff-c46e-44e1-a79d-998dce8084d9"
      },
      "outputs": [
        {
          "data": {
            "text/plain": [
              "nr.employed      -0.354678\n",
              "pdays            -0.324914\n",
              "euribor3m        -0.307771\n",
              "emp.var.rate     -0.298334\n",
              "cons.price.idx   -0.136211\n",
              "campaign         -0.066357\n",
              "age               0.030399\n",
              "marital_          0.051717\n",
              "cons.conf.idx     0.054878\n",
              "educ_             0.064668\n",
              "job_              0.114374\n",
              "previous          0.230181\n",
              "duration          0.405274\n",
              "deposit           1.000000\n",
              "Name: deposit, dtype: float64"
            ]
          },
          "execution_count": 28,
          "metadata": {},
          "output_type": "execute_result"
        }
      ],
      "source": [
        "df.corr()['deposit'].sort_values()"
      ]
    },
    {
      "cell_type": "markdown",
      "metadata": {
        "id": "7ti8TgGadf9E"
      },
      "source": [
        "> Marital hanya memiliki korelasi sebesar 0.05 (kecil) terhadap target. Artinya status pernikahan client tidak mempengaruhi keputusan client untuk melakukan deposit"
      ]
    },
    {
      "cell_type": "markdown",
      "metadata": {
        "id": "cnMmC1gPRNZJ"
      },
      "source": [
        "## Korelasi Deposit Jenis Komunikasi"
      ]
    },
    {
      "cell_type": "code",
      "execution_count": 29,
      "metadata": {
        "colab": {
          "base_uri": "https://localhost:8080/",
          "height": 392
        },
        "id": "s7JqxoUEstMk",
        "outputId": "da97cd7f-24aa-4e87-eed3-2346609f004b"
      },
      "outputs": [
        {
          "data": {
            "text/plain": [
              "Text(0, 0.5, 'jumlah client yang melakukan deposit')"
            ]
          },
          "execution_count": 29,
          "metadata": {},
          "output_type": "execute_result"
        },
        {
          "data": {
            "image/png": "[encoded data removed]",
            "text/plain": [
              "<Figure size 1080x360 with 1 Axes>"
            ]
          },
          "metadata": {
            "needs_background": "light"
          },
          "output_type": "display_data"
        }
      ],
      "source": [
        "df.groupby('contact')['deposit'].mean().plot(kind='bar',figsize=(15,5))\n",
        "plt.xlabel('Cara Menghubungi Client')\n",
        "plt.ylabel('jumlah client yang melakukan deposit')\n",
        "#menggunakan .mean() agar yang di-plot adalah rata-rata orang yang melakukan deposit (karena nilai deposit bernilai 1)"
      ]
    },
    {
      "cell_type": "markdown",
      "metadata": {
        "id": "nxb1jiscmxD2"
      },
      "source": [
        "> Client yang dihubungi melalui cellular cenderung melakukan deposit. Namun apakah hal itu signifikan terhadap korelasinya ?"
      ]
    },
    {
      "cell_type": "code",
      "execution_count": 30,
      "metadata": {
        "id": "QqqPfrW1doo-"
      },
      "outputs": [],
      "source": [
        "#jika kolom contact diberikan tingkat\n",
        "df['contact_'] = df['contact'].replace({\n",
        "    'telephone' : 1, 'cellular' : 2\n",
        "})"
      ]
    },
    {
      "cell_type": "code",
      "execution_count": 31,
      "metadata": {
        "colab": {
          "base_uri": "https://localhost:8080/"
        },
        "id": "z0Z_YYr1dv0a",
        "outputId": "484e0662-b2da-402f-d28a-6170787c27cd"
      },
      "outputs": [
        {
          "data": {
            "text/plain": [
              "nr.employed      -0.354678\n",
              "pdays            -0.324914\n",
              "euribor3m        -0.307771\n",
              "emp.var.rate     -0.298334\n",
              "cons.price.idx   -0.136211\n",
              "campaign         -0.066357\n",
              "age               0.030399\n",
              "marital_          0.051717\n",
              "cons.conf.idx     0.054878\n",
              "educ_             0.064668\n",
              "job_              0.114374\n",
              "contact_          0.144773\n",
              "previous          0.230181\n",
              "duration          0.405274\n",
              "deposit           1.000000\n",
              "Name: deposit, dtype: float64"
            ]
          },
          "execution_count": 31,
          "metadata": {},
          "output_type": "execute_result"
        }
      ],
      "source": [
        "df.corr()['deposit'].sort_values()"
      ]
    },
    {
      "cell_type": "markdown",
      "metadata": {
        "id": "k9F3iPZsd0ol"
      },
      "source": [
        "> Kolom contact jika di urutkan tingkatannya akan berkorelasi sebesar 0.14 terhadap deposit (cukup signifikan). Artinya, cara menelpon client mempengaruhi keputusan client untuk melkaukan deposit/tidak. Hal ini kemugnkinan karena banyak client yang menjawab telepon jika menggunakan telephone."
      ]
    },
    {
      "cell_type": "markdown",
      "metadata": {
        "id": "siq0nQNHXWyi"
      },
      "source": [
        "## Korelasi Deposit Dengan Bulan Terakhir Contact"
      ]
    },
    {
      "cell_type": "code",
      "execution_count": 32,
      "metadata": {
        "colab": {
          "base_uri": "https://localhost:8080/",
          "height": 362
        },
        "id": "H9D0I8Aps1vh",
        "outputId": "4bb90aa5-695e-4471-d418-b5fe45c0412b"
      },
      "outputs": [
        {
          "data": {
            "text/plain": [
              "Text(0, 0.5, 'Rata-Rata Jumlah Client Yang Melakukan Deposit')"
            ]
          },
          "execution_count": 32,
          "metadata": {},
          "output_type": "execute_result"
        },
        {
          "data": {
            "image/png": "[encoded data removed]",
            "text/plain": [
              "<Figure size 720x360 with 1 Axes>"
            ]
          },
          "metadata": {
            "needs_background": "light"
          },
          "output_type": "display_data"
        }
      ],
      "source": [
        "df.groupby('month').mean()['deposit'].sort_values(ascending=False).plot(kind='bar', figsize=(10,5))\n",
        "plt.xlabel('Bulan')\n",
        "plt.ylabel('Rata-Rata Jumlah Client Yang Melakukan Deposit')\n",
        "#menggunakan .mean() agar yang di-plot adalah rata-rata orang yang melakukan deposit (karena nilai deposit bernilai 1)"
      ]
    },
    {
      "cell_type": "code",
      "execution_count": 33,
      "metadata": {
        "id": "6MV_rH2-eItn"
      },
      "outputs": [],
      "source": [
        "df['month_'] = df['month'].replace({\n",
        "    'may' : 1, 'jul':2,\n",
        "    'nov' :3, 'jun' : 4,\n",
        "    'aug' : 5, 'apr' : 6,\n",
        "    'oct' :7, 'sep' : 8,\n",
        "    'dec' : 9, 'mar' :10\n",
        "})"
      ]
    },
    {
      "cell_type": "code",
      "execution_count": 34,
      "metadata": {
        "colab": {
          "base_uri": "https://localhost:8080/"
        },
        "id": "9eORjndgejeQ",
        "outputId": "b5f5b022-4514-4557-db11-65dce5a54e24"
      },
      "outputs": [
        {
          "data": {
            "text/plain": [
              "nr.employed      -0.354678\n",
              "pdays            -0.324914\n",
              "euribor3m        -0.307771\n",
              "emp.var.rate     -0.298334\n",
              "cons.price.idx   -0.136211\n",
              "campaign         -0.066357\n",
              "age               0.030399\n",
              "marital_          0.051717\n",
              "cons.conf.idx     0.054878\n",
              "educ_             0.064668\n",
              "job_              0.114374\n",
              "contact_          0.144773\n",
              "month_            0.219927\n",
              "previous          0.230181\n",
              "duration          0.405274\n",
              "deposit           1.000000\n",
              "Name: deposit, dtype: float64"
            ]
          },
          "execution_count": 34,
          "metadata": {},
          "output_type": "execute_result"
        }
      ],
      "source": [
        "df.corr()['deposit'].sort_values()"
      ]
    },
    {
      "cell_type": "markdown",
      "metadata": {
        "id": "u4gSkIIGenO6"
      },
      "source": [
        "> Kolom month berkorelasi sebesar 0.2 terhadap deposit (cukup signifikan). Berarti, ada bulan-bula ntertentu dimana client akan menyetujui untuk melakukan deposit pada bank"
      ]
    },
    {
      "cell_type": "markdown",
      "metadata": {
        "id": "TToD36qqhUVU"
      },
      "source": [
        "## Korelasi Deposit Dengan Jumlah Kontak Saat Campaign Berlangsung "
      ]
    },
    {
      "cell_type": "code",
      "execution_count": 35,
      "metadata": {
        "colab": {
          "base_uri": "https://localhost:8080/",
          "height": 584
        },
        "id": "tL_5yv99hZiS",
        "outputId": "0f013150-455a-43ed-c991-126eb6bccd8e"
      },
      "outputs": [
        {
          "data": {
            "text/plain": [
              "<matplotlib.legend.Legend at 0x7f11c546d110>"
            ]
          },
          "execution_count": 35,
          "metadata": {},
          "output_type": "execute_result"
        },
        {
          "data": {
            "image/png": "[encoded data removed]",
            "text/plain": [
              "<Figure size 1080x648 with 1 Axes>"
            ]
          },
          "metadata": {
            "needs_background": "light"
          },
          "output_type": "display_data"
        }
      ],
      "source": [
        "plt.figure(figsize=(15,9))\n",
        "\n",
        "plt.hist(df[df['deposit'] == 1].campaign,\n",
        "          histtype='step', label='Deposit', bins=32, density=True)\n",
        "plt.hist(df[df['deposit'] == 0].campaign,\n",
        "          histtype='step', label='Tidak Deposit',bins=32, density=True)\n",
        "plt.title('Distribusi Deposit berdasarkan Jumlah Kontak Saat Campaign Berlangsung')\n",
        "plt.xlabel('Jumlah Contact Saat Campaign Berlangsung')\n",
        "plt.ylabel('Probabilitas Frequency')\n",
        "plt.legend()"
      ]
    },
    {
      "cell_type": "markdown",
      "metadata": {
        "id": "SUFo02FmjaoS"
      },
      "source": [
        "> Jika dilihat, campaign sebanyak 0-3x frekuensu client untuk melakukan deposit lebih banyak. Namun karena data nya imbalance dan terdistribusi right skew, maka hasil dari histogram ini tidak valid."
      ]
    },
    {
      "cell_type": "markdown",
      "metadata": {
        "id": "Yp-JsBBpgJrt"
      },
      "source": [
        "> Dilihat dari distribusi kolomnya, kebanyakan marketing melakukan campaign ke client sebanyak 1-2x saja selama campaign berlangsung.\n"
      ]
    },
    {
      "cell_type": "markdown",
      "metadata": {
        "id": "r6jYW3c89WIt"
      },
      "source": [
        "## Korelasi Deposit Dengan Kepemilikan Kartu Kredit"
      ]
    },
    {
      "cell_type": "code",
      "execution_count": 36,
      "metadata": {
        "colab": {
          "base_uri": "https://localhost:8080/",
          "height": 386
        },
        "id": "dd5wibhrtK2q",
        "outputId": "30451243-6c21-4fad-ae37-1333d89219db"
      },
      "outputs": [
        {
          "data": {
            "text/plain": [
              "Text(0, 0.5, 'Rata-Rata Jumlah Client Yang Melakukan Deposit')"
            ]
          },
          "execution_count": 36,
          "metadata": {},
          "output_type": "execute_result"
        },
        {
          "data": {
            "image/png": "[encoded data removed]",
            "text/plain": [
              "<Figure size 720x360 with 1 Axes>"
            ]
          },
          "metadata": {
            "needs_background": "light"
          },
          "output_type": "display_data"
        }
      ],
      "source": [
        "df.groupby('credit').mean()['deposit'].sort_values(ascending=False).plot(kind='bar', figsize=(10,5))\n",
        "plt.xlabel('Kepemilikan Kartu Kredit')\n",
        "plt.ylabel('Rata-Rata Jumlah Client Yang Melakukan Deposit')\n",
        "#menggunakan .mean() agar yang di-plot adalah rata-rata orang yang melakukan deposit (karena nilai deposit bernilai 1)"
      ]
    },
    {
      "cell_type": "code",
      "execution_count": 37,
      "metadata": {
        "colab": {
          "base_uri": "https://localhost:8080/"
        },
        "id": "aCEJNpsNetPX",
        "outputId": "13f2959f-2d10-4aaa-e1ac-783b553f7432"
      },
      "outputs": [
        {
          "data": {
            "text/plain": [
              "nr.employed      -0.354678\n",
              "pdays            -0.324914\n",
              "euribor3m        -0.307771\n",
              "emp.var.rate     -0.298334\n",
              "cons.price.idx   -0.136211\n",
              "campaign         -0.066357\n",
              "age               0.030399\n",
              "marital_          0.051717\n",
              "cons.conf.idx     0.054878\n",
              "educ_             0.064668\n",
              "credit_           0.099352\n",
              "job_              0.114374\n",
              "contact_          0.144773\n",
              "month_            0.219927\n",
              "previous          0.230181\n",
              "duration          0.405274\n",
              "deposit           1.000000\n",
              "Name: deposit, dtype: float64"
            ]
          },
          "execution_count": 37,
          "metadata": {},
          "output_type": "execute_result"
        }
      ],
      "source": [
        "df['credit_'] = df['credit'].replace({'yes' : 1, 'unknown' : 2,'no':3})\n",
        "df.corr()['deposit'].sort_values()"
      ]
    },
    {
      "cell_type": "markdown",
      "metadata": {
        "id": "xUzmN2rIe-o9"
      },
      "source": [
        "Jika diurutkan, kolom credit memiliki korelasi sebesar 0.1 (cukup signifikan). Artinya, client yang memiliki kartu kredit akan mempengaruhi keputusannya untuk melakukan deposit/tidak"
      ]
    },
    {
      "cell_type": "markdown",
      "metadata": {
        "id": "F0Y3uhHh9ybK"
      },
      "source": [
        "## Korelasi Deposit Dengan Hutang Rumah"
      ]
    },
    {
      "cell_type": "code",
      "execution_count": 38,
      "metadata": {
        "colab": {
          "base_uri": "https://localhost:8080/",
          "height": 386
        },
        "id": "2UECW3cdtPAy",
        "outputId": "09fb4d6e-45e3-4013-dbdd-ee9741e66358"
      },
      "outputs": [
        {
          "data": {
            "text/plain": [
              "Text(0, 0.5, 'Rata-Rata Jumlah Client Yang Melakukan Deposit')"
            ]
          },
          "execution_count": 38,
          "metadata": {},
          "output_type": "execute_result"
        },
        {
          "data": {
            "image/png": "[encoded data removed]",
            "text/plain": [
              "<Figure size 720x360 with 1 Axes>"
            ]
          },
          "metadata": {
            "needs_background": "light"
          },
          "output_type": "display_data"
        }
      ],
      "source": [
        "df.groupby('housing').mean()['deposit'].sort_values(ascending=False).plot(kind='bar', figsize=(10,5))\n",
        "plt.xlabel('Hutang Rumah')\n",
        "plt.ylabel('Rata-Rata Jumlah Client Yang Melakukan Deposit')\n",
        "#mlihat jumlah rata-rata client yang melakukan deposit berdasarkan hutang rumah\n",
        "#menggunakan .mean() agar yang di-plot adalah rata-rata orang yang melakukan deposit (karena nilai deposit bernilai 1)"
      ]
    },
    {
      "cell_type": "code",
      "execution_count": 39,
      "metadata": {
        "colab": {
          "base_uri": "https://localhost:8080/"
        },
        "id": "HxJJn-p9fJxy",
        "outputId": "cec71845-9c21-436d-bbd3-da0a42a0684f"
      },
      "outputs": [
        {
          "data": {
            "text/plain": [
              "nr.employed      -0.354678\n",
              "pdays            -0.324914\n",
              "euribor3m        -0.307771\n",
              "emp.var.rate     -0.298334\n",
              "cons.price.idx   -0.136211\n",
              "campaign         -0.066357\n",
              "housing_          0.011379\n",
              "age               0.030399\n",
              "marital_          0.051717\n",
              "cons.conf.idx     0.054878\n",
              "educ_             0.064668\n",
              "credit_           0.099352\n",
              "job_              0.114374\n",
              "contact_          0.144773\n",
              "month_            0.219927\n",
              "previous          0.230181\n",
              "duration          0.405274\n",
              "deposit           1.000000\n",
              "Name: deposit, dtype: float64"
            ]
          },
          "execution_count": 39,
          "metadata": {},
          "output_type": "execute_result"
        }
      ],
      "source": [
        "df['housing_'] = df['housing'].replace({'yes' : 3, 'unknown' : 1,'no':2})\n",
        "df.corr()['deposit'].sort_values()"
      ]
    },
    {
      "cell_type": "markdown",
      "metadata": {
        "id": "V6_qydMifRdc"
      },
      "source": [
        "> Kolom housing hanya berkorelasi sebsar 0.01 terhadap deposit (kecil). Artinya, clinet yang memiliki cicilan rumah/tidak, tidak berpengaruh pada keputusan client untuk melakukan deposit/tidak"
      ]
    },
    {
      "cell_type": "markdown",
      "metadata": {
        "id": "dYj5ClA391-5"
      },
      "source": [
        "## Korelasi Deposit Dengan Hutang Pribadi"
      ]
    },
    {
      "cell_type": "code",
      "execution_count": 40,
      "metadata": {
        "colab": {
          "base_uri": "https://localhost:8080/",
          "height": 549
        },
        "id": "mTRyM171tRtH",
        "outputId": "9f2cac3d-3a50-43bf-fe56-c288734afeb2"
      },
      "outputs": [
        {
          "data": {
            "text/plain": [
              "Text(0, 0.5, 'Rata-Rata Jumlah Client Yang Melakukan Deposit')"
            ]
          },
          "execution_count": 40,
          "metadata": {},
          "output_type": "execute_result"
        },
        {
          "data": {
            "image/png": "[encoded data removed]",
            "text/plain": [
              "<Figure size 1080x576 with 1 Axes>"
            ]
          },
          "metadata": {
            "needs_background": "light"
          },
          "output_type": "display_data"
        }
      ],
      "source": [
        "df.groupby('loan').mean()['deposit'].sort_values(ascending=False).plot(kind='bar',figsize=(15,8))\n",
        "plt.xlabel('Hutang Pribadi')\n",
        "plt.ylabel('Rata-Rata Jumlah Client Yang Melakukan Deposit')\n",
        "#menggunakan .mean() agar yang di-plot adalah rata-rata orang yang melakukan deposit (karena nilai deposit bernilai 1)"
      ]
    },
    {
      "cell_type": "code",
      "execution_count": 41,
      "metadata": {
        "colab": {
          "base_uri": "https://localhost:8080/"
        },
        "id": "SE6kmLiKfWd4",
        "outputId": "747fc71d-fe2b-4a0e-a481-901539245bea"
      },
      "outputs": [
        {
          "data": {
            "text/plain": [
              "nr.employed      -0.354678\n",
              "pdays            -0.324914\n",
              "euribor3m        -0.307771\n",
              "emp.var.rate     -0.298334\n",
              "cons.price.idx   -0.136211\n",
              "campaign         -0.066357\n",
              "loan_             0.005038\n",
              "housing_          0.011379\n",
              "age               0.030399\n",
              "marital_          0.051717\n",
              "cons.conf.idx     0.054878\n",
              "educ_             0.064668\n",
              "credit_           0.099352\n",
              "job_              0.114374\n",
              "contact_          0.144773\n",
              "month_            0.219927\n",
              "previous          0.230181\n",
              "duration          0.405274\n",
              "deposit           1.000000\n",
              "Name: deposit, dtype: float64"
            ]
          },
          "execution_count": 41,
          "metadata": {},
          "output_type": "execute_result"
        }
      ],
      "source": [
        "df['loan_'] = df['loan'].replace({'yes' : 2, 'unknown' : 1,'no':3})\n",
        "df.corr()['deposit'].sort_values()"
      ]
    },
    {
      "cell_type": "markdown",
      "metadata": {
        "id": "djIRye4SfiEK"
      },
      "source": [
        "> Kolom loan hanya berkontribusi sebesar 0.005 saja terhadap deposit ( sangat kecil). Artinya, ada/tidaknya hutang pribadi tidak akan ebrpengaruh pada keputusan client untuk dpeosit/tidak"
      ]
    },
    {
      "cell_type": "markdown",
      "metadata": {
        "id": "nU7kXFx2CE-n"
      },
      "source": [
        "## Checking on Missing Value"
      ]
    },
    {
      "cell_type": "code",
      "execution_count": 42,
      "metadata": {
        "id": "ZDZkcJkD9XcG"
      },
      "outputs": [],
      "source": [
        "columns = df.columns.tolist()\n",
        "# columns"
      ]
    },
    {
      "cell_type": "code",
      "execution_count": 43,
      "metadata": {
        "id": "LDRvYzUp9T5n"
      },
      "outputs": [],
      "source": [
        "#melakukan cek unique values pada semua kolom untuk mendeteksi missing values\n",
        "uniques = {col: df[col].unique() for col in columns}\n",
        "# uniques"
      ]
    },
    {
      "cell_type": "markdown",
      "metadata": {
        "id": "eGfZnlh59ELQ"
      },
      "source": [
        "> default, educational, housing, job, loan, marital = unknown memiliki value unknown, namun hal tersebut tidak bisa dianggap sebagai missing value karena banyaknya unknown pada masing-masing feature berbeda. Jika dilakukan imputasi/drop maka akan merubah distribusinya sehingga saya akan menagngap unknown ini sebagai data yang valid (bukan missing value)\n",
        "\n",
        "> pdays = 999 adalah tanda ketika client tersebut `tidak dihubungi` sama sekali. Karena kolom pdays memiliki arti **jumlah hari setelah client terakhir kali dikontak** maka angka 0 memiliki arti bahwa client tersebut langsung dihubungi lagi (waktu kurang dari 1 hari). Karena itu angka 999 ini tidak dapat dilakukan imputasi/replace karena akan merubah makna dari setiap value yang ada pada kolom pdays. Langkah yang akan dilakukan memasukkan angka 999 ke dalam urutan nomor sebagai angka 0, dan merubah pemahaman dimana angka 0 = tidak pernah di kontak, 1 = dikontak pada `hari itu juga`. Kolom pdays akan memiliki pergeseran makna\n",
        "\n",
        "\n",
        "\n"
      ]
    },
    {
      "cell_type": "markdown",
      "metadata": {
        "id": "22bXvRD3Hlyh"
      },
      "source": [
        "## Cek Missing Value Lebih Jauh"
      ]
    },
    {
      "cell_type": "code",
      "execution_count": 44,
      "metadata": {
        "id": "HDUt4klYIH7h"
      },
      "outputs": [],
      "source": [
        "df['housing_null'] = np.where(df.housing == 'unknown', 1, 0)\n",
        "df['loan_null'] = np.where(df.loan == 'unknown', 1,0)\n",
        "df['credit_null'] = np.where(df.credit == 'unknown', 1,0)\n",
        "df['education_null'] = np.where(df.education == 'unknown', 1,0)\n",
        "df['marital_null'] = np.where(df.marital == 'unknown', 1,0)\n",
        "df['job_null'] = np.where(df.job == 'unknown', 1,0)"
      ]
    },
    {
      "cell_type": "code",
      "execution_count": 45,
      "metadata": {
        "colab": {
          "base_uri": "https://localhost:8080/",
          "height": 741
        },
        "id": "KwGBsYUfH9f4",
        "outputId": "8b883d13-a4d7-42e7-de74-4de68e1e7282"
      },
      "outputs": [
        {
          "data": {
            "text/html": [
              "\n",
              "  <div id=\"df-568566a1-fe5f-4e4a-8bcd-656134e0ef74\">\n",
              "    <div class=\"colab-df-container\">\n",
              "      <div>\n",
              "<style scoped>\n",
              "    .dataframe tbody tr th:only-of-type {\n",
              "        vertical-align: middle;\n",
              "    }\n",
              "\n",
              "    .dataframe tbody tr th {\n",
              "        vertical-align: top;\n",
              "    }\n",
              "\n",
              "    .dataframe thead th {\n",
              "        text-align: right;\n",
              "    }\n",
              "</style>\n",
              "<table border=\"1\" class=\"dataframe\">\n",
              "  <thead>\n",
              "    <tr style=\"text-align: right;\">\n",
              "      <th></th>\n",
              "      <th>age</th>\n",
              "      <th>job</th>\n",
              "      <th>marital</th>\n",
              "      <th>education</th>\n",
              "      <th>credit</th>\n",
              "      <th>housing</th>\n",
              "      <th>loan</th>\n",
              "      <th>contact</th>\n",
              "      <th>month</th>\n",
              "      <th>day_of_week</th>\n",
              "      <th>duration</th>\n",
              "      <th>campaign</th>\n",
              "      <th>pdays</th>\n",
              "      <th>previous</th>\n",
              "      <th>poutcome</th>\n",
              "      <th>emp.var.rate</th>\n",
              "      <th>cons.price.idx</th>\n",
              "      <th>cons.conf.idx</th>\n",
              "      <th>euribor3m</th>\n",
              "      <th>nr.employed</th>\n",
              "      <th>deposit</th>\n",
              "      <th>collar</th>\n",
              "      <th>educ_</th>\n",
              "      <th>job_</th>\n",
              "      <th>marital_</th>\n",
              "      <th>contact_</th>\n",
              "      <th>month_</th>\n",
              "      <th>credit_</th>\n",
              "      <th>housing_</th>\n",
              "      <th>loan_</th>\n",
              "      <th>housing_null</th>\n",
              "      <th>loan_null</th>\n",
              "      <th>credit_null</th>\n",
              "      <th>education_null</th>\n",
              "      <th>marital_null</th>\n",
              "      <th>job_null</th>\n",
              "    </tr>\n",
              "  </thead>\n",
              "  <tbody>\n",
              "    <tr>\n",
              "      <th>32811</th>\n",
              "      <td>34</td>\n",
              "      <td>admin.</td>\n",
              "      <td>unknown</td>\n",
              "      <td>university.degree</td>\n",
              "      <td>no</td>\n",
              "      <td>yes</td>\n",
              "      <td>yes</td>\n",
              "      <td>cellular</td>\n",
              "      <td>may</td>\n",
              "      <td>mon</td>\n",
              "      <td>56</td>\n",
              "      <td>1</td>\n",
              "      <td>999</td>\n",
              "      <td>1</td>\n",
              "      <td>failure</td>\n",
              "      <td>-1.8</td>\n",
              "      <td>92.893</td>\n",
              "      <td>-46.2</td>\n",
              "      <td>1.299</td>\n",
              "      <td>5099.1</td>\n",
              "      <td>0</td>\n",
              "      <td>white collar</td>\n",
              "      <td>4</td>\n",
              "      <td>5</td>\n",
              "      <td>4</td>\n",
              "      <td>2</td>\n",
              "      <td>1</td>\n",
              "      <td>3</td>\n",
              "      <td>3</td>\n",
              "      <td>2</td>\n",
              "      <td>0</td>\n",
              "      <td>0</td>\n",
              "      <td>0</td>\n",
              "      <td>0</td>\n",
              "      <td>1</td>\n",
              "      <td>0</td>\n",
              "    </tr>\n",
              "    <tr>\n",
              "      <th>32815</th>\n",
              "      <td>34</td>\n",
              "      <td>admin.</td>\n",
              "      <td>unknown</td>\n",
              "      <td>university.degree</td>\n",
              "      <td>no</td>\n",
              "      <td>yes</td>\n",
              "      <td>no</td>\n",
              "      <td>cellular</td>\n",
              "      <td>may</td>\n",
              "      <td>mon</td>\n",
              "      <td>304</td>\n",
              "      <td>1</td>\n",
              "      <td>999</td>\n",
              "      <td>1</td>\n",
              "      <td>failure</td>\n",
              "      <td>-1.8</td>\n",
              "      <td>92.893</td>\n",
              "      <td>-46.2</td>\n",
              "      <td>1.299</td>\n",
              "      <td>5099.1</td>\n",
              "      <td>0</td>\n",
              "      <td>white collar</td>\n",
              "      <td>4</td>\n",
              "      <td>5</td>\n",
              "      <td>4</td>\n",
              "      <td>2</td>\n",
              "      <td>1</td>\n",
              "      <td>3</td>\n",
              "      <td>3</td>\n",
              "      <td>3</td>\n",
              "      <td>0</td>\n",
              "      <td>0</td>\n",
              "      <td>0</td>\n",
              "      <td>0</td>\n",
              "      <td>1</td>\n",
              "      <td>0</td>\n",
              "    </tr>\n",
              "    <tr>\n",
              "      <th>32999</th>\n",
              "      <td>34</td>\n",
              "      <td>admin.</td>\n",
              "      <td>unknown</td>\n",
              "      <td>university.degree</td>\n",
              "      <td>no</td>\n",
              "      <td>yes</td>\n",
              "      <td>no</td>\n",
              "      <td>cellular</td>\n",
              "      <td>may</td>\n",
              "      <td>mon</td>\n",
              "      <td>447</td>\n",
              "      <td>2</td>\n",
              "      <td>999</td>\n",
              "      <td>0</td>\n",
              "      <td>nonexistent</td>\n",
              "      <td>-1.8</td>\n",
              "      <td>92.893</td>\n",
              "      <td>-46.2</td>\n",
              "      <td>1.299</td>\n",
              "      <td>5099.1</td>\n",
              "      <td>0</td>\n",
              "      <td>white collar</td>\n",
              "      <td>4</td>\n",
              "      <td>5</td>\n",
              "      <td>4</td>\n",
              "      <td>2</td>\n",
              "      <td>1</td>\n",
              "      <td>3</td>\n",
              "      <td>3</td>\n",
              "      <td>3</td>\n",
              "      <td>0</td>\n",
              "      <td>0</td>\n",
              "      <td>0</td>\n",
              "      <td>0</td>\n",
              "      <td>1</td>\n",
              "      <td>0</td>\n",
              "    </tr>\n",
              "    <tr>\n",
              "      <th>33315</th>\n",
              "      <td>35</td>\n",
              "      <td>blue-collar</td>\n",
              "      <td>unknown</td>\n",
              "      <td>basic.education</td>\n",
              "      <td>no</td>\n",
              "      <td>no</td>\n",
              "      <td>no</td>\n",
              "      <td>telephone</td>\n",
              "      <td>may</td>\n",
              "      <td>tue</td>\n",
              "      <td>81</td>\n",
              "      <td>5</td>\n",
              "      <td>999</td>\n",
              "      <td>0</td>\n",
              "      <td>nonexistent</td>\n",
              "      <td>-1.8</td>\n",
              "      <td>92.893</td>\n",
              "      <td>-46.2</td>\n",
              "      <td>1.291</td>\n",
              "      <td>5099.1</td>\n",
              "      <td>0</td>\n",
              "      <td>blue collar</td>\n",
              "      <td>1</td>\n",
              "      <td>1</td>\n",
              "      <td>4</td>\n",
              "      <td>1</td>\n",
              "      <td>1</td>\n",
              "      <td>3</td>\n",
              "      <td>2</td>\n",
              "      <td>3</td>\n",
              "      <td>0</td>\n",
              "      <td>0</td>\n",
              "      <td>0</td>\n",
              "      <td>0</td>\n",
              "      <td>1</td>\n",
              "      <td>0</td>\n",
              "    </tr>\n",
              "    <tr>\n",
              "      <th>33353</th>\n",
              "      <td>35</td>\n",
              "      <td>services</td>\n",
              "      <td>unknown</td>\n",
              "      <td>high.school</td>\n",
              "      <td>no</td>\n",
              "      <td>no</td>\n",
              "      <td>no</td>\n",
              "      <td>cellular</td>\n",
              "      <td>may</td>\n",
              "      <td>tue</td>\n",
              "      <td>516</td>\n",
              "      <td>1</td>\n",
              "      <td>999</td>\n",
              "      <td>1</td>\n",
              "      <td>failure</td>\n",
              "      <td>-1.8</td>\n",
              "      <td>92.893</td>\n",
              "      <td>-46.2</td>\n",
              "      <td>1.291</td>\n",
              "      <td>5099.1</td>\n",
              "      <td>0</td>\n",
              "      <td>pink collar</td>\n",
              "      <td>2</td>\n",
              "      <td>2</td>\n",
              "      <td>4</td>\n",
              "      <td>2</td>\n",
              "      <td>1</td>\n",
              "      <td>3</td>\n",
              "      <td>2</td>\n",
              "      <td>3</td>\n",
              "      <td>0</td>\n",
              "      <td>0</td>\n",
              "      <td>0</td>\n",
              "      <td>0</td>\n",
              "      <td>1</td>\n",
              "      <td>0</td>\n",
              "    </tr>\n",
              "    <tr>\n",
              "      <th>34410</th>\n",
              "      <td>52</td>\n",
              "      <td>blue-collar</td>\n",
              "      <td>unknown</td>\n",
              "      <td>basic.education</td>\n",
              "      <td>no</td>\n",
              "      <td>no</td>\n",
              "      <td>no</td>\n",
              "      <td>cellular</td>\n",
              "      <td>may</td>\n",
              "      <td>thu</td>\n",
              "      <td>1180</td>\n",
              "      <td>1</td>\n",
              "      <td>999</td>\n",
              "      <td>0</td>\n",
              "      <td>nonexistent</td>\n",
              "      <td>-1.8</td>\n",
              "      <td>92.893</td>\n",
              "      <td>-46.2</td>\n",
              "      <td>1.266</td>\n",
              "      <td>5099.1</td>\n",
              "      <td>1</td>\n",
              "      <td>blue collar</td>\n",
              "      <td>1</td>\n",
              "      <td>1</td>\n",
              "      <td>4</td>\n",
              "      <td>2</td>\n",
              "      <td>1</td>\n",
              "      <td>3</td>\n",
              "      <td>2</td>\n",
              "      <td>3</td>\n",
              "      <td>0</td>\n",
              "      <td>0</td>\n",
              "      <td>0</td>\n",
              "      <td>0</td>\n",
              "      <td>1</td>\n",
              "      <td>0</td>\n",
              "    </tr>\n",
              "    <tr>\n",
              "      <th>34423</th>\n",
              "      <td>30</td>\n",
              "      <td>student</td>\n",
              "      <td>unknown</td>\n",
              "      <td>basic.education</td>\n",
              "      <td>no</td>\n",
              "      <td>no</td>\n",
              "      <td>no</td>\n",
              "      <td>cellular</td>\n",
              "      <td>may</td>\n",
              "      <td>thu</td>\n",
              "      <td>155</td>\n",
              "      <td>1</td>\n",
              "      <td>999</td>\n",
              "      <td>2</td>\n",
              "      <td>failure</td>\n",
              "      <td>-1.8</td>\n",
              "      <td>92.893</td>\n",
              "      <td>-46.2</td>\n",
              "      <td>1.266</td>\n",
              "      <td>5099.1</td>\n",
              "      <td>0</td>\n",
              "      <td>unemployed</td>\n",
              "      <td>1</td>\n",
              "      <td>6</td>\n",
              "      <td>4</td>\n",
              "      <td>2</td>\n",
              "      <td>1</td>\n",
              "      <td>3</td>\n",
              "      <td>2</td>\n",
              "      <td>3</td>\n",
              "      <td>0</td>\n",
              "      <td>0</td>\n",
              "      <td>0</td>\n",
              "      <td>0</td>\n",
              "      <td>1</td>\n",
              "      <td>0</td>\n",
              "    </tr>\n",
              "    <tr>\n",
              "      <th>34698</th>\n",
              "      <td>52</td>\n",
              "      <td>blue-collar</td>\n",
              "      <td>unknown</td>\n",
              "      <td>basic.education</td>\n",
              "      <td>no</td>\n",
              "      <td>unknown</td>\n",
              "      <td>unknown</td>\n",
              "      <td>cellular</td>\n",
              "      <td>may</td>\n",
              "      <td>thu</td>\n",
              "      <td>610</td>\n",
              "      <td>3</td>\n",
              "      <td>999</td>\n",
              "      <td>0</td>\n",
              "      <td>nonexistent</td>\n",
              "      <td>-1.8</td>\n",
              "      <td>92.893</td>\n",
              "      <td>-46.2</td>\n",
              "      <td>1.266</td>\n",
              "      <td>5099.1</td>\n",
              "      <td>0</td>\n",
              "      <td>blue collar</td>\n",
              "      <td>1</td>\n",
              "      <td>1</td>\n",
              "      <td>4</td>\n",
              "      <td>2</td>\n",
              "      <td>1</td>\n",
              "      <td>3</td>\n",
              "      <td>1</td>\n",
              "      <td>1</td>\n",
              "      <td>1</td>\n",
              "      <td>1</td>\n",
              "      <td>0</td>\n",
              "      <td>0</td>\n",
              "      <td>1</td>\n",
              "      <td>0</td>\n",
              "    </tr>\n",
              "    <tr>\n",
              "      <th>35876</th>\n",
              "      <td>29</td>\n",
              "      <td>admin.</td>\n",
              "      <td>unknown</td>\n",
              "      <td>university.degree</td>\n",
              "      <td>no</td>\n",
              "      <td>no</td>\n",
              "      <td>no</td>\n",
              "      <td>cellular</td>\n",
              "      <td>may</td>\n",
              "      <td>fri</td>\n",
              "      <td>264</td>\n",
              "      <td>2</td>\n",
              "      <td>999</td>\n",
              "      <td>1</td>\n",
              "      <td>failure</td>\n",
              "      <td>-1.8</td>\n",
              "      <td>92.893</td>\n",
              "      <td>-46.2</td>\n",
              "      <td>1.259</td>\n",
              "      <td>5099.1</td>\n",
              "      <td>0</td>\n",
              "      <td>white collar</td>\n",
              "      <td>4</td>\n",
              "      <td>5</td>\n",
              "      <td>4</td>\n",
              "      <td>2</td>\n",
              "      <td>1</td>\n",
              "      <td>3</td>\n",
              "      <td>2</td>\n",
              "      <td>3</td>\n",
              "      <td>0</td>\n",
              "      <td>0</td>\n",
              "      <td>0</td>\n",
              "      <td>0</td>\n",
              "      <td>1</td>\n",
              "      <td>0</td>\n",
              "    </tr>\n",
              "    <tr>\n",
              "      <th>36316</th>\n",
              "      <td>32</td>\n",
              "      <td>blue-collar</td>\n",
              "      <td>unknown</td>\n",
              "      <td>basic.education</td>\n",
              "      <td>no</td>\n",
              "      <td>yes</td>\n",
              "      <td>no</td>\n",
              "      <td>cellular</td>\n",
              "      <td>jun</td>\n",
              "      <td>mon</td>\n",
              "      <td>314</td>\n",
              "      <td>1</td>\n",
              "      <td>999</td>\n",
              "      <td>0</td>\n",
              "      <td>nonexistent</td>\n",
              "      <td>-2.9</td>\n",
              "      <td>92.963</td>\n",
              "      <td>-40.8</td>\n",
              "      <td>1.266</td>\n",
              "      <td>5076.2</td>\n",
              "      <td>1</td>\n",
              "      <td>blue collar</td>\n",
              "      <td>1</td>\n",
              "      <td>1</td>\n",
              "      <td>4</td>\n",
              "      <td>2</td>\n",
              "      <td>4</td>\n",
              "      <td>3</td>\n",
              "      <td>3</td>\n",
              "      <td>3</td>\n",
              "      <td>0</td>\n",
              "      <td>0</td>\n",
              "      <td>0</td>\n",
              "      <td>0</td>\n",
              "      <td>1</td>\n",
              "      <td>0</td>\n",
              "    </tr>\n",
              "    <tr>\n",
              "      <th>36380</th>\n",
              "      <td>37</td>\n",
              "      <td>unemployed</td>\n",
              "      <td>unknown</td>\n",
              "      <td>university.degree</td>\n",
              "      <td>no</td>\n",
              "      <td>no</td>\n",
              "      <td>no</td>\n",
              "      <td>cellular</td>\n",
              "      <td>jun</td>\n",
              "      <td>tue</td>\n",
              "      <td>100</td>\n",
              "      <td>1</td>\n",
              "      <td>999</td>\n",
              "      <td>0</td>\n",
              "      <td>nonexistent</td>\n",
              "      <td>-2.9</td>\n",
              "      <td>92.963</td>\n",
              "      <td>-40.8</td>\n",
              "      <td>1.262</td>\n",
              "      <td>5076.2</td>\n",
              "      <td>0</td>\n",
              "      <td>unemployed</td>\n",
              "      <td>4</td>\n",
              "      <td>6</td>\n",
              "      <td>4</td>\n",
              "      <td>2</td>\n",
              "      <td>4</td>\n",
              "      <td>3</td>\n",
              "      <td>2</td>\n",
              "      <td>3</td>\n",
              "      <td>0</td>\n",
              "      <td>0</td>\n",
              "      <td>0</td>\n",
              "      <td>0</td>\n",
              "      <td>1</td>\n",
              "      <td>0</td>\n",
              "    </tr>\n",
              "    <tr>\n",
              "      <th>36434</th>\n",
              "      <td>33</td>\n",
              "      <td>housemaid</td>\n",
              "      <td>unknown</td>\n",
              "      <td>university.degree</td>\n",
              "      <td>no</td>\n",
              "      <td>no</td>\n",
              "      <td>no</td>\n",
              "      <td>cellular</td>\n",
              "      <td>jun</td>\n",
              "      <td>tue</td>\n",
              "      <td>77</td>\n",
              "      <td>3</td>\n",
              "      <td>999</td>\n",
              "      <td>0</td>\n",
              "      <td>nonexistent</td>\n",
              "      <td>-2.9</td>\n",
              "      <td>92.963</td>\n",
              "      <td>-40.8</td>\n",
              "      <td>1.262</td>\n",
              "      <td>5076.2</td>\n",
              "      <td>0</td>\n",
              "      <td>blue collar</td>\n",
              "      <td>4</td>\n",
              "      <td>1</td>\n",
              "      <td>4</td>\n",
              "      <td>2</td>\n",
              "      <td>4</td>\n",
              "      <td>3</td>\n",
              "      <td>2</td>\n",
              "      <td>3</td>\n",
              "      <td>0</td>\n",
              "      <td>0</td>\n",
              "      <td>0</td>\n",
              "      <td>0</td>\n",
              "      <td>1</td>\n",
              "      <td>0</td>\n",
              "    </tr>\n",
              "    <tr>\n",
              "      <th>37258</th>\n",
              "      <td>27</td>\n",
              "      <td>blue-collar</td>\n",
              "      <td>unknown</td>\n",
              "      <td>high.school</td>\n",
              "      <td>no</td>\n",
              "      <td>no</td>\n",
              "      <td>no</td>\n",
              "      <td>cellular</td>\n",
              "      <td>aug</td>\n",
              "      <td>fri</td>\n",
              "      <td>192</td>\n",
              "      <td>1</td>\n",
              "      <td>4</td>\n",
              "      <td>1</td>\n",
              "      <td>success</td>\n",
              "      <td>-2.9</td>\n",
              "      <td>92.201</td>\n",
              "      <td>-31.4</td>\n",
              "      <td>0.881</td>\n",
              "      <td>5076.2</td>\n",
              "      <td>1</td>\n",
              "      <td>blue collar</td>\n",
              "      <td>2</td>\n",
              "      <td>1</td>\n",
              "      <td>4</td>\n",
              "      <td>2</td>\n",
              "      <td>5</td>\n",
              "      <td>3</td>\n",
              "      <td>2</td>\n",
              "      <td>3</td>\n",
              "      <td>0</td>\n",
              "      <td>0</td>\n",
              "      <td>0</td>\n",
              "      <td>0</td>\n",
              "      <td>1</td>\n",
              "      <td>0</td>\n",
              "    </tr>\n",
              "    <tr>\n",
              "      <th>37387</th>\n",
              "      <td>66</td>\n",
              "      <td>retired</td>\n",
              "      <td>unknown</td>\n",
              "      <td>basic.education</td>\n",
              "      <td>no</td>\n",
              "      <td>yes</td>\n",
              "      <td>no</td>\n",
              "      <td>cellular</td>\n",
              "      <td>aug</td>\n",
              "      <td>wed</td>\n",
              "      <td>340</td>\n",
              "      <td>2</td>\n",
              "      <td>999</td>\n",
              "      <td>0</td>\n",
              "      <td>nonexistent</td>\n",
              "      <td>-2.9</td>\n",
              "      <td>92.201</td>\n",
              "      <td>-31.4</td>\n",
              "      <td>0.879</td>\n",
              "      <td>5076.2</td>\n",
              "      <td>0</td>\n",
              "      <td>retired</td>\n",
              "      <td>1</td>\n",
              "      <td>7</td>\n",
              "      <td>4</td>\n",
              "      <td>2</td>\n",
              "      <td>5</td>\n",
              "      <td>3</td>\n",
              "      <td>3</td>\n",
              "      <td>3</td>\n",
              "      <td>0</td>\n",
              "      <td>0</td>\n",
              "      <td>0</td>\n",
              "      <td>0</td>\n",
              "      <td>1</td>\n",
              "      <td>0</td>\n",
              "    </tr>\n",
              "    <tr>\n",
              "      <th>37425</th>\n",
              "      <td>66</td>\n",
              "      <td>retired</td>\n",
              "      <td>unknown</td>\n",
              "      <td>basic.education</td>\n",
              "      <td>no</td>\n",
              "      <td>yes</td>\n",
              "      <td>no</td>\n",
              "      <td>cellular</td>\n",
              "      <td>aug</td>\n",
              "      <td>wed</td>\n",
              "      <td>810</td>\n",
              "      <td>3</td>\n",
              "      <td>999</td>\n",
              "      <td>2</td>\n",
              "      <td>failure</td>\n",
              "      <td>-2.9</td>\n",
              "      <td>92.201</td>\n",
              "      <td>-31.4</td>\n",
              "      <td>0.879</td>\n",
              "      <td>5076.2</td>\n",
              "      <td>1</td>\n",
              "      <td>retired</td>\n",
              "      <td>1</td>\n",
              "      <td>7</td>\n",
              "      <td>4</td>\n",
              "      <td>2</td>\n",
              "      <td>5</td>\n",
              "      <td>3</td>\n",
              "      <td>3</td>\n",
              "      <td>3</td>\n",
              "      <td>0</td>\n",
              "      <td>0</td>\n",
              "      <td>0</td>\n",
              "      <td>0</td>\n",
              "      <td>1</td>\n",
              "      <td>0</td>\n",
              "    </tr>\n",
              "    <tr>\n",
              "      <th>38550</th>\n",
              "      <td>31</td>\n",
              "      <td>entrepreneur</td>\n",
              "      <td>unknown</td>\n",
              "      <td>university.degree</td>\n",
              "      <td>no</td>\n",
              "      <td>no</td>\n",
              "      <td>no</td>\n",
              "      <td>cellular</td>\n",
              "      <td>oct</td>\n",
              "      <td>thu</td>\n",
              "      <td>164</td>\n",
              "      <td>1</td>\n",
              "      <td>999</td>\n",
              "      <td>0</td>\n",
              "      <td>nonexistent</td>\n",
              "      <td>-3.4</td>\n",
              "      <td>92.431</td>\n",
              "      <td>-26.9</td>\n",
              "      <td>0.722</td>\n",
              "      <td>5017.5</td>\n",
              "      <td>1</td>\n",
              "      <td>white collar</td>\n",
              "      <td>4</td>\n",
              "      <td>5</td>\n",
              "      <td>4</td>\n",
              "      <td>2</td>\n",
              "      <td>7</td>\n",
              "      <td>3</td>\n",
              "      <td>2</td>\n",
              "      <td>3</td>\n",
              "      <td>0</td>\n",
              "      <td>0</td>\n",
              "      <td>0</td>\n",
              "      <td>0</td>\n",
              "      <td>1</td>\n",
              "      <td>0</td>\n",
              "    </tr>\n",
              "    <tr>\n",
              "      <th>38579</th>\n",
              "      <td>31</td>\n",
              "      <td>entrepreneur</td>\n",
              "      <td>unknown</td>\n",
              "      <td>university.degree</td>\n",
              "      <td>no</td>\n",
              "      <td>yes</td>\n",
              "      <td>no</td>\n",
              "      <td>telephone</td>\n",
              "      <td>oct</td>\n",
              "      <td>thu</td>\n",
              "      <td>157</td>\n",
              "      <td>4</td>\n",
              "      <td>999</td>\n",
              "      <td>1</td>\n",
              "      <td>failure</td>\n",
              "      <td>-3.4</td>\n",
              "      <td>92.431</td>\n",
              "      <td>-26.9</td>\n",
              "      <td>0.722</td>\n",
              "      <td>5017.5</td>\n",
              "      <td>0</td>\n",
              "      <td>white collar</td>\n",
              "      <td>4</td>\n",
              "      <td>5</td>\n",
              "      <td>4</td>\n",
              "      <td>1</td>\n",
              "      <td>7</td>\n",
              "      <td>3</td>\n",
              "      <td>3</td>\n",
              "      <td>3</td>\n",
              "      <td>0</td>\n",
              "      <td>0</td>\n",
              "      <td>0</td>\n",
              "      <td>0</td>\n",
              "      <td>1</td>\n",
              "      <td>0</td>\n",
              "    </tr>\n",
              "    <tr>\n",
              "      <th>39322</th>\n",
              "      <td>30</td>\n",
              "      <td>technician</td>\n",
              "      <td>unknown</td>\n",
              "      <td>university.degree</td>\n",
              "      <td>no</td>\n",
              "      <td>no</td>\n",
              "      <td>no</td>\n",
              "      <td>cellular</td>\n",
              "      <td>mar</td>\n",
              "      <td>mon</td>\n",
              "      <td>977</td>\n",
              "      <td>2</td>\n",
              "      <td>11</td>\n",
              "      <td>2</td>\n",
              "      <td>success</td>\n",
              "      <td>-1.8</td>\n",
              "      <td>93.369</td>\n",
              "      <td>-34.8</td>\n",
              "      <td>0.639</td>\n",
              "      <td>5008.7</td>\n",
              "      <td>1</td>\n",
              "      <td>grey collar</td>\n",
              "      <td>4</td>\n",
              "      <td>3</td>\n",
              "      <td>4</td>\n",
              "      <td>2</td>\n",
              "      <td>10</td>\n",
              "      <td>3</td>\n",
              "      <td>2</td>\n",
              "      <td>3</td>\n",
              "      <td>0</td>\n",
              "      <td>0</td>\n",
              "      <td>0</td>\n",
              "      <td>0</td>\n",
              "      <td>1</td>\n",
              "      <td>0</td>\n",
              "    </tr>\n",
              "    <tr>\n",
              "      <th>39323</th>\n",
              "      <td>30</td>\n",
              "      <td>technician</td>\n",
              "      <td>unknown</td>\n",
              "      <td>university.degree</td>\n",
              "      <td>no</td>\n",
              "      <td>no</td>\n",
              "      <td>no</td>\n",
              "      <td>cellular</td>\n",
              "      <td>mar</td>\n",
              "      <td>mon</td>\n",
              "      <td>173</td>\n",
              "      <td>2</td>\n",
              "      <td>6</td>\n",
              "      <td>2</td>\n",
              "      <td>success</td>\n",
              "      <td>-1.8</td>\n",
              "      <td>93.369</td>\n",
              "      <td>-34.8</td>\n",
              "      <td>0.639</td>\n",
              "      <td>5008.7</td>\n",
              "      <td>1</td>\n",
              "      <td>grey collar</td>\n",
              "      <td>4</td>\n",
              "      <td>3</td>\n",
              "      <td>4</td>\n",
              "      <td>2</td>\n",
              "      <td>10</td>\n",
              "      <td>3</td>\n",
              "      <td>2</td>\n",
              "      <td>3</td>\n",
              "      <td>0</td>\n",
              "      <td>0</td>\n",
              "      <td>0</td>\n",
              "      <td>0</td>\n",
              "      <td>1</td>\n",
              "      <td>0</td>\n",
              "    </tr>\n",
              "    <tr>\n",
              "      <th>40857</th>\n",
              "      <td>30</td>\n",
              "      <td>technician</td>\n",
              "      <td>unknown</td>\n",
              "      <td>university.degree</td>\n",
              "      <td>no</td>\n",
              "      <td>no</td>\n",
              "      <td>no</td>\n",
              "      <td>cellular</td>\n",
              "      <td>oct</td>\n",
              "      <td>fri</td>\n",
              "      <td>131</td>\n",
              "      <td>2</td>\n",
              "      <td>16</td>\n",
              "      <td>1</td>\n",
              "      <td>success</td>\n",
              "      <td>-1.1</td>\n",
              "      <td>94.601</td>\n",
              "      <td>-49.5</td>\n",
              "      <td>0.942</td>\n",
              "      <td>4963.6</td>\n",
              "      <td>0</td>\n",
              "      <td>grey collar</td>\n",
              "      <td>4</td>\n",
              "      <td>3</td>\n",
              "      <td>4</td>\n",
              "      <td>2</td>\n",
              "      <td>7</td>\n",
              "      <td>3</td>\n",
              "      <td>2</td>\n",
              "      <td>3</td>\n",
              "      <td>0</td>\n",
              "      <td>0</td>\n",
              "      <td>0</td>\n",
              "      <td>0</td>\n",
              "      <td>1</td>\n",
              "      <td>0</td>\n",
              "    </tr>\n",
              "  </tbody>\n",
              "</table>\n",
              "</div>\n",
              "      <button class=\"colab-df-convert\" onclick=\"convertToInteractive('df-568566a1-fe5f-4e4a-8bcd-656134e0ef74')\"\n",
              "              title=\"Convert this dataframe to an interactive table.\"\n",
              "              style=\"display:none;\">\n",
              "        \n",
              "  <svg xmlns=\"http://www.w3.org/2000/svg\" height=\"24px\"viewBox=\"0 0 24 24\"\n",
              "       width=\"24px\">\n",
              "    <path d=\"M0 0h24v24H0V0z\" fill=\"none\"/>\n",
              "    <path d=\"M18.56 5.44l.94 2.06.94-2.06 2.06-.94-2.06-.94-.94-2.06-.94 2.06-2.06.94zm-11 1L8.5 8.5l.94-2.06 2.06-.94-2.06-.94L8.5 2.5l-.94 2.06-2.06.94zm10 10l.94 2.06.94-2.06 2.06-.94-2.06-.94-.94-2.06-.94 2.06-2.06.94z\"/><path d=\"M17.41 7.96l-1.37-1.37c-.4-.4-.92-.59-1.43-.59-.52 0-1.04.2-1.43.59L10.3 9.45l-7.72 7.72c-.78.78-.78 2.05 0 2.83L4 21.41c.39.39.9.59 1.41.59.51 0 1.02-.2 1.41-.59l7.78-7.78 2.81-2.81c.8-.78.8-2.07 0-2.86zM5.41 20L4 18.59l7.72-7.72 1.47 1.35L5.41 20z\"/>\n",
              "  </svg>\n",
              "      </button>\n",
              "      \n",
              "  <style>\n",
              "    .colab-df-container {\n",
              "      display:flex;\n",
              "      flex-wrap:wrap;\n",
              "      gap: 12px;\n",
              "    }\n",
              "\n",
              "    .colab-df-convert {\n",
              "      background-color: #E8F0FE;\n",
              "      border: none;\n",
              "      border-radius: 50%;\n",
              "      cursor: pointer;\n",
              "      display: none;\n",
              "      fill: #1967D2;\n",
              "      height: 32px;\n",
              "      padding: 0 0 0 0;\n",
              "      width: 32px;\n",
              "    }\n",
              "\n",
              "    .colab-df-convert:hover {\n",
              "      background-color: #E2EBFA;\n",
              "      box-shadow: 0px 1px 2px rgba(60, 64, 67, 0.3), 0px 1px 3px 1px rgba(60, 64, 67, 0.15);\n",
              "      fill: #174EA6;\n",
              "    }\n",
              "\n",
              "    [theme=dark] .colab-df-convert {\n",
              "      background-color: #3B4455;\n",
              "      fill: #D2E3FC;\n",
              "    }\n",
              "\n",
              "    [theme=dark] .colab-df-convert:hover {\n",
              "      background-color: #434B5C;\n",
              "      box-shadow: 0px 1px 3px 1px rgba(0, 0, 0, 0.15);\n",
              "      filter: drop-shadow(0px 1px 2px rgba(0, 0, 0, 0.3));\n",
              "      fill: #FFFFFF;\n",
              "    }\n",
              "  </style>\n",
              "\n",
              "      <script>\n",
              "        const buttonEl =\n",
              "          document.querySelector('#df-568566a1-fe5f-4e4a-8bcd-656134e0ef74 button.colab-df-convert');\n",
              "        buttonEl.style.display =\n",
              "          google.colab.kernel.accessAllowed ? 'block' : 'none';\n",
              "\n",
              "        async function convertToInteractive(key) {\n",
              "          const element = document.querySelector('#df-568566a1-fe5f-4e4a-8bcd-656134e0ef74');\n",
              "          const dataTable =\n",
              "            await google.colab.kernel.invokeFunction('convertToInteractive',\n",
              "                                                     [key], {});\n",
              "          if (!dataTable) return;\n",
              "\n",
              "          const docLinkHtml = 'Like what you see? Visit the ' +\n",
              "            '<a target=\"_blank\" href=https://colab.research.google.com/notebooks/data_table.ipynb>data table notebook</a>'\n",
              "            + ' to learn more about interactive tables.';\n",
              "          element.innerHTML = '';\n",
              "          dataTable['output_type'] = 'display_data';\n",
              "          await google.colab.output.renderOutput(dataTable, element);\n",
              "          const docLink = document.createElement('div');\n",
              "          docLink.innerHTML = docLinkHtml;\n",
              "          element.appendChild(docLink);\n",
              "        }\n",
              "      </script>\n",
              "    </div>\n",
              "  </div>\n",
              "  "
            ],
            "text/plain": [
              "       age           job  marital          education credit  housing     loan  \\\n",
              "32811   34        admin.  unknown  university.degree     no      yes      yes   \n",
              "32815   34        admin.  unknown  university.degree     no      yes       no   \n",
              "32999   34        admin.  unknown  university.degree     no      yes       no   \n",
              "33315   35   blue-collar  unknown    basic.education     no       no       no   \n",
              "33353   35      services  unknown        high.school     no       no       no   \n",
              "34410   52   blue-collar  unknown    basic.education     no       no       no   \n",
              "34423   30       student  unknown    basic.education     no       no       no   \n",
              "34698   52   blue-collar  unknown    basic.education     no  unknown  unknown   \n",
              "35876   29        admin.  unknown  university.degree     no       no       no   \n",
              "36316   32   blue-collar  unknown    basic.education     no      yes       no   \n",
              "36380   37    unemployed  unknown  university.degree     no       no       no   \n",
              "36434   33     housemaid  unknown  university.degree     no       no       no   \n",
              "37258   27   blue-collar  unknown        high.school     no       no       no   \n",
              "37387   66       retired  unknown    basic.education     no      yes       no   \n",
              "37425   66       retired  unknown    basic.education     no      yes       no   \n",
              "38550   31  entrepreneur  unknown  university.degree     no       no       no   \n",
              "38579   31  entrepreneur  unknown  university.degree     no      yes       no   \n",
              "39322   30    technician  unknown  university.degree     no       no       no   \n",
              "39323   30    technician  unknown  university.degree     no       no       no   \n",
              "40857   30    technician  unknown  university.degree     no       no       no   \n",
              "\n",
              "         contact month day_of_week  duration  campaign  pdays  previous  \\\n",
              "32811   cellular   may         mon        56         1    999         1   \n",
              "32815   cellular   may         mon       304         1    999         1   \n",
              "32999   cellular   may         mon       447         2    999         0   \n",
              "33315  telephone   may         tue        81         5    999         0   \n",
              "33353   cellular   may         tue       516         1    999         1   \n",
              "34410   cellular   may         thu      1180         1    999         0   \n",
              "34423   cellular   may         thu       155         1    999         2   \n",
              "34698   cellular   may         thu       610         3    999         0   \n",
              "35876   cellular   may         fri       264         2    999         1   \n",
              "36316   cellular   jun         mon       314         1    999         0   \n",
              "36380   cellular   jun         tue       100         1    999         0   \n",
              "36434   cellular   jun         tue        77         3    999         0   \n",
              "37258   cellular   aug         fri       192         1      4         1   \n",
              "37387   cellular   aug         wed       340         2    999         0   \n",
              "37425   cellular   aug         wed       810         3    999         2   \n",
              "38550   cellular   oct         thu       164         1    999         0   \n",
              "38579  telephone   oct         thu       157         4    999         1   \n",
              "39322   cellular   mar         mon       977         2     11         2   \n",
              "39323   cellular   mar         mon       173         2      6         2   \n",
              "40857   cellular   oct         fri       131         2     16         1   \n",
              "\n",
              "          poutcome  emp.var.rate  cons.price.idx  cons.conf.idx  euribor3m  \\\n",
              "32811      failure          -1.8          92.893          -46.2      1.299   \n",
              "32815      failure          -1.8          92.893          -46.2      1.299   \n",
              "32999  nonexistent          -1.8          92.893          -46.2      1.299   \n",
              "33315  nonexistent          -1.8          92.893          -46.2      1.291   \n",
              "33353      failure          -1.8          92.893          -46.2      1.291   \n",
              "34410  nonexistent          -1.8          92.893          -46.2      1.266   \n",
              "34423      failure          -1.8          92.893          -46.2      1.266   \n",
              "34698  nonexistent          -1.8          92.893          -46.2      1.266   \n",
              "35876      failure          -1.8          92.893          -46.2      1.259   \n",
              "36316  nonexistent          -2.9          92.963          -40.8      1.266   \n",
              "36380  nonexistent          -2.9          92.963          -40.8      1.262   \n",
              "36434  nonexistent          -2.9          92.963          -40.8      1.262   \n",
              "37258      success          -2.9          92.201          -31.4      0.881   \n",
              "37387  nonexistent          -2.9          92.201          -31.4      0.879   \n",
              "37425      failure          -2.9          92.201          -31.4      0.879   \n",
              "38550  nonexistent          -3.4          92.431          -26.9      0.722   \n",
              "38579      failure          -3.4          92.431          -26.9      0.722   \n",
              "39322      success          -1.8          93.369          -34.8      0.639   \n",
              "39323      success          -1.8          93.369          -34.8      0.639   \n",
              "40857      success          -1.1          94.601          -49.5      0.942   \n",
              "\n",
              "       nr.employed  deposit        collar  educ_  job_  marital_  contact_  \\\n",
              "32811       5099.1        0  white collar      4     5         4         2   \n",
              "32815       5099.1        0  white collar      4     5         4         2   \n",
              "32999       5099.1        0  white collar      4     5         4         2   \n",
              "33315       5099.1        0   blue collar      1     1         4         1   \n",
              "33353       5099.1        0   pink collar      2     2         4         2   \n",
              "34410       5099.1        1   blue collar      1     1         4         2   \n",
              "34423       5099.1        0    unemployed      1     6         4         2   \n",
              "34698       5099.1        0   blue collar      1     1         4         2   \n",
              "35876       5099.1        0  white collar      4     5         4         2   \n",
              "36316       5076.2        1   blue collar      1     1         4         2   \n",
              "36380       5076.2        0    unemployed      4     6         4         2   \n",
              "36434       5076.2        0   blue collar      4     1         4         2   \n",
              "37258       5076.2        1   blue collar      2     1         4         2   \n",
              "37387       5076.2        0       retired      1     7         4         2   \n",
              "37425       5076.2        1       retired      1     7         4         2   \n",
              "38550       5017.5        1  white collar      4     5         4         2   \n",
              "38579       5017.5        0  white collar      4     5         4         1   \n",
              "39322       5008.7        1   grey collar      4     3         4         2   \n",
              "39323       5008.7        1   grey collar      4     3         4         2   \n",
              "40857       4963.6        0   grey collar      4     3         4         2   \n",
              "\n",
              "       month_  credit_  housing_  loan_  housing_null  loan_null  credit_null  \\\n",
              "32811       1        3         3      2             0          0            0   \n",
              "32815       1        3         3      3             0          0            0   \n",
              "32999       1        3         3      3             0          0            0   \n",
              "33315       1        3         2      3             0          0            0   \n",
              "33353       1        3         2      3             0          0            0   \n",
              "34410       1        3         2      3             0          0            0   \n",
              "34423       1        3         2      3             0          0            0   \n",
              "34698       1        3         1      1             1          1            0   \n",
              "35876       1        3         2      3             0          0            0   \n",
              "36316       4        3         3      3             0          0            0   \n",
              "36380       4        3         2      3             0          0            0   \n",
              "36434       4        3         2      3             0          0            0   \n",
              "37258       5        3         2      3             0          0            0   \n",
              "37387       5        3         3      3             0          0            0   \n",
              "37425       5        3         3      3             0          0            0   \n",
              "38550       7        3         2      3             0          0            0   \n",
              "38579       7        3         3      3             0          0            0   \n",
              "39322      10        3         2      3             0          0            0   \n",
              "39323      10        3         2      3             0          0            0   \n",
              "40857       7        3         2      3             0          0            0   \n",
              "\n",
              "       education_null  marital_null  job_null  \n",
              "32811               0             1         0  \n",
              "32815               0             1         0  \n",
              "32999               0             1         0  \n",
              "33315               0             1         0  \n",
              "33353               0             1         0  \n",
              "34410               0             1         0  \n",
              "34423               0             1         0  \n",
              "34698               0             1         0  \n",
              "35876               0             1         0  \n",
              "36316               0             1         0  \n",
              "36380               0             1         0  \n",
              "36434               0             1         0  \n",
              "37258               0             1         0  \n",
              "37387               0             1         0  \n",
              "37425               0             1         0  \n",
              "38550               0             1         0  \n",
              "38579               0             1         0  \n",
              "39322               0             1         0  \n",
              "39323               0             1         0  \n",
              "40857               0             1         0  "
            ]
          },
          "execution_count": 45,
          "metadata": {},
          "output_type": "execute_result"
        }
      ],
      "source": [
        "df[df.marital_null==1].tail(20)"
      ]
    },
    {
      "cell_type": "markdown",
      "metadata": {
        "id": "R0S_PM0XKEjK"
      },
      "source": [
        "> Berdasarkan data ini :: \n",
        "1. jika housing nya null, maka loan nya juga null. Berarti kolom housing null diwakilkan oleh loan null. (MNAR)\n",
        "2. Jika credit nya null, education & job nya juga cenderung null (MNAR)\n",
        "3. Missing value di marital adalah missing value yang tidak bergnatung dengan missing value yang lain (MCAR)\n"
      ]
    },
    {
      "cell_type": "code",
      "execution_count": 46,
      "metadata": {
        "colab": {
          "base_uri": "https://localhost:8080/"
        },
        "id": "CqJMWJWV8-Dn",
        "outputId": "2952c053-10e0-41d8-afe5-ec73e3ad35be"
      },
      "outputs": [
        {
          "data": {
            "text/plain": [
              "housing  loan   \n",
              "unknown  unknown    990\n",
              "dtype: int64"
            ]
          },
          "execution_count": 46,
          "metadata": {},
          "output_type": "execute_result"
        }
      ],
      "source": [
        "a = df[['housing','loan']].where(df['housing'] == 'unknown')\n",
        "a.value_counts()\n",
        "#kalau value housing missing, maka value loan juga missing (MNAR)"
      ]
    },
    {
      "cell_type": "markdown",
      "metadata": {
        "id": "PJxBPExxR3JQ"
      },
      "source": [
        "# 5. Data Preprocessing"
      ]
    },
    {
      "cell_type": "markdown",
      "metadata": {
        "id": "hnXqHotBR5jR"
      },
      "source": [
        "## 5.1 Data Inference\n",
        "Data Inference adalah data yang dianggap sebagai `data saat ini`, dimana data tsb akan dimasukkan menggunakan model yang sudah dibuat"
      ]
    },
    {
      "cell_type": "code",
      "execution_count": 47,
      "metadata": {
        "id": "vyc6Crw0RXep"
      },
      "outputs": [],
      "source": [
        "df_inf = df.sample(5, random_state=15)\n",
        "df_train_test = df.drop(df_inf.index)\n",
        "\n",
        "\n",
        "df_train_test = df_train_test.reset_index(drop=True)\n",
        "df_inf = df_inf.reset_index(drop=True)"
      ]
    },
    {
      "cell_type": "code",
      "execution_count": 48,
      "metadata": {
        "id": "UIGqXu6oSJiL"
      },
      "outputs": [],
      "source": [
        "X = df_train_test.drop('deposit', axis=1)\n",
        "y = df_train_test['deposit']"
      ]
    },
    {
      "cell_type": "code",
      "execution_count": 49,
      "metadata": {
        "id": "IxkJPjeUSZ0p"
      },
      "outputs": [],
      "source": [
        "X_trainval, X_testval, y_trainval, y_testval = train_test_split(X, y, test_size=0.2, random_state=15)"
      ]
    },
    {
      "cell_type": "markdown",
      "metadata": {
        "id": "ufNvmNPJS_Io"
      },
      "source": [
        "## 5.2 Handling Outliers\n",
        "Outliers adalah data yang memiliki anomali dan perlu analisis lebih jauh untuk menentukan apakah data tersebut anomali/tidak.\n",
        "\n",
        "Pada saat melakukan EDA, didapatkan insight : \n",
        "> Rata-rata umur pada dataset ini adalah 40 tahun, perlu di cek max value pada umur\n",
        "\n",
        "> kolom campaign memiliki nilai max yang jauh dari nilai rata-ratanya, hal ini perlu di cek lebih jauh.\n",
        "\n",
        "> kolom nr.employed memiliki nilai 75% dan max yang sama, kemungkinan data ini adalah data outliers yang sudah dilakukan `capping`\n",
        "\n",
        "> kolom durasi hanya berarti ketika telepon di angkat, kolom ini tidak terlalu berfungsi dalam dataset ini\n",
        "\n",
        "> rata-rata tiap customer dikontak oleh marketing 2x (kolom campaign), perlu di cek max value pada kolom campaign\n",
        "\n",
        "> pdays 999 adalah missing value dimana tidak terdapat data pada pdays\n",
        "\n",
        "Maka disimpulkan \n",
        "\n",
        "1. Kemungkinan terdapat outliers pada kolom umur & campaign\n",
        "2. agar tidak merusak model, sebaiknya data yang menumpuk pada kolom nr.employed dihilangkan.\n",
        "2. angka 999 pada pdays bukan outliers"
      ]
    },
    {
      "cell_type": "markdown",
      "metadata": {
        "id": "UkdQ2NYiXpar"
      },
      "source": [
        "### 5.2.1 Age Outliers"
      ]
    },
    {
      "cell_type": "code",
      "execution_count": 50,
      "metadata": {
        "colab": {
          "base_uri": "https://localhost:8080/",
          "height": 364
        },
        "id": "-yf1ctpFdkV3",
        "outputId": "bb7e4e10-4cda-4f6f-8c23-75828203f2b2"
      },
      "outputs": [
        {
          "data": {
            "text/html": [
              "\n",
              "  <div id=\"df-5eb8055c-862b-4a5d-a447-6e7f9b9602fa\">\n",
              "    <div class=\"colab-df-container\">\n",
              "      <div>\n",
              "<style scoped>\n",
              "    .dataframe tbody tr th:only-of-type {\n",
              "        vertical-align: middle;\n",
              "    }\n",
              "\n",
              "    .dataframe tbody tr th {\n",
              "        vertical-align: top;\n",
              "    }\n",
              "\n",
              "    .dataframe thead th {\n",
              "        text-align: right;\n",
              "    }\n",
              "</style>\n",
              "<table border=\"1\" class=\"dataframe\">\n",
              "  <thead>\n",
              "    <tr style=\"text-align: right;\">\n",
              "      <th></th>\n",
              "      <th>age</th>\n",
              "      <th>duration</th>\n",
              "      <th>campaign</th>\n",
              "      <th>pdays</th>\n",
              "      <th>previous</th>\n",
              "      <th>emp.var.rate</th>\n",
              "      <th>cons.price.idx</th>\n",
              "      <th>cons.conf.idx</th>\n",
              "      <th>euribor3m</th>\n",
              "      <th>nr.employed</th>\n",
              "      <th>deposit</th>\n",
              "      <th>educ_</th>\n",
              "      <th>job_</th>\n",
              "      <th>marital_</th>\n",
              "      <th>contact_</th>\n",
              "      <th>month_</th>\n",
              "      <th>credit_</th>\n",
              "      <th>housing_</th>\n",
              "      <th>loan_</th>\n",
              "      <th>housing_null</th>\n",
              "      <th>loan_null</th>\n",
              "      <th>credit_null</th>\n",
              "      <th>education_null</th>\n",
              "      <th>marital_null</th>\n",
              "      <th>job_null</th>\n",
              "    </tr>\n",
              "  </thead>\n",
              "  <tbody>\n",
              "    <tr>\n",
              "      <th>count</th>\n",
              "      <td>41188.00000</td>\n",
              "      <td>41188.000000</td>\n",
              "      <td>41188.000000</td>\n",
              "      <td>41188.000000</td>\n",
              "      <td>41188.000000</td>\n",
              "      <td>41188.000000</td>\n",
              "      <td>41188.000000</td>\n",
              "      <td>41188.000000</td>\n",
              "      <td>41188.000000</td>\n",
              "      <td>41188.000000</td>\n",
              "      <td>41188.000000</td>\n",
              "      <td>41188.000000</td>\n",
              "      <td>41188.000000</td>\n",
              "      <td>41188.000000</td>\n",
              "      <td>41188.000000</td>\n",
              "      <td>41188.000000</td>\n",
              "      <td>41188.000000</td>\n",
              "      <td>41188.000000</td>\n",
              "      <td>41188.000000</td>\n",
              "      <td>41188.000000</td>\n",
              "      <td>41188.000000</td>\n",
              "      <td>41188.000000</td>\n",
              "      <td>41188.000000</td>\n",
              "      <td>41188.000000</td>\n",
              "      <td>41188.000000</td>\n",
              "    </tr>\n",
              "    <tr>\n",
              "      <th>mean</th>\n",
              "      <td>40.02406</td>\n",
              "      <td>258.285010</td>\n",
              "      <td>2.567593</td>\n",
              "      <td>962.475454</td>\n",
              "      <td>0.172963</td>\n",
              "      <td>0.081886</td>\n",
              "      <td>93.575664</td>\n",
              "      <td>-40.502600</td>\n",
              "      <td>3.621291</td>\n",
              "      <td>5167.035911</td>\n",
              "      <td>0.112654</td>\n",
              "      <td>2.542172</td>\n",
              "      <td>3.503205</td>\n",
              "      <td>1.679518</td>\n",
              "      <td>1.634748</td>\n",
              "      <td>3.036273</td>\n",
              "      <td>2.791128</td>\n",
              "      <td>2.499806</td>\n",
              "      <td>2.800233</td>\n",
              "      <td>0.024036</td>\n",
              "      <td>0.024036</td>\n",
              "      <td>0.208726</td>\n",
              "      <td>0.042027</td>\n",
              "      <td>0.001942</td>\n",
              "      <td>0.008012</td>\n",
              "    </tr>\n",
              "    <tr>\n",
              "      <th>std</th>\n",
              "      <td>10.42125</td>\n",
              "      <td>259.279249</td>\n",
              "      <td>2.770014</td>\n",
              "      <td>186.910907</td>\n",
              "      <td>0.494901</td>\n",
              "      <td>1.570960</td>\n",
              "      <td>0.578840</td>\n",
              "      <td>4.628198</td>\n",
              "      <td>1.734447</td>\n",
              "      <td>72.251528</td>\n",
              "      <td>0.316173</td>\n",
              "      <td>1.305421</td>\n",
              "      <td>1.873319</td>\n",
              "      <td>0.889474</td>\n",
              "      <td>0.481507</td>\n",
              "      <td>2.061041</td>\n",
              "      <td>0.406686</td>\n",
              "      <td>0.545967</td>\n",
              "      <td>0.456002</td>\n",
              "      <td>0.153163</td>\n",
              "      <td>0.153163</td>\n",
              "      <td>0.406403</td>\n",
              "      <td>0.200653</td>\n",
              "      <td>0.044029</td>\n",
              "      <td>0.089152</td>\n",
              "    </tr>\n",
              "    <tr>\n",
              "      <th>min</th>\n",
              "      <td>17.00000</td>\n",
              "      <td>0.000000</td>\n",
              "      <td>1.000000</td>\n",
              "      <td>0.000000</td>\n",
              "      <td>0.000000</td>\n",
              "      <td>-3.400000</td>\n",
              "      <td>92.201000</td>\n",
              "      <td>-50.800000</td>\n",
              "      <td>0.634000</td>\n",
              "      <td>4963.600000</td>\n",
              "      <td>0.000000</td>\n",
              "      <td>1.000000</td>\n",
              "      <td>1.000000</td>\n",
              "      <td>1.000000</td>\n",
              "      <td>1.000000</td>\n",
              "      <td>1.000000</td>\n",
              "      <td>1.000000</td>\n",
              "      <td>1.000000</td>\n",
              "      <td>1.000000</td>\n",
              "      <td>0.000000</td>\n",
              "      <td>0.000000</td>\n",
              "      <td>0.000000</td>\n",
              "      <td>0.000000</td>\n",
              "      <td>0.000000</td>\n",
              "      <td>0.000000</td>\n",
              "    </tr>\n",
              "    <tr>\n",
              "      <th>25%</th>\n",
              "      <td>32.00000</td>\n",
              "      <td>102.000000</td>\n",
              "      <td>1.000000</td>\n",
              "      <td>999.000000</td>\n",
              "      <td>0.000000</td>\n",
              "      <td>-1.800000</td>\n",
              "      <td>93.075000</td>\n",
              "      <td>-42.700000</td>\n",
              "      <td>1.344000</td>\n",
              "      <td>5099.100000</td>\n",
              "      <td>0.000000</td>\n",
              "      <td>1.000000</td>\n",
              "      <td>1.000000</td>\n",
              "      <td>1.000000</td>\n",
              "      <td>1.000000</td>\n",
              "      <td>1.000000</td>\n",
              "      <td>3.000000</td>\n",
              "      <td>2.000000</td>\n",
              "      <td>3.000000</td>\n",
              "      <td>0.000000</td>\n",
              "      <td>0.000000</td>\n",
              "      <td>0.000000</td>\n",
              "      <td>0.000000</td>\n",
              "      <td>0.000000</td>\n",
              "      <td>0.000000</td>\n",
              "    </tr>\n",
              "    <tr>\n",
              "      <th>50%</th>\n",
              "      <td>38.00000</td>\n",
              "      <td>180.000000</td>\n",
              "      <td>2.000000</td>\n",
              "      <td>999.000000</td>\n",
              "      <td>0.000000</td>\n",
              "      <td>1.100000</td>\n",
              "      <td>93.749000</td>\n",
              "      <td>-41.800000</td>\n",
              "      <td>4.857000</td>\n",
              "      <td>5191.000000</td>\n",
              "      <td>0.000000</td>\n",
              "      <td>2.000000</td>\n",
              "      <td>3.000000</td>\n",
              "      <td>1.000000</td>\n",
              "      <td>2.000000</td>\n",
              "      <td>2.000000</td>\n",
              "      <td>3.000000</td>\n",
              "      <td>3.000000</td>\n",
              "      <td>3.000000</td>\n",
              "      <td>0.000000</td>\n",
              "      <td>0.000000</td>\n",
              "      <td>0.000000</td>\n",
              "      <td>0.000000</td>\n",
              "      <td>0.000000</td>\n",
              "      <td>0.000000</td>\n",
              "    </tr>\n",
              "    <tr>\n",
              "      <th>75%</th>\n",
              "      <td>47.00000</td>\n",
              "      <td>319.000000</td>\n",
              "      <td>3.000000</td>\n",
              "      <td>999.000000</td>\n",
              "      <td>0.000000</td>\n",
              "      <td>1.400000</td>\n",
              "      <td>93.994000</td>\n",
              "      <td>-36.400000</td>\n",
              "      <td>4.961000</td>\n",
              "      <td>5228.100000</td>\n",
              "      <td>0.000000</td>\n",
              "      <td>4.000000</td>\n",
              "      <td>5.000000</td>\n",
              "      <td>3.000000</td>\n",
              "      <td>2.000000</td>\n",
              "      <td>5.000000</td>\n",
              "      <td>3.000000</td>\n",
              "      <td>3.000000</td>\n",
              "      <td>3.000000</td>\n",
              "      <td>0.000000</td>\n",
              "      <td>0.000000</td>\n",
              "      <td>0.000000</td>\n",
              "      <td>0.000000</td>\n",
              "      <td>0.000000</td>\n",
              "      <td>0.000000</td>\n",
              "    </tr>\n",
              "    <tr>\n",
              "      <th>max</th>\n",
              "      <td>98.00000</td>\n",
              "      <td>4918.000000</td>\n",
              "      <td>56.000000</td>\n",
              "      <td>999.000000</td>\n",
              "      <td>7.000000</td>\n",
              "      <td>1.400000</td>\n",
              "      <td>94.767000</td>\n",
              "      <td>-26.900000</td>\n",
              "      <td>5.045000</td>\n",
              "      <td>5228.100000</td>\n",
              "      <td>1.000000</td>\n",
              "      <td>6.000000</td>\n",
              "      <td>7.000000</td>\n",
              "      <td>4.000000</td>\n",
              "      <td>2.000000</td>\n",
              "      <td>10.000000</td>\n",
              "      <td>3.000000</td>\n",
              "      <td>3.000000</td>\n",
              "      <td>3.000000</td>\n",
              "      <td>1.000000</td>\n",
              "      <td>1.000000</td>\n",
              "      <td>1.000000</td>\n",
              "      <td>1.000000</td>\n",
              "      <td>1.000000</td>\n",
              "      <td>1.000000</td>\n",
              "    </tr>\n",
              "  </tbody>\n",
              "</table>\n",
              "</div>\n",
              "      <button class=\"colab-df-convert\" onclick=\"convertToInteractive('df-5eb8055c-862b-4a5d-a447-6e7f9b9602fa')\"\n",
              "              title=\"Convert this dataframe to an interactive table.\"\n",
              "              style=\"display:none;\">\n",
              "        \n",
              "  <svg xmlns=\"http://www.w3.org/2000/svg\" height=\"24px\"viewBox=\"0 0 24 24\"\n",
              "       width=\"24px\">\n",
              "    <path d=\"M0 0h24v24H0V0z\" fill=\"none\"/>\n",
              "    <path d=\"M18.56 5.44l.94 2.06.94-2.06 2.06-.94-2.06-.94-.94-2.06-.94 2.06-2.06.94zm-11 1L8.5 8.5l.94-2.06 2.06-.94-2.06-.94L8.5 2.5l-.94 2.06-2.06.94zm10 10l.94 2.06.94-2.06 2.06-.94-2.06-.94-.94-2.06-.94 2.06-2.06.94z\"/><path d=\"M17.41 7.96l-1.37-1.37c-.4-.4-.92-.59-1.43-.59-.52 0-1.04.2-1.43.59L10.3 9.45l-7.72 7.72c-.78.78-.78 2.05 0 2.83L4 21.41c.39.39.9.59 1.41.59.51 0 1.02-.2 1.41-.59l7.78-7.78 2.81-2.81c.8-.78.8-2.07 0-2.86zM5.41 20L4 18.59l7.72-7.72 1.47 1.35L5.41 20z\"/>\n",
              "  </svg>\n",
              "      </button>\n",
              "      \n",
              "  <style>\n",
              "    .colab-df-container {\n",
              "      display:flex;\n",
              "      flex-wrap:wrap;\n",
              "      gap: 12px;\n",
              "    }\n",
              "\n",
              "    .colab-df-convert {\n",
              "      background-color: #E8F0FE;\n",
              "      border: none;\n",
              "      border-radius: 50%;\n",
              "      cursor: pointer;\n",
              "      display: none;\n",
              "      fill: #1967D2;\n",
              "      height: 32px;\n",
              "      padding: 0 0 0 0;\n",
              "      width: 32px;\n",
              "    }\n",
              "\n",
              "    .colab-df-convert:hover {\n",
              "      background-color: #E2EBFA;\n",
              "      box-shadow: 0px 1px 2px rgba(60, 64, 67, 0.3), 0px 1px 3px 1px rgba(60, 64, 67, 0.15);\n",
              "      fill: #174EA6;\n",
              "    }\n",
              "\n",
              "    [theme=dark] .colab-df-convert {\n",
              "      background-color: #3B4455;\n",
              "      fill: #D2E3FC;\n",
              "    }\n",
              "\n",
              "    [theme=dark] .colab-df-convert:hover {\n",
              "      background-color: #434B5C;\n",
              "      box-shadow: 0px 1px 3px 1px rgba(0, 0, 0, 0.15);\n",
              "      filter: drop-shadow(0px 1px 2px rgba(0, 0, 0, 0.3));\n",
              "      fill: #FFFFFF;\n",
              "    }\n",
              "  </style>\n",
              "\n",
              "      <script>\n",
              "        const buttonEl =\n",
              "          document.querySelector('#df-5eb8055c-862b-4a5d-a447-6e7f9b9602fa button.colab-df-convert');\n",
              "        buttonEl.style.display =\n",
              "          google.colab.kernel.accessAllowed ? 'block' : 'none';\n",
              "\n",
              "        async function convertToInteractive(key) {\n",
              "          const element = document.querySelector('#df-5eb8055c-862b-4a5d-a447-6e7f9b9602fa');\n",
              "          const dataTable =\n",
              "            await google.colab.kernel.invokeFunction('convertToInteractive',\n",
              "                                                     [key], {});\n",
              "          if (!dataTable) return;\n",
              "\n",
              "          const docLinkHtml = 'Like what you see? Visit the ' +\n",
              "            '<a target=\"_blank\" href=https://colab.research.google.com/notebooks/data_table.ipynb>data table notebook</a>'\n",
              "            + ' to learn more about interactive tables.';\n",
              "          element.innerHTML = '';\n",
              "          dataTable['output_type'] = 'display_data';\n",
              "          await google.colab.output.renderOutput(dataTable, element);\n",
              "          const docLink = document.createElement('div');\n",
              "          docLink.innerHTML = docLinkHtml;\n",
              "          element.appendChild(docLink);\n",
              "        }\n",
              "      </script>\n",
              "    </div>\n",
              "  </div>\n",
              "  "
            ],
            "text/plain": [
              "               age      duration      campaign         pdays      previous  \\\n",
              "count  41188.00000  41188.000000  41188.000000  41188.000000  41188.000000   \n",
              "mean      40.02406    258.285010      2.567593    962.475454      0.172963   \n",
              "std       10.42125    259.279249      2.770014    186.910907      0.494901   \n",
              "min       17.00000      0.000000      1.000000      0.000000      0.000000   \n",
              "25%       32.00000    102.000000      1.000000    999.000000      0.000000   \n",
              "50%       38.00000    180.000000      2.000000    999.000000      0.000000   \n",
              "75%       47.00000    319.000000      3.000000    999.000000      0.000000   \n",
              "max       98.00000   4918.000000     56.000000    999.000000      7.000000   \n",
              "\n",
              "       emp.var.rate  cons.price.idx  cons.conf.idx     euribor3m  \\\n",
              "count  41188.000000    41188.000000   41188.000000  41188.000000   \n",
              "mean       0.081886       93.575664     -40.502600      3.621291   \n",
              "std        1.570960        0.578840       4.628198      1.734447   \n",
              "min       -3.400000       92.201000     -50.800000      0.634000   \n",
              "25%       -1.800000       93.075000     -42.700000      1.344000   \n",
              "50%        1.100000       93.749000     -41.800000      4.857000   \n",
              "75%        1.400000       93.994000     -36.400000      4.961000   \n",
              "max        1.400000       94.767000     -26.900000      5.045000   \n",
              "\n",
              "        nr.employed       deposit         educ_          job_      marital_  \\\n",
              "count  41188.000000  41188.000000  41188.000000  41188.000000  41188.000000   \n",
              "mean    5167.035911      0.112654      2.542172      3.503205      1.679518   \n",
              "std       72.251528      0.316173      1.305421      1.873319      0.889474   \n",
              "min     4963.600000      0.000000      1.000000      1.000000      1.000000   \n",
              "25%     5099.100000      0.000000      1.000000      1.000000      1.000000   \n",
              "50%     5191.000000      0.000000      2.000000      3.000000      1.000000   \n",
              "75%     5228.100000      0.000000      4.000000      5.000000      3.000000   \n",
              "max     5228.100000      1.000000      6.000000      7.000000      4.000000   \n",
              "\n",
              "           contact_        month_       credit_      housing_         loan_  \\\n",
              "count  41188.000000  41188.000000  41188.000000  41188.000000  41188.000000   \n",
              "mean       1.634748      3.036273      2.791128      2.499806      2.800233   \n",
              "std        0.481507      2.061041      0.406686      0.545967      0.456002   \n",
              "min        1.000000      1.000000      1.000000      1.000000      1.000000   \n",
              "25%        1.000000      1.000000      3.000000      2.000000      3.000000   \n",
              "50%        2.000000      2.000000      3.000000      3.000000      3.000000   \n",
              "75%        2.000000      5.000000      3.000000      3.000000      3.000000   \n",
              "max        2.000000     10.000000      3.000000      3.000000      3.000000   \n",
              "\n",
              "       housing_null     loan_null   credit_null  education_null  marital_null  \\\n",
              "count  41188.000000  41188.000000  41188.000000    41188.000000  41188.000000   \n",
              "mean       0.024036      0.024036      0.208726        0.042027      0.001942   \n",
              "std        0.153163      0.153163      0.406403        0.200653      0.044029   \n",
              "min        0.000000      0.000000      0.000000        0.000000      0.000000   \n",
              "25%        0.000000      0.000000      0.000000        0.000000      0.000000   \n",
              "50%        0.000000      0.000000      0.000000        0.000000      0.000000   \n",
              "75%        0.000000      0.000000      0.000000        0.000000      0.000000   \n",
              "max        1.000000      1.000000      1.000000        1.000000      1.000000   \n",
              "\n",
              "           job_null  \n",
              "count  41188.000000  \n",
              "mean       0.008012  \n",
              "std        0.089152  \n",
              "min        0.000000  \n",
              "25%        0.000000  \n",
              "50%        0.000000  \n",
              "75%        0.000000  \n",
              "max        1.000000  "
            ]
          },
          "execution_count": 50,
          "metadata": {},
          "output_type": "execute_result"
        }
      ],
      "source": [
        "df.describe()"
      ]
    },
    {
      "cell_type": "code",
      "execution_count": 51,
      "metadata": {
        "colab": {
          "base_uri": "https://localhost:8080/"
        },
        "id": "7hkQs0dGV2NW",
        "outputId": "1a5ab715-158c-4850-e601-8c4575ee54ad"
      },
      "outputs": [
        {
          "data": {
            "text/plain": [
              "count    32946.000000\n",
              "mean        40.015146\n",
              "std         10.404033\n",
              "min         17.000000\n",
              "25%         32.000000\n",
              "50%         38.000000\n",
              "75%         47.000000\n",
              "max         98.000000\n",
              "Name: age, dtype: float64"
            ]
          },
          "execution_count": 51,
          "metadata": {},
          "output_type": "execute_result"
        }
      ],
      "source": [
        "X_trainval.age.describe()"
      ]
    },
    {
      "cell_type": "code",
      "execution_count": 52,
      "metadata": {
        "colab": {
          "base_uri": "https://localhost:8080/",
          "height": 392
        },
        "id": "pI1iYL6oSjxM",
        "outputId": "ece964b8-7586-4998-fe13-63523e95395c"
      },
      "outputs": [
        {
          "data": {
            "text/plain": [
              "<matplotlib.axes._subplots.AxesSubplot at 0x7f11c528d6d0>"
            ]
          },
          "execution_count": 52,
          "metadata": {},
          "output_type": "execute_result"
        },
        {
          "data": {
            "image/png": "[encoded data removed]",
            "text/plain": [
              "<Figure size 720x432 with 1 Axes>"
            ]
          },
          "metadata": {
            "needs_background": "light"
          },
          "output_type": "display_data"
        }
      ],
      "source": [
        "plt.figure(figsize=(10, 6))\n",
        "sns.boxplot(data=X_trainval['age'])"
      ]
    },
    {
      "cell_type": "markdown",
      "metadata": {
        "id": "IZanU2gsUgUw"
      },
      "source": [
        "> Berdasarkan boxplot, dirasa tidak ada jarak yang terlalu jauh antar usia."
      ]
    },
    {
      "cell_type": "code",
      "execution_count": 53,
      "metadata": {
        "colab": {
          "base_uri": "https://localhost:8080/"
        },
        "id": "MPrLCyIvXaPU",
        "outputId": "149dcb51-dc75-4c2c-cdc2-afce3ae69d70"
      },
      "outputs": [
        {
          "data": {
            "text/plain": [
              "0    retired\n",
              "dtype: object"
            ]
          },
          "execution_count": 53,
          "metadata": {},
          "output_type": "execute_result"
        }
      ],
      "source": [
        "age_above_80 = X_trainval[X_trainval['age'] > 80]\n",
        "age_above_80['collar'].mode()"
      ]
    },
    {
      "cell_type": "markdown",
      "metadata": {
        "id": "w7HPqPw2CXxC"
      },
      "source": [
        "> Dengan pertimbangan kolom pekerjaan, terdapat orang yang memiliki title `retirement` yang dimana orang tersebut sudah lansia. Bisa dianggap bahwa kolom usia ini bukanlah outliers, melainkan merupakan hal yang normal. Begitupula data dari [sumber](https://ourworldindata.org/life-expectancy#:~:text=The%20United%20Nations%20estimate%20a,life%20expectancy%20of%2072.3%20years.) dimana usia bisa saja mencapai 80-an. Berdasarkan analisis, orang yang berusia >80 kebanyakan retired."
      ]
    },
    {
      "cell_type": "code",
      "execution_count": 54,
      "metadata": {
        "colab": {
          "base_uri": "https://localhost:8080/",
          "height": 504
        },
        "id": "7aSj_YcwCSxS",
        "outputId": "6dd89795-2128-4b4f-f793-dce3a72a1b48"
      },
      "outputs": [
        {
          "data": {
            "text/html": [
              "\n",
              "  <div id=\"df-62a9b515-301f-4385-a07f-a00995223521\">\n",
              "    <div class=\"colab-df-container\">\n",
              "      <div>\n",
              "<style scoped>\n",
              "    .dataframe tbody tr th:only-of-type {\n",
              "        vertical-align: middle;\n",
              "    }\n",
              "\n",
              "    .dataframe tbody tr th {\n",
              "        vertical-align: top;\n",
              "    }\n",
              "\n",
              "    .dataframe thead th {\n",
              "        text-align: right;\n",
              "    }\n",
              "</style>\n",
              "<table border=\"1\" class=\"dataframe\">\n",
              "  <thead>\n",
              "    <tr style=\"text-align: right;\">\n",
              "      <th></th>\n",
              "      <th>age</th>\n",
              "      <th>job</th>\n",
              "      <th>marital</th>\n",
              "      <th>education</th>\n",
              "      <th>credit</th>\n",
              "      <th>housing</th>\n",
              "      <th>loan</th>\n",
              "      <th>contact</th>\n",
              "      <th>month</th>\n",
              "      <th>day_of_week</th>\n",
              "      <th>duration</th>\n",
              "      <th>campaign</th>\n",
              "      <th>pdays</th>\n",
              "      <th>previous</th>\n",
              "      <th>poutcome</th>\n",
              "      <th>emp.var.rate</th>\n",
              "      <th>cons.price.idx</th>\n",
              "      <th>cons.conf.idx</th>\n",
              "      <th>euribor3m</th>\n",
              "      <th>nr.employed</th>\n",
              "      <th>collar</th>\n",
              "      <th>educ_</th>\n",
              "      <th>job_</th>\n",
              "      <th>marital_</th>\n",
              "      <th>contact_</th>\n",
              "      <th>month_</th>\n",
              "      <th>credit_</th>\n",
              "      <th>housing_</th>\n",
              "      <th>loan_</th>\n",
              "      <th>housing_null</th>\n",
              "      <th>loan_null</th>\n",
              "      <th>credit_null</th>\n",
              "      <th>education_null</th>\n",
              "      <th>marital_null</th>\n",
              "      <th>job_null</th>\n",
              "    </tr>\n",
              "  </thead>\n",
              "  <tbody>\n",
              "    <tr>\n",
              "      <th>38513</th>\n",
              "      <td>81</td>\n",
              "      <td>housemaid</td>\n",
              "      <td>married</td>\n",
              "      <td>basic.education</td>\n",
              "      <td>no</td>\n",
              "      <td>yes</td>\n",
              "      <td>no</td>\n",
              "      <td>cellular</td>\n",
              "      <td>oct</td>\n",
              "      <td>wed</td>\n",
              "      <td>246</td>\n",
              "      <td>2</td>\n",
              "      <td>999</td>\n",
              "      <td>0</td>\n",
              "      <td>nonexistent</td>\n",
              "      <td>-3.4</td>\n",
              "      <td>92.431</td>\n",
              "      <td>-26.9</td>\n",
              "      <td>0.724</td>\n",
              "      <td>5017.5</td>\n",
              "      <td>blue collar</td>\n",
              "      <td>1</td>\n",
              "      <td>1</td>\n",
              "      <td>1</td>\n",
              "      <td>2</td>\n",
              "      <td>7</td>\n",
              "      <td>3</td>\n",
              "      <td>3</td>\n",
              "      <td>3</td>\n",
              "      <td>0</td>\n",
              "      <td>0</td>\n",
              "      <td>0</td>\n",
              "      <td>0</td>\n",
              "      <td>0</td>\n",
              "      <td>0</td>\n",
              "    </tr>\n",
              "    <tr>\n",
              "      <th>39406</th>\n",
              "      <td>82</td>\n",
              "      <td>housemaid</td>\n",
              "      <td>divorced</td>\n",
              "      <td>basic.education</td>\n",
              "      <td>no</td>\n",
              "      <td>unknown</td>\n",
              "      <td>unknown</td>\n",
              "      <td>cellular</td>\n",
              "      <td>apr</td>\n",
              "      <td>tue</td>\n",
              "      <td>139</td>\n",
              "      <td>6</td>\n",
              "      <td>999</td>\n",
              "      <td>0</td>\n",
              "      <td>nonexistent</td>\n",
              "      <td>-1.8</td>\n",
              "      <td>93.749</td>\n",
              "      <td>-34.6</td>\n",
              "      <td>0.638</td>\n",
              "      <td>5008.7</td>\n",
              "      <td>blue collar</td>\n",
              "      <td>1</td>\n",
              "      <td>1</td>\n",
              "      <td>2</td>\n",
              "      <td>2</td>\n",
              "      <td>6</td>\n",
              "      <td>3</td>\n",
              "      <td>1</td>\n",
              "      <td>1</td>\n",
              "      <td>1</td>\n",
              "      <td>1</td>\n",
              "      <td>0</td>\n",
              "      <td>0</td>\n",
              "      <td>0</td>\n",
              "      <td>0</td>\n",
              "    </tr>\n",
              "    <tr>\n",
              "      <th>40040</th>\n",
              "      <td>83</td>\n",
              "      <td>housemaid</td>\n",
              "      <td>divorced</td>\n",
              "      <td>basic.education</td>\n",
              "      <td>no</td>\n",
              "      <td>yes</td>\n",
              "      <td>yes</td>\n",
              "      <td>cellular</td>\n",
              "      <td>jul</td>\n",
              "      <td>tue</td>\n",
              "      <td>257</td>\n",
              "      <td>1</td>\n",
              "      <td>999</td>\n",
              "      <td>3</td>\n",
              "      <td>failure</td>\n",
              "      <td>-1.7</td>\n",
              "      <td>94.215</td>\n",
              "      <td>-40.3</td>\n",
              "      <td>0.797</td>\n",
              "      <td>4991.6</td>\n",
              "      <td>blue collar</td>\n",
              "      <td>1</td>\n",
              "      <td>1</td>\n",
              "      <td>2</td>\n",
              "      <td>2</td>\n",
              "      <td>2</td>\n",
              "      <td>3</td>\n",
              "      <td>3</td>\n",
              "      <td>2</td>\n",
              "      <td>0</td>\n",
              "      <td>0</td>\n",
              "      <td>0</td>\n",
              "      <td>0</td>\n",
              "      <td>0</td>\n",
              "      <td>0</td>\n",
              "    </tr>\n",
              "    <tr>\n",
              "      <th>39471</th>\n",
              "      <td>85</td>\n",
              "      <td>housemaid</td>\n",
              "      <td>married</td>\n",
              "      <td>basic.education</td>\n",
              "      <td>unknown</td>\n",
              "      <td>yes</td>\n",
              "      <td>no</td>\n",
              "      <td>cellular</td>\n",
              "      <td>apr</td>\n",
              "      <td>tue</td>\n",
              "      <td>167</td>\n",
              "      <td>1</td>\n",
              "      <td>6</td>\n",
              "      <td>2</td>\n",
              "      <td>success</td>\n",
              "      <td>-1.8</td>\n",
              "      <td>93.749</td>\n",
              "      <td>-34.6</td>\n",
              "      <td>0.642</td>\n",
              "      <td>5008.7</td>\n",
              "      <td>blue collar</td>\n",
              "      <td>1</td>\n",
              "      <td>1</td>\n",
              "      <td>1</td>\n",
              "      <td>2</td>\n",
              "      <td>6</td>\n",
              "      <td>2</td>\n",
              "      <td>3</td>\n",
              "      <td>3</td>\n",
              "      <td>0</td>\n",
              "      <td>0</td>\n",
              "      <td>1</td>\n",
              "      <td>0</td>\n",
              "      <td>0</td>\n",
              "      <td>0</td>\n",
              "    </tr>\n",
              "    <tr>\n",
              "      <th>38321</th>\n",
              "      <td>85</td>\n",
              "      <td>housemaid</td>\n",
              "      <td>divorced</td>\n",
              "      <td>basic.education</td>\n",
              "      <td>unknown</td>\n",
              "      <td>yes</td>\n",
              "      <td>no</td>\n",
              "      <td>telephone</td>\n",
              "      <td>oct</td>\n",
              "      <td>fri</td>\n",
              "      <td>181</td>\n",
              "      <td>2</td>\n",
              "      <td>999</td>\n",
              "      <td>0</td>\n",
              "      <td>nonexistent</td>\n",
              "      <td>-3.4</td>\n",
              "      <td>92.431</td>\n",
              "      <td>-26.9</td>\n",
              "      <td>0.739</td>\n",
              "      <td>5017.5</td>\n",
              "      <td>blue collar</td>\n",
              "      <td>1</td>\n",
              "      <td>1</td>\n",
              "      <td>2</td>\n",
              "      <td>1</td>\n",
              "      <td>7</td>\n",
              "      <td>2</td>\n",
              "      <td>3</td>\n",
              "      <td>3</td>\n",
              "      <td>0</td>\n",
              "      <td>0</td>\n",
              "      <td>1</td>\n",
              "      <td>0</td>\n",
              "      <td>0</td>\n",
              "      <td>0</td>\n",
              "    </tr>\n",
              "    <tr>\n",
              "      <th>39472</th>\n",
              "      <td>85</td>\n",
              "      <td>housemaid</td>\n",
              "      <td>married</td>\n",
              "      <td>basic.education</td>\n",
              "      <td>unknown</td>\n",
              "      <td>no</td>\n",
              "      <td>no</td>\n",
              "      <td>cellular</td>\n",
              "      <td>apr</td>\n",
              "      <td>tue</td>\n",
              "      <td>166</td>\n",
              "      <td>1</td>\n",
              "      <td>999</td>\n",
              "      <td>0</td>\n",
              "      <td>nonexistent</td>\n",
              "      <td>-1.8</td>\n",
              "      <td>93.749</td>\n",
              "      <td>-34.6</td>\n",
              "      <td>0.642</td>\n",
              "      <td>5008.7</td>\n",
              "      <td>blue collar</td>\n",
              "      <td>1</td>\n",
              "      <td>1</td>\n",
              "      <td>1</td>\n",
              "      <td>2</td>\n",
              "      <td>6</td>\n",
              "      <td>2</td>\n",
              "      <td>2</td>\n",
              "      <td>3</td>\n",
              "      <td>0</td>\n",
              "      <td>0</td>\n",
              "      <td>1</td>\n",
              "      <td>0</td>\n",
              "      <td>0</td>\n",
              "      <td>0</td>\n",
              "    </tr>\n",
              "    <tr>\n",
              "      <th>40213</th>\n",
              "      <td>82</td>\n",
              "      <td>housemaid</td>\n",
              "      <td>divorced</td>\n",
              "      <td>basic.education</td>\n",
              "      <td>no</td>\n",
              "      <td>no</td>\n",
              "      <td>no</td>\n",
              "      <td>cellular</td>\n",
              "      <td>jul</td>\n",
              "      <td>wed</td>\n",
              "      <td>316</td>\n",
              "      <td>1</td>\n",
              "      <td>999</td>\n",
              "      <td>0</td>\n",
              "      <td>nonexistent</td>\n",
              "      <td>-1.7</td>\n",
              "      <td>94.215</td>\n",
              "      <td>-40.3</td>\n",
              "      <td>0.881</td>\n",
              "      <td>4991.6</td>\n",
              "      <td>blue collar</td>\n",
              "      <td>1</td>\n",
              "      <td>1</td>\n",
              "      <td>2</td>\n",
              "      <td>2</td>\n",
              "      <td>2</td>\n",
              "      <td>3</td>\n",
              "      <td>2</td>\n",
              "      <td>3</td>\n",
              "      <td>0</td>\n",
              "      <td>0</td>\n",
              "      <td>0</td>\n",
              "      <td>0</td>\n",
              "      <td>0</td>\n",
              "      <td>0</td>\n",
              "    </tr>\n",
              "    <tr>\n",
              "      <th>39470</th>\n",
              "      <td>85</td>\n",
              "      <td>housemaid</td>\n",
              "      <td>married</td>\n",
              "      <td>basic.education</td>\n",
              "      <td>unknown</td>\n",
              "      <td>no</td>\n",
              "      <td>no</td>\n",
              "      <td>cellular</td>\n",
              "      <td>apr</td>\n",
              "      <td>tue</td>\n",
              "      <td>175</td>\n",
              "      <td>6</td>\n",
              "      <td>6</td>\n",
              "      <td>1</td>\n",
              "      <td>success</td>\n",
              "      <td>-1.8</td>\n",
              "      <td>93.749</td>\n",
              "      <td>-34.6</td>\n",
              "      <td>0.642</td>\n",
              "      <td>5008.7</td>\n",
              "      <td>blue collar</td>\n",
              "      <td>1</td>\n",
              "      <td>1</td>\n",
              "      <td>1</td>\n",
              "      <td>2</td>\n",
              "      <td>6</td>\n",
              "      <td>2</td>\n",
              "      <td>2</td>\n",
              "      <td>3</td>\n",
              "      <td>0</td>\n",
              "      <td>0</td>\n",
              "      <td>1</td>\n",
              "      <td>0</td>\n",
              "      <td>0</td>\n",
              "      <td>0</td>\n",
              "    </tr>\n",
              "  </tbody>\n",
              "</table>\n",
              "</div>\n",
              "      <button class=\"colab-df-convert\" onclick=\"convertToInteractive('df-62a9b515-301f-4385-a07f-a00995223521')\"\n",
              "              title=\"Convert this dataframe to an interactive table.\"\n",
              "              style=\"display:none;\">\n",
              "        \n",
              "  <svg xmlns=\"http://www.w3.org/2000/svg\" height=\"24px\"viewBox=\"0 0 24 24\"\n",
              "       width=\"24px\">\n",
              "    <path d=\"M0 0h24v24H0V0z\" fill=\"none\"/>\n",
              "    <path d=\"M18.56 5.44l.94 2.06.94-2.06 2.06-.94-2.06-.94-.94-2.06-.94 2.06-2.06.94zm-11 1L8.5 8.5l.94-2.06 2.06-.94-2.06-.94L8.5 2.5l-.94 2.06-2.06.94zm10 10l.94 2.06.94-2.06 2.06-.94-2.06-.94-.94-2.06-.94 2.06-2.06.94z\"/><path d=\"M17.41 7.96l-1.37-1.37c-.4-.4-.92-.59-1.43-.59-.52 0-1.04.2-1.43.59L10.3 9.45l-7.72 7.72c-.78.78-.78 2.05 0 2.83L4 21.41c.39.39.9.59 1.41.59.51 0 1.02-.2 1.41-.59l7.78-7.78 2.81-2.81c.8-.78.8-2.07 0-2.86zM5.41 20L4 18.59l7.72-7.72 1.47 1.35L5.41 20z\"/>\n",
              "  </svg>\n",
              "      </button>\n",
              "      \n",
              "  <style>\n",
              "    .colab-df-container {\n",
              "      display:flex;\n",
              "      flex-wrap:wrap;\n",
              "      gap: 12px;\n",
              "    }\n",
              "\n",
              "    .colab-df-convert {\n",
              "      background-color: #E8F0FE;\n",
              "      border: none;\n",
              "      border-radius: 50%;\n",
              "      cursor: pointer;\n",
              "      display: none;\n",
              "      fill: #1967D2;\n",
              "      height: 32px;\n",
              "      padding: 0 0 0 0;\n",
              "      width: 32px;\n",
              "    }\n",
              "\n",
              "    .colab-df-convert:hover {\n",
              "      background-color: #E2EBFA;\n",
              "      box-shadow: 0px 1px 2px rgba(60, 64, 67, 0.3), 0px 1px 3px 1px rgba(60, 64, 67, 0.15);\n",
              "      fill: #174EA6;\n",
              "    }\n",
              "\n",
              "    [theme=dark] .colab-df-convert {\n",
              "      background-color: #3B4455;\n",
              "      fill: #D2E3FC;\n",
              "    }\n",
              "\n",
              "    [theme=dark] .colab-df-convert:hover {\n",
              "      background-color: #434B5C;\n",
              "      box-shadow: 0px 1px 3px 1px rgba(0, 0, 0, 0.15);\n",
              "      filter: drop-shadow(0px 1px 2px rgba(0, 0, 0, 0.3));\n",
              "      fill: #FFFFFF;\n",
              "    }\n",
              "  </style>\n",
              "\n",
              "      <script>\n",
              "        const buttonEl =\n",
              "          document.querySelector('#df-62a9b515-301f-4385-a07f-a00995223521 button.colab-df-convert');\n",
              "        buttonEl.style.display =\n",
              "          google.colab.kernel.accessAllowed ? 'block' : 'none';\n",
              "\n",
              "        async function convertToInteractive(key) {\n",
              "          const element = document.querySelector('#df-62a9b515-301f-4385-a07f-a00995223521');\n",
              "          const dataTable =\n",
              "            await google.colab.kernel.invokeFunction('convertToInteractive',\n",
              "                                                     [key], {});\n",
              "          if (!dataTable) return;\n",
              "\n",
              "          const docLinkHtml = 'Like what you see? Visit the ' +\n",
              "            '<a target=\"_blank\" href=https://colab.research.google.com/notebooks/data_table.ipynb>data table notebook</a>'\n",
              "            + ' to learn more about interactive tables.';\n",
              "          element.innerHTML = '';\n",
              "          dataTable['output_type'] = 'display_data';\n",
              "          await google.colab.output.renderOutput(dataTable, element);\n",
              "          const docLink = document.createElement('div');\n",
              "          docLink.innerHTML = docLinkHtml;\n",
              "          element.appendChild(docLink);\n",
              "        }\n",
              "      </script>\n",
              "    </div>\n",
              "  </div>\n",
              "  "
            ],
            "text/plain": [
              "       age        job   marital        education   credit  housing     loan  \\\n",
              "38513   81  housemaid   married  basic.education       no      yes       no   \n",
              "39406   82  housemaid  divorced  basic.education       no  unknown  unknown   \n",
              "40040   83  housemaid  divorced  basic.education       no      yes      yes   \n",
              "39471   85  housemaid   married  basic.education  unknown      yes       no   \n",
              "38321   85  housemaid  divorced  basic.education  unknown      yes       no   \n",
              "39472   85  housemaid   married  basic.education  unknown       no       no   \n",
              "40213   82  housemaid  divorced  basic.education       no       no       no   \n",
              "39470   85  housemaid   married  basic.education  unknown       no       no   \n",
              "\n",
              "         contact month day_of_week  duration  campaign  pdays  previous  \\\n",
              "38513   cellular   oct         wed       246         2    999         0   \n",
              "39406   cellular   apr         tue       139         6    999         0   \n",
              "40040   cellular   jul         tue       257         1    999         3   \n",
              "39471   cellular   apr         tue       167         1      6         2   \n",
              "38321  telephone   oct         fri       181         2    999         0   \n",
              "39472   cellular   apr         tue       166         1    999         0   \n",
              "40213   cellular   jul         wed       316         1    999         0   \n",
              "39470   cellular   apr         tue       175         6      6         1   \n",
              "\n",
              "          poutcome  emp.var.rate  cons.price.idx  cons.conf.idx  euribor3m  \\\n",
              "38513  nonexistent          -3.4          92.431          -26.9      0.724   \n",
              "39406  nonexistent          -1.8          93.749          -34.6      0.638   \n",
              "40040      failure          -1.7          94.215          -40.3      0.797   \n",
              "39471      success          -1.8          93.749          -34.6      0.642   \n",
              "38321  nonexistent          -3.4          92.431          -26.9      0.739   \n",
              "39472  nonexistent          -1.8          93.749          -34.6      0.642   \n",
              "40213  nonexistent          -1.7          94.215          -40.3      0.881   \n",
              "39470      success          -1.8          93.749          -34.6      0.642   \n",
              "\n",
              "       nr.employed       collar  educ_  job_  marital_  contact_  month_  \\\n",
              "38513       5017.5  blue collar      1     1         1         2       7   \n",
              "39406       5008.7  blue collar      1     1         2         2       6   \n",
              "40040       4991.6  blue collar      1     1         2         2       2   \n",
              "39471       5008.7  blue collar      1     1         1         2       6   \n",
              "38321       5017.5  blue collar      1     1         2         1       7   \n",
              "39472       5008.7  blue collar      1     1         1         2       6   \n",
              "40213       4991.6  blue collar      1     1         2         2       2   \n",
              "39470       5008.7  blue collar      1     1         1         2       6   \n",
              "\n",
              "       credit_  housing_  loan_  housing_null  loan_null  credit_null  \\\n",
              "38513        3         3      3             0          0            0   \n",
              "39406        3         1      1             1          1            0   \n",
              "40040        3         3      2             0          0            0   \n",
              "39471        2         3      3             0          0            1   \n",
              "38321        2         3      3             0          0            1   \n",
              "39472        2         2      3             0          0            1   \n",
              "40213        3         2      3             0          0            0   \n",
              "39470        2         2      3             0          0            1   \n",
              "\n",
              "       education_null  marital_null  job_null  \n",
              "38513               0             0         0  \n",
              "39406               0             0         0  \n",
              "40040               0             0         0  \n",
              "39471               0             0         0  \n",
              "38321               0             0         0  \n",
              "39472               0             0         0  \n",
              "40213               0             0         0  \n",
              "39470               0             0         0  "
            ]
          },
          "execution_count": 54,
          "metadata": {},
          "output_type": "execute_result"
        }
      ],
      "source": [
        "age_above_80[age_above_80['collar']=='blue collar']"
      ]
    },
    {
      "cell_type": "code",
      "execution_count": 55,
      "metadata": {
        "colab": {
          "base_uri": "https://localhost:8080/"
        },
        "id": "XnURd9kHg81E",
        "outputId": "76a88ea6-cc69-4052-cc63-d81e91cd7d2b"
      },
      "outputs": [
        {
          "name": "stdout",
          "output_type": "stream",
          "text": [
            "rata-rata yang berusia >80 adalah  0.0027317428519395373\n",
            "range usia pada data train adalah  17 sampai  98\n"
          ]
        }
      ],
      "source": [
        "print('rata-rata yang berusia >80 adalah ' , len(age_above_80)/len(X_trainval))\n",
        "print(f'range usia pada data train adalah  {X_trainval[\"age\"].min()} sampai  {X_trainval[\"age\"].max()}')"
      ]
    },
    {
      "cell_type": "markdown",
      "metadata": {
        "id": "yuen9nYsXbfS"
      },
      "source": [
        "> Terdapat 8 orang yang bekerja sebagai blue collar (0.002%) dimana pekerjaan aslinya adalah housemaid. Hal ini merupakan hal yang wajar karena orang-orang tersebut hanya lulusan sekolah `basic` dan mendedikasikan pekerjaannya menjadi housemaid"
      ]
    },
    {
      "cell_type": "markdown",
      "metadata": {
        "id": "lHKLeAC8Xr0P"
      },
      "source": [
        "### 5.2.2 Campaign Outliers"
      ]
    },
    {
      "cell_type": "code",
      "execution_count": 56,
      "metadata": {
        "colab": {
          "base_uri": "https://localhost:8080/"
        },
        "id": "SedqkiLiXaeO",
        "outputId": "d7ba1975-1902-449a-c638-f3c3618208b6"
      },
      "outputs": [
        {
          "data": {
            "text/plain": [
              "count    32946.000000\n",
              "mean         2.572330\n",
              "std          2.791898\n",
              "min          1.000000\n",
              "25%          1.000000\n",
              "50%          2.000000\n",
              "75%          3.000000\n",
              "max         56.000000\n",
              "Name: campaign, dtype: float64"
            ]
          },
          "execution_count": 56,
          "metadata": {},
          "output_type": "execute_result"
        }
      ],
      "source": [
        "X_trainval.campaign.describe()"
      ]
    },
    {
      "cell_type": "code",
      "execution_count": 57,
      "metadata": {
        "colab": {
          "base_uri": "https://localhost:8080/"
        },
        "id": "vEpAxcjlXx4H",
        "outputId": "7f9dc741-2086-4e27-d697-2934474b3b10"
      },
      "outputs": [
        {
          "data": {
            "text/plain": [
              "1     14125\n",
              "2      8457\n",
              "3      4261\n",
              "4      2110\n",
              "5      1276\n",
              "6       783\n",
              "7       502\n",
              "8       306\n",
              "9       226\n",
              "10      183\n",
              "11      148\n",
              "12      102\n",
              "13       75\n",
              "14       55\n",
              "17       52\n",
              "16       47\n",
              "15       44\n",
              "18       27\n",
              "20       24\n",
              "19       18\n",
              "21       16\n",
              "23       15\n",
              "22       15\n",
              "24       11\n",
              "27        9\n",
              "29        9\n",
              "28        8\n",
              "25        7\n",
              "31        5\n",
              "32        4\n",
              "35        4\n",
              "26        4\n",
              "33        4\n",
              "30        3\n",
              "43        2\n",
              "40        2\n",
              "34        2\n",
              "42        2\n",
              "56        1\n",
              "39        1\n",
              "41        1\n",
              "Name: campaign, dtype: int64"
            ]
          },
          "execution_count": 57,
          "metadata": {},
          "output_type": "execute_result"
        }
      ],
      "source": [
        "X_trainval.campaign.value_counts()"
      ]
    },
    {
      "cell_type": "markdown",
      "metadata": {
        "id": "-0As98YCYLVB"
      },
      "source": [
        "> Terdapat seorang client yang dihubungi sebanyak >30x, mungkin mereka adalah client yang berpotensi untuk melkaukan deposit"
      ]
    },
    {
      "cell_type": "code",
      "execution_count": 58,
      "metadata": {
        "colab": {
          "base_uri": "https://localhost:8080/"
        },
        "id": "WQBGfGSeX5Vy",
        "outputId": "d5eaeadf-4004-4e49-bee5-671caab1ca29"
      },
      "outputs": [
        {
          "name": "stdout",
          "output_type": "stream",
          "text": [
            "terdapat 28 client yang di hubungi > 30x selama campaign berlangsung dari total 32946 client\n",
            "\n"
          ]
        },
        {
          "data": {
            "text/plain": [
              "array([ 21,   9,  13,  16,  65,  35,  34,  18, 261, 147,  79,  14,  44,\n",
              "        30, 102,  66,  25, 124,  29,  36,  43,  51,  33,  77])"
            ]
          },
          "execution_count": 58,
          "metadata": {},
          "output_type": "execute_result"
        }
      ],
      "source": [
        "campaign_above_30 = X_trainval[X_trainval['campaign'] >30]\n",
        "print(f'terdapat {len(campaign_above_30)} client yang di hubungi > 30x selama campaign berlangsung dari total {len(X_trainval)} client\\n')\n",
        "#\n",
        "campaign_above_30.duration.unique()\n",
        "#client yang ditelepon > 30x adalah client yang mengangkat telepon selama >10detik, sehingga perusahaan menganggap bahwa client tersebut berpotensi karena sudah mengangkat telefon"
      ]
    },
    {
      "cell_type": "code",
      "execution_count": 59,
      "metadata": {
        "colab": {
          "base_uri": "https://localhost:8080/"
        },
        "id": "D_9i91x6bNK3",
        "outputId": "f98b5124-2f13-43f9-ab30-c68183e1a776"
      },
      "outputs": [
        {
          "data": {
            "text/plain": [
              "array([261])"
            ]
          },
          "execution_count": 59,
          "metadata": {},
          "output_type": "execute_result"
        }
      ],
      "source": [
        "max_campaign = X_trainval[X_trainval['campaign'] >50]\n",
        "max_campaign.duration.unique()\n",
        "#dan client yang dihubungi >50x karena dia mengangkat tlp dengan durasi 261 detik (client mengangkat tlp)"
      ]
    },
    {
      "cell_type": "markdown",
      "metadata": {
        "id": "1DxqAV36bfbE"
      },
      "source": [
        "> Saya menimpulkan bahwa kolom campaign juga tidak memiliki outliers."
      ]
    },
    {
      "cell_type": "markdown",
      "metadata": {
        "id": "s6rnK9prdkV9"
      },
      "source": [
        "### 5.2.3 nr.employed"
      ]
    },
    {
      "cell_type": "code",
      "execution_count": 60,
      "metadata": {
        "colab": {
          "base_uri": "https://localhost:8080/",
          "height": 500
        },
        "id": "L6-2AGDPdkV9",
        "outputId": "76aa1ba9-5d4b-4b8a-aab0-9078ed8e5fe2"
      },
      "outputs": [
        {
          "data": {
            "text/plain": [
              "<matplotlib.legend.Legend at 0x7f11c51ef490>"
            ]
          },
          "execution_count": 60,
          "metadata": {},
          "output_type": "execute_result"
        },
        {
          "data": {
            "image/png": "[encoded data removed]",
            "text/plain": [
              "<Figure size 720x576 with 1 Axes>"
            ]
          },
          "metadata": {
            "needs_background": "light"
          },
          "output_type": "display_data"
        }
      ],
      "source": [
        "df['nr.employed'] = PowerTransformer().fit_transform(df[['nr.employed']])\n",
        "plt.figure(figsize=(10,8))\n",
        "plt.hist(df['nr.employed']);\n",
        "plt.axvline(df['nr.employed'].mean(), color='red', label='mean')\n",
        "plt.axvline(df['nr.employed'].median(), color='blue',label = 'median')\n",
        "\n",
        "Q1 , Q2, Q3 = np.quantile(df['nr.employed'], q=[.25,.50,.75])\n",
        "IQR = Q3 - Q2\n",
        "upper_bound = 1.5*IQR + Q2\n",
        "lower_bound = Q2 - 1.5*IQR\n",
        "plt.axvline(lower_bound, color = 'k', label = 'lower_bound')\n",
        "plt.axvline(upper_bound, color='k', label = 'upper_bound')\n",
        "plt.legend()"
      ]
    },
    {
      "cell_type": "markdown",
      "metadata": {
        "id": "6_yk5BtjdkV-"
      },
      "source": [
        "> Tidak ada data nr.employed yang berada pada luar batas outliers. Data bukan outliers yang perlu di handle"
      ]
    },
    {
      "cell_type": "markdown",
      "metadata": {
        "id": "yxwhr81wgGUe"
      },
      "source": [
        "## 5.3 Missing Values\n",
        "Data set ini tidak memiliki missing value. Keanehan pada data (kolom pdays) akan di handle dengan replacement value (penjelasan lebih lengkap ada di EDA)\n"
      ]
    },
    {
      "cell_type": "code",
      "execution_count": 61,
      "metadata": {
        "id": "eszDMOSertFz"
      },
      "outputs": [],
      "source": [
        "pdays_norm=FunctionTransformer(lambda x : (x+1).replace(1000,0))"
      ]
    },
    {
      "cell_type": "markdown",
      "metadata": {
        "id": "Stqx0BvrlGXF"
      },
      "source": [
        "## 5.4 Feature Engineering\n",
        "\n",
        "Feature yang digunakan adalah **previous, month_, contact_, job_, cons.price.idx,.emp.var.rate, euribor3m, pdays, nr.employed, credit_**. Feature ini dipilih karena berdasarkan EDA mereka mempunyai korelasi yang cukup besar (>0.05). Sedangkan feature lainnya tidak dipakai karena nilai korelasinya sangat kecil dan jika dipaksakan untuk di train pada model ditakutkan menyebabkan model menjadi kurang valid\n"
      ]
    },
    {
      "cell_type": "code",
      "execution_count": 62,
      "metadata": {
        "id": "IlIXwk04lfUy"
      },
      "outputs": [],
      "source": [
        "scaling_pipe = Pipeline(steps=[('scaler', MinMaxScaler())])\n",
        "\n",
        "prep_pipeline = ColumnTransformer([\n",
        "      ('pdays_norm' , pdays_norm , ['pdays']),\n",
        "     ('scaling', scaling_pipe, ['previous','month_','contact_','job_','cons.price.idx','emp.var.rate','euribor3m','nr.employed','credit_'])\n",
        "])"
      ]
    },
    {
      "cell_type": "markdown",
      "metadata": {
        "id": "rqBd1uuDsmtS"
      },
      "source": [
        "Pada proses kali ini, data kategorikal sudah dirubah menjadi data numeric berdasarkan urutan korelasinya (dilakukan di EDA) sehingga hanya perlu dilakukan scaling menggunakan MinMaxScaler."
      ]
    },
    {
      "cell_type": "markdown",
      "metadata": {
        "id": "ifKEli4xsyTF"
      },
      "source": [
        "# 6. Model Definition\n",
        "Case kali ini adalah case klasifikasi, sehingga model yang digunakan adalah model LogisticRegression, SVM (menggunakan SVC) , DecisionTree ( DecisionTreeClassifier) , RandomForest (RandomForestClassifier), KNN , NaiveBayes, dan GradientBoostingClassifier.\n",
        "\n",
        "- Support Vector Model = SVC untuk melakukan ekspansi hyperparameter yang lbeih beragam agar hasil dari model lebih memuaskan.\n",
        "- Other Algorythm = Gradientboost untuk meminimalisir bias error dari model"
      ]
    },
    {
      "cell_type": "markdown",
      "metadata": {
        "id": "MTov7ygembbh"
      },
      "source": [
        "> Pipeline untuk semua model"
      ]
    },
    {
      "cell_type": "code",
      "execution_count": 63,
      "metadata": {
        "id": "7an39CE5tDGQ"
      },
      "outputs": [],
      "source": [
        "pipe_lr = Pipeline([\n",
        "                     ('prep', prep_pipeline),\n",
        "                     ('lr', LogisticRegression(random_state=15))\n",
        "                     ])\n",
        "\n",
        "pipe_svm = Pipeline([\n",
        "                     ('prep', prep_pipeline),\n",
        "                     ('svm', SVC(max_iter=5_000,random_state=15)) #max_iter = 5000 agar proses fit tidak terlalu lama\n",
        "                     ])\n",
        "\n",
        "pipe_dt = Pipeline([\n",
        "                     ('prep', prep_pipeline),\n",
        "                     ('dt', DecisionTreeClassifier(random_state=15))\n",
        "                     ])\n",
        "\n",
        "pipe_rf = Pipeline([\n",
        "                     ('prep', prep_pipeline),\n",
        "                     ('rf', RandomForestClassifier(random_state=15))\n",
        "                     ])\n",
        "\n",
        "pipe_knn = Pipeline([\n",
        "                     ('prep', prep_pipeline),\n",
        "                     ('knn', KNeighborsClassifier())\n",
        "                     ])\n",
        "\n",
        "pipe_nb = Pipeline([\n",
        "                     ('prep', prep_pipeline),\n",
        "                     ('nb', MultinomialNB())          \n",
        "                     ])\n",
        "\n",
        "pipe_gb = Pipeline([\n",
        "                     ('prep', prep_pipeline),\n",
        "                     ('gb', GradientBoostingClassifier(random_state=15))          \n",
        "                     ])"
      ]
    },
    {
      "cell_type": "markdown",
      "metadata": {
        "id": "P4-jkAXwmgjb"
      },
      "source": [
        "> Pipeline untuk semua parameter. Semua parameter yang di-set berdasarkan [scikitlearn](https://scikit-learn.org/stable/supervised_learning.html#supervised-learning)."
      ]
    },
    {
      "cell_type": "code",
      "execution_count": 77,
      "metadata": {
        "id": "wcLSu33-8vCh"
      },
      "outputs": [],
      "source": [
        "#parameter untuk hyperparameter semua model\n",
        "\n",
        "param_lr = {\n",
        "    'lr__penalty' : ['l1', 'l2', 'elasticnet', 'none'],\n",
        "    'lr__C' : [0.01, 0.1, 1],\n",
        "    'lr__solver' : ['newton-cg', 'lbfgs', 'liblinear', 'sag', 'saga']\n",
        "}\n",
        "\n",
        "\n",
        "param_svm = {\n",
        "    'svm__kernel' : ['linear', 'poly', 'rbf', 'sigmoid', 'precomputed'],\n",
        "    'svm__C': [0.01, 0.1, 1],\n",
        "    'svm__degree': [2,3,5]\n",
        "}\n",
        "\n",
        "\n",
        "param_dt = {\n",
        "    'dt__criterion' : ['gini', 'entropy'],\n",
        "    'dt__max_depth': [3,5,10]\n",
        "}\n",
        "\n",
        "param_rf = {\n",
        "    'rf__n_estimators' : [100,200],\n",
        "    'rf__criterion' : ['gini', 'entropy'],\n",
        "    'rf__max_depth': [5,10, None]\n",
        "}\n",
        "\n",
        "\n",
        "param_knn = {\n",
        "    'knn__n_neighbors' : [3,5,8],\n",
        "    'knn__weights' : ['uniform', 'distance'],\n",
        "    'knn__p' : [1,2]\n",
        "}\n",
        "\n",
        "\n",
        "param_nb = {\n",
        "    'nb__alpha' : [0,1]\n",
        "}\n",
        "\n",
        "param_gb = {\n",
        "    'gb__loss' : ['deviance', 'exponential'],\n",
        "    'gb__n_estimators' : [100,200],\n",
        "    'gb__learning_rate' : [0.1, 1],\n",
        "    'gb__max_depth' : [5,None]\n",
        "}"
      ]
    },
    {
      "cell_type": "markdown",
      "metadata": {
        "id": "wFHBV4YcYk6C"
      },
      "source": [
        "# Model Training"
      ]
    },
    {
      "cell_type": "markdown",
      "metadata": {
        "id": "W_U9JhOKZUUF"
      },
      "source": [
        "## Logistic Regression Model"
      ]
    },
    {
      "cell_type": "code",
      "execution_count": 65,
      "metadata": {
        "colab": {
          "base_uri": "https://localhost:8080/"
        },
        "id": "E-zJ-pRuCl7S",
        "outputId": "67a105bc-0c8b-46af-a858-3d15ee71afd6"
      },
      "outputs": [
        {
          "data": {
            "text/plain": [
              "Pipeline(steps=[('prep',\n",
              "                 ColumnTransformer(transformers=[('pdays_norm',\n",
              "                                                  FunctionTransformer(func=<function <lambda> at 0x7f11c5187320>),\n",
              "                                                  ['pdays']),\n",
              "                                                 ('scaling',\n",
              "                                                  Pipeline(steps=[('scaler',\n",
              "                                                                   MinMaxScaler())]),\n",
              "                                                  ['previous', 'month_',\n",
              "                                                   'contact_', 'job_',\n",
              "                                                   'cons.price.idx',\n",
              "                                                   'emp.var.rate', 'euribor3m',\n",
              "                                                   'nr.employed',\n",
              "                                                   'credit_'])])),\n",
              "                ('lr', LogisticRegression(random_state=15))])"
            ]
          },
          "execution_count": 65,
          "metadata": {},
          "output_type": "execute_result"
        }
      ],
      "source": [
        "pipe_lr.fit(X_trainval, y_trainval)"
      ]
    },
    {
      "cell_type": "markdown",
      "metadata": {
        "id": "svPUhi2GZWdd"
      },
      "source": [
        "## SVM Model"
      ]
    },
    {
      "cell_type": "code",
      "execution_count": 66,
      "metadata": {
        "colab": {
          "base_uri": "https://localhost:8080/"
        },
        "id": "rgw7TIkrFUEW",
        "outputId": "88c4a26c-027f-4bce-be9f-e2631d1baf66"
      },
      "outputs": [
        {
          "data": {
            "text/plain": [
              "Pipeline(steps=[('prep',\n",
              "                 ColumnTransformer(transformers=[('pdays_norm',\n",
              "                                                  FunctionTransformer(func=<function <lambda> at 0x7f11c5187320>),\n",
              "                                                  ['pdays']),\n",
              "                                                 ('scaling',\n",
              "                                                  Pipeline(steps=[('scaler',\n",
              "                                                                   MinMaxScaler())]),\n",
              "                                                  ['previous', 'month_',\n",
              "                                                   'contact_', 'job_',\n",
              "                                                   'cons.price.idx',\n",
              "                                                   'emp.var.rate', 'euribor3m',\n",
              "                                                   'nr.employed',\n",
              "                                                   'credit_'])])),\n",
              "                ('svm', SVC(max_iter=5000, random_state=15))])"
            ]
          },
          "execution_count": 66,
          "metadata": {},
          "output_type": "execute_result"
        }
      ],
      "source": [
        "pipe_svm.fit(X_trainval, y_trainval) #1m"
      ]
    },
    {
      "cell_type": "markdown",
      "metadata": {
        "id": "JYnW9uQiZXwL"
      },
      "source": [
        "## Decision Tree Model"
      ]
    },
    {
      "cell_type": "code",
      "execution_count": 67,
      "metadata": {
        "colab": {
          "base_uri": "https://localhost:8080/"
        },
        "id": "hr-oXiXRFiOQ",
        "outputId": "743d5bda-dbac-4115-9b97-0bdba16652d0"
      },
      "outputs": [
        {
          "data": {
            "text/plain": [
              "Pipeline(steps=[('prep',\n",
              "                 ColumnTransformer(transformers=[('pdays_norm',\n",
              "                                                  FunctionTransformer(func=<function <lambda> at 0x7f11c5187320>),\n",
              "                                                  ['pdays']),\n",
              "                                                 ('scaling',\n",
              "                                                  Pipeline(steps=[('scaler',\n",
              "                                                                   MinMaxScaler())]),\n",
              "                                                  ['previous', 'month_',\n",
              "                                                   'contact_', 'job_',\n",
              "                                                   'cons.price.idx',\n",
              "                                                   'emp.var.rate', 'euribor3m',\n",
              "                                                   'nr.employed',\n",
              "                                                   'credit_'])])),\n",
              "                ('dt', DecisionTreeClassifier(random_state=15))])"
            ]
          },
          "execution_count": 67,
          "metadata": {},
          "output_type": "execute_result"
        }
      ],
      "source": [
        "pipe_dt.fit(X_trainval, y_trainval)"
      ]
    },
    {
      "cell_type": "markdown",
      "metadata": {
        "id": "bFNk90_FZZ-a"
      },
      "source": [
        "## Random Forest Model"
      ]
    },
    {
      "cell_type": "code",
      "execution_count": 68,
      "metadata": {
        "colab": {
          "base_uri": "https://localhost:8080/"
        },
        "id": "OSvdFui4FlEb",
        "outputId": "7665f753-358c-43b9-cfd7-81949bcd5dca"
      },
      "outputs": [
        {
          "data": {
            "text/plain": [
              "Pipeline(steps=[('prep',\n",
              "                 ColumnTransformer(transformers=[('pdays_norm',\n",
              "                                                  FunctionTransformer(func=<function <lambda> at 0x7f11c5187320>),\n",
              "                                                  ['pdays']),\n",
              "                                                 ('scaling',\n",
              "                                                  Pipeline(steps=[('scaler',\n",
              "                                                                   MinMaxScaler())]),\n",
              "                                                  ['previous', 'month_',\n",
              "                                                   'contact_', 'job_',\n",
              "                                                   'cons.price.idx',\n",
              "                                                   'emp.var.rate', 'euribor3m',\n",
              "                                                   'nr.employed',\n",
              "                                                   'credit_'])])),\n",
              "                ('rf', RandomForestClassifier(random_state=15))])"
            ]
          },
          "execution_count": 68,
          "metadata": {},
          "output_type": "execute_result"
        }
      ],
      "source": [
        "pipe_rf.fit(X_trainval, y_trainval)"
      ]
    },
    {
      "cell_type": "markdown",
      "metadata": {
        "id": "8-ttUSQJZcPc"
      },
      "source": [
        "## KNN Model"
      ]
    },
    {
      "cell_type": "code",
      "execution_count": 69,
      "metadata": {
        "colab": {
          "base_uri": "https://localhost:8080/"
        },
        "id": "jSQrSzYMFoLv",
        "outputId": "0e58df2a-c06b-4fdb-a939-2fe08b1bdb9e"
      },
      "outputs": [
        {
          "data": {
            "text/plain": [
              "Pipeline(steps=[('prep',\n",
              "                 ColumnTransformer(transformers=[('pdays_norm',\n",
              "                                                  FunctionTransformer(func=<function <lambda> at 0x7f11c5187320>),\n",
              "                                                  ['pdays']),\n",
              "                                                 ('scaling',\n",
              "                                                  Pipeline(steps=[('scaler',\n",
              "                                                                   MinMaxScaler())]),\n",
              "                                                  ['previous', 'month_',\n",
              "                                                   'contact_', 'job_',\n",
              "                                                   'cons.price.idx',\n",
              "                                                   'emp.var.rate', 'euribor3m',\n",
              "                                                   'nr.employed',\n",
              "                                                   'credit_'])])),\n",
              "                ('knn', KNeighborsClassifier())])"
            ]
          },
          "execution_count": 69,
          "metadata": {},
          "output_type": "execute_result"
        }
      ],
      "source": [
        "pipe_knn.fit(X_trainval, y_trainval)"
      ]
    },
    {
      "cell_type": "markdown",
      "metadata": {
        "id": "be8YOs0mZfPb"
      },
      "source": [
        "## Naive Bayes (MultinomialNB) Model"
      ]
    },
    {
      "cell_type": "code",
      "execution_count": 70,
      "metadata": {
        "colab": {
          "base_uri": "https://localhost:8080/"
        },
        "id": "6UqiVepKT0d9",
        "outputId": "e8b7d829-bd41-43fe-b040-2a057845c3c2"
      },
      "outputs": [
        {
          "data": {
            "text/plain": [
              "Pipeline(steps=[('prep',\n",
              "                 ColumnTransformer(transformers=[('pdays_norm',\n",
              "                                                  FunctionTransformer(func=<function <lambda> at 0x7f11c5187320>),\n",
              "                                                  ['pdays']),\n",
              "                                                 ('scaling',\n",
              "                                                  Pipeline(steps=[('scaler',\n",
              "                                                                   MinMaxScaler())]),\n",
              "                                                  ['previous', 'month_',\n",
              "                                                   'contact_', 'job_',\n",
              "                                                   'cons.price.idx',\n",
              "                                                   'emp.var.rate', 'euribor3m',\n",
              "                                                   'nr.employed',\n",
              "                                                   'credit_'])])),\n",
              "                ('nb', MultinomialNB())])"
            ]
          },
          "execution_count": 70,
          "metadata": {},
          "output_type": "execute_result"
        }
      ],
      "source": [
        "pipe_nb.fit(X_trainval, y_trainval)"
      ]
    },
    {
      "cell_type": "markdown",
      "metadata": {
        "id": "rSya1qKuZi-W"
      },
      "source": [
        "## GradientBoosting Model"
      ]
    },
    {
      "cell_type": "code",
      "execution_count": 78,
      "metadata": {
        "colab": {
          "base_uri": "https://localhost:8080/"
        },
        "id": "h2S2cLzvT4vi",
        "outputId": "91c0f5e4-fbe1-4e4e-a42a-5e77acff2b6c"
      },
      "outputs": [
        {
          "data": {
            "text/plain": [
              "Pipeline(steps=[('prep',\n",
              "                 ColumnTransformer(transformers=[('pdays_norm',\n",
              "                                                  FunctionTransformer(func=<function <lambda> at 0x7f11c5187320>),\n",
              "                                                  ['pdays']),\n",
              "                                                 ('scaling',\n",
              "                                                  Pipeline(steps=[('scaler',\n",
              "                                                                   MinMaxScaler())]),\n",
              "                                                  ['previous', 'month_',\n",
              "                                                   'contact_', 'job_',\n",
              "                                                   'cons.price.idx',\n",
              "                                                   'emp.var.rate', 'euribor3m',\n",
              "                                                   'nr.employed',\n",
              "                                                   'credit_'])])),\n",
              "                ('gb', GradientBoostingClassifier(random_state=15))])"
            ]
          },
          "execution_count": 78,
          "metadata": {},
          "output_type": "execute_result"
        }
      ],
      "source": [
        "pipe_gb.fit(X_trainval, y_trainval) #12s"
      ]
    },
    {
      "cell_type": "markdown",
      "metadata": {
        "id": "L6HZUOAogjsZ"
      },
      "source": [
        "# 8. Model Evaluation"
      ]
    },
    {
      "cell_type": "markdown",
      "metadata": {
        "id": "3o6Daj83anJI"
      },
      "source": [
        "## 8.1 Cross Validation\n",
        "Scoring yang digunakan adalah roc_auc agar model dapat memisahkan kedua kelas lebih baik. Mengingat bahwa data kita sangat imbalance, maka roc_auc merupakan model yang cukup baik agar model dapat belajar untuk mengklasifikasikan kedua kelas. Untuk mendapatkan model yang terbaik, akan digunakan `cross_val_score` nengan fold sebanyak 5x\n",
        "\n",
        "Sumber : https://www.analyticsvidhya.com/blog/2020/06/auc-roc-curve-machine-learning/#:~:text=The%20Area%20Under%20the%20Curve,the%20positive%20and%20negative%20classes."
      ]
    },
    {
      "cell_type": "code",
      "execution_count": 72,
      "metadata": {
        "id": "ITaTxWjOdkW3"
      },
      "outputs": [],
      "source": [
        "models = ['LogisticRegression', 'SVM', 'DecisionTree','RandomForest','KNN','NaiveBayes','GradientBoost']"
      ]
    },
    {
      "cell_type": "code",
      "execution_count": 73,
      "metadata": {
        "id": "Kg-1d1L1KWRh"
      },
      "outputs": [],
      "source": [
        "### LOGISTIC REGRESSION ###\n",
        "score_lr = cross_val_score(pipe_lr, X_trainval, y_trainval, cv=5, scoring=\"roc_auc\")\n",
        "\n",
        "### SVM ###\n",
        "score_svm = cross_val_score(pipe_svm, X_trainval, y_trainval, cv=5, scoring=\"roc_auc\")\n",
        "\n",
        "### DECISION TREE ###\n",
        "score_dt = cross_val_score(pipe_dt, X_trainval, y_trainval, cv=5, scoring=\"roc_auc\")\n",
        "\n",
        "### RANDOM FOREST ###\n",
        "score_rf = cross_val_score(pipe_rf, X_trainval, y_trainval, cv=5, scoring=\"roc_auc\")\n",
        "\n",
        "###  K-NEAREST NEIGHBOR ###\n",
        "score_knn = cross_val_score(pipe_knn, X_trainval, y_trainval, cv=5, scoring=\"roc_auc\")\n",
        "\n",
        "### NAIVE BAYES ###\n",
        "score_nb = cross_val_score(pipe_nb, X_trainval, y_trainval, cv=5, scoring=\"roc_auc\")\n",
        "\n",
        "### GRADIENT BOOSTING ###\n",
        "score_gb = cross_val_score(pipe_gb, X_trainval, y_trainval, cv=5, scoring=\"roc_auc\")"
      ]
    },
    {
      "cell_type": "code",
      "execution_count": 74,
      "metadata": {
        "id": "QRQ1uunMdkW3"
      },
      "outputs": [],
      "source": [
        "#mencari nilai rata-rata dan standar deviasi dari cross_val_score dengan scoring roc_auc\n",
        "roc_auc_mean_train = [np.mean(score_lr), np.mean(score_svm), np.mean(score_dt), np.mean(score_rf), np.mean(score_knn),\n",
        "                np.mean(score_nb), np.mean(score_gb)]\n",
        "roc_auc_std_train = [np.std(score_lr), np.std(score_svm), np.std(score_dt), np.std(score_rf), np.std(score_knn),\n",
        "                np.std(score_nb), np.std(score_gb)]"
      ]
    },
    {
      "cell_type": "code",
      "execution_count": 75,
      "metadata": {
        "colab": {
          "base_uri": "https://localhost:8080/",
          "height": 269
        },
        "id": "fZ4YMsxjdkW4",
        "outputId": "6915bd75-d1ec-47af-8bad-dfefb3b9e06b"
      },
      "outputs": [
        {
          "data": {
            "text/html": [
              "\n",
              "  <div id=\"df-903acfe6-409f-48ac-9187-4951099ab992\">\n",
              "    <div class=\"colab-df-container\">\n",
              "      <div>\n",
              "<style scoped>\n",
              "    .dataframe tbody tr th:only-of-type {\n",
              "        vertical-align: middle;\n",
              "    }\n",
              "\n",
              "    .dataframe tbody tr th {\n",
              "        vertical-align: top;\n",
              "    }\n",
              "\n",
              "    .dataframe thead th {\n",
              "        text-align: right;\n",
              "    }\n",
              "</style>\n",
              "<table border=\"1\" class=\"dataframe\">\n",
              "  <thead>\n",
              "    <tr style=\"text-align: right;\">\n",
              "      <th></th>\n",
              "      <th>Models</th>\n",
              "      <th>roc_auc_mean_train</th>\n",
              "      <th>roc_auc_std_train</th>\n",
              "    </tr>\n",
              "  </thead>\n",
              "  <tbody>\n",
              "    <tr>\n",
              "      <th>0</th>\n",
              "      <td>GradientBoost</td>\n",
              "      <td>0.796262</td>\n",
              "      <td>0.008797</td>\n",
              "    </tr>\n",
              "    <tr>\n",
              "      <th>1</th>\n",
              "      <td>LogisticRegression</td>\n",
              "      <td>0.784988</td>\n",
              "      <td>0.011397</td>\n",
              "    </tr>\n",
              "    <tr>\n",
              "      <th>2</th>\n",
              "      <td>NaiveBayes</td>\n",
              "      <td>0.774310</td>\n",
              "      <td>0.013988</td>\n",
              "    </tr>\n",
              "    <tr>\n",
              "      <th>3</th>\n",
              "      <td>RandomForest</td>\n",
              "      <td>0.758189</td>\n",
              "      <td>0.009358</td>\n",
              "    </tr>\n",
              "    <tr>\n",
              "      <th>4</th>\n",
              "      <td>SVM</td>\n",
              "      <td>0.734617</td>\n",
              "      <td>0.029296</td>\n",
              "    </tr>\n",
              "    <tr>\n",
              "      <th>5</th>\n",
              "      <td>KNN</td>\n",
              "      <td>0.733357</td>\n",
              "      <td>0.007990</td>\n",
              "    </tr>\n",
              "    <tr>\n",
              "      <th>6</th>\n",
              "      <td>DecisionTree</td>\n",
              "      <td>0.639770</td>\n",
              "      <td>0.008514</td>\n",
              "    </tr>\n",
              "  </tbody>\n",
              "</table>\n",
              "</div>\n",
              "      <button class=\"colab-df-convert\" onclick=\"convertToInteractive('df-903acfe6-409f-48ac-9187-4951099ab992')\"\n",
              "              title=\"Convert this dataframe to an interactive table.\"\n",
              "              style=\"display:none;\">\n",
              "        \n",
              "  <svg xmlns=\"http://www.w3.org/2000/svg\" height=\"24px\"viewBox=\"0 0 24 24\"\n",
              "       width=\"24px\">\n",
              "    <path d=\"M0 0h24v24H0V0z\" fill=\"none\"/>\n",
              "    <path d=\"M18.56 5.44l.94 2.06.94-2.06 2.06-.94-2.06-.94-.94-2.06-.94 2.06-2.06.94zm-11 1L8.5 8.5l.94-2.06 2.06-.94-2.06-.94L8.5 2.5l-.94 2.06-2.06.94zm10 10l.94 2.06.94-2.06 2.06-.94-2.06-.94-.94-2.06-.94 2.06-2.06.94z\"/><path d=\"M17.41 7.96l-1.37-1.37c-.4-.4-.92-.59-1.43-.59-.52 0-1.04.2-1.43.59L10.3 9.45l-7.72 7.72c-.78.78-.78 2.05 0 2.83L4 21.41c.39.39.9.59 1.41.59.51 0 1.02-.2 1.41-.59l7.78-7.78 2.81-2.81c.8-.78.8-2.07 0-2.86zM5.41 20L4 18.59l7.72-7.72 1.47 1.35L5.41 20z\"/>\n",
              "  </svg>\n",
              "      </button>\n",
              "      \n",
              "  <style>\n",
              "    .colab-df-container {\n",
              "      display:flex;\n",
              "      flex-wrap:wrap;\n",
              "      gap: 12px;\n",
              "    }\n",
              "\n",
              "    .colab-df-convert {\n",
              "      background-color: #E8F0FE;\n",
              "      border: none;\n",
              "      border-radius: 50%;\n",
              "      cursor: pointer;\n",
              "      display: none;\n",
              "      fill: #1967D2;\n",
              "      height: 32px;\n",
              "      padding: 0 0 0 0;\n",
              "      width: 32px;\n",
              "    }\n",
              "\n",
              "    .colab-df-convert:hover {\n",
              "      background-color: #E2EBFA;\n",
              "      box-shadow: 0px 1px 2px rgba(60, 64, 67, 0.3), 0px 1px 3px 1px rgba(60, 64, 67, 0.15);\n",
              "      fill: #174EA6;\n",
              "    }\n",
              "\n",
              "    [theme=dark] .colab-df-convert {\n",
              "      background-color: #3B4455;\n",
              "      fill: #D2E3FC;\n",
              "    }\n",
              "\n",
              "    [theme=dark] .colab-df-convert:hover {\n",
              "      background-color: #434B5C;\n",
              "      box-shadow: 0px 1px 3px 1px rgba(0, 0, 0, 0.15);\n",
              "      filter: drop-shadow(0px 1px 2px rgba(0, 0, 0, 0.3));\n",
              "      fill: #FFFFFF;\n",
              "    }\n",
              "  </style>\n",
              "\n",
              "      <script>\n",
              "        const buttonEl =\n",
              "          document.querySelector('#df-903acfe6-409f-48ac-9187-4951099ab992 button.colab-df-convert');\n",
              "        buttonEl.style.display =\n",
              "          google.colab.kernel.accessAllowed ? 'block' : 'none';\n",
              "\n",
              "        async function convertToInteractive(key) {\n",
              "          const element = document.querySelector('#df-903acfe6-409f-48ac-9187-4951099ab992');\n",
              "          const dataTable =\n",
              "            await google.colab.kernel.invokeFunction('convertToInteractive',\n",
              "                                                     [key], {});\n",
              "          if (!dataTable) return;\n",
              "\n",
              "          const docLinkHtml = 'Like what you see? Visit the ' +\n",
              "            '<a target=\"_blank\" href=https://colab.research.google.com/notebooks/data_table.ipynb>data table notebook</a>'\n",
              "            + ' to learn more about interactive tables.';\n",
              "          element.innerHTML = '';\n",
              "          dataTable['output_type'] = 'display_data';\n",
              "          await google.colab.output.renderOutput(dataTable, element);\n",
              "          const docLink = document.createElement('div');\n",
              "          docLink.innerHTML = docLinkHtml;\n",
              "          element.appendChild(docLink);\n",
              "        }\n",
              "      </script>\n",
              "    </div>\n",
              "  </div>\n",
              "  "
            ],
            "text/plain": [
              "               Models  roc_auc_mean_train  roc_auc_std_train\n",
              "0       GradientBoost            0.796262           0.008797\n",
              "1  LogisticRegression            0.784988           0.011397\n",
              "2          NaiveBayes            0.774310           0.013988\n",
              "3        RandomForest            0.758189           0.009358\n",
              "4                 SVM            0.734617           0.029296\n",
              "5                 KNN            0.733357           0.007990\n",
              "6        DecisionTree            0.639770           0.008514"
            ]
          },
          "execution_count": 75,
          "metadata": {},
          "output_type": "execute_result"
        }
      ],
      "source": [
        "#membuat dataframe untuk cross validation \n",
        "cv_roc_auc_train = pd.DataFrame({'Models' : models, 'roc_auc_mean_train' : roc_auc_mean_train, 'roc_auc_std_train': roc_auc_std_train})\n",
        "cv_roc_auc_train.sort_values(by='roc_auc_mean_train', ascending=False).reset_index(drop=True)"
      ]
    },
    {
      "cell_type": "markdown",
      "metadata": {
        "id": "oeGaycpMdkW4"
      },
      "source": [
        "> Berdasarkan cross_val_score, mean dari ke-7 model, mean recall yang paling tinggi adalah model **GradientBoost**.  Maka dari itu saya memutuskan untuk memprediksi data test akan menggunakan model **GradientBoost** dengan menentukan hyperparameternya \n",
        "\n",
        "> Model yang bagus adalah model dengan mean tertinggi dan std yang rendah"
      ]
    },
    {
      "cell_type": "markdown",
      "metadata": {
        "id": "ivmCXjoCaqJc"
      },
      "source": [
        "## 8.2 GridSearchCV\n",
        "GridSearchCV dilakukan untuk menemukan Hyperparameter Tuning untuk model GradientBoost sebagai model terbaik"
      ]
    },
    {
      "cell_type": "code",
      "execution_count": 79,
      "metadata": {
        "colab": {
          "base_uri": "https://localhost:8080/"
        },
        "id": "6dJcwZPQa0Pa",
        "outputId": "468daffd-211b-4009-b470-768d7afbac10"
      },
      "outputs": [
        {
          "name": "stdout",
          "output_type": "stream",
          "text": [
            "Fitting 2 folds for each of 16 candidates, totalling 32 fits\n"
          ]
        }
      ],
      "source": [
        "grid_gb = GridSearchCV(pipe_gb, param_gb, cv=2, verbose=True, scoring='roc_auc').fit(X_trainval, y_trainval) #cv=5 up to 40m ON VSC"
      ]
    },
    {
      "cell_type": "code",
      "execution_count": 80,
      "metadata": {
        "colab": {
          "base_uri": "https://localhost:8080/"
        },
        "id": "ZSeOZz6adCMp",
        "outputId": "7844936e-f310-416e-d70f-6b3b85892a76"
      },
      "outputs": [
        {
          "name": "stdout",
          "output_type": "stream",
          "text": [
            "Best parameter untuk model Gradient Boost adalah\n",
            " {'gb__learning_rate': 0.1, 'gb__loss': 'deviance', 'gb__max_depth': 5, 'gb__n_estimators': 100}\n"
          ]
        }
      ],
      "source": [
        "print('Best parameter untuk model Gradient Boost adalah\\n',grid_gb.best_params_)"
      ]
    },
    {
      "cell_type": "code",
      "execution_count": 81,
      "metadata": {
        "id": "VW6s_g9BdO0j"
      },
      "outputs": [],
      "source": [
        "best_gb = grid_gb.best_estimator_"
      ]
    },
    {
      "cell_type": "markdown",
      "metadata": {
        "id": "IfzsOrfxcZbl"
      },
      "source": [
        "## 8.3 Predict Test\n",
        "Setelah mendapatkan Hyperparameter terbaik, maka model dengan parameter tersebut akan digunakan untuk memprediksi data test"
      ]
    },
    {
      "cell_type": "code",
      "execution_count": 82,
      "metadata": {
        "id": "KZBQ_fqDdkW-"
      },
      "outputs": [],
      "source": [
        "y_pred_train_gb = best_gb.predict(X_trainval)\n",
        "y_pred_test_gb = best_gb.predict(X_testval)"
      ]
    },
    {
      "cell_type": "code",
      "execution_count": 83,
      "metadata": {
        "colab": {
          "base_uri": "https://localhost:8080/"
        },
        "id": "IQ-EZJsndkW-",
        "outputId": "f7c49543-d0bd-4238-c671-c1b841a2709a"
      },
      "outputs": [
        {
          "name": "stdout",
          "output_type": "stream",
          "text": [
            "Classification Report Gradient Boost Train set\n",
            "               precision    recall  f1-score   support\n",
            "\n",
            "           0       0.92      0.99      0.95     29216\n",
            "           1       0.74      0.31      0.44      3730\n",
            "\n",
            "    accuracy                           0.91     32946\n",
            "   macro avg       0.83      0.65      0.70     32946\n",
            "weighted avg       0.90      0.91      0.89     32946\n",
            "\n",
            "\n",
            "Classification Report Gradient Boost Test set\n",
            "               precision    recall  f1-score   support\n",
            "\n",
            "           0       0.92      0.98      0.95      7328\n",
            "           1       0.63      0.27      0.38       909\n",
            "\n",
            "    accuracy                           0.90      8237\n",
            "   macro avg       0.77      0.63      0.66      8237\n",
            "weighted avg       0.88      0.90      0.88      8237\n",
            "\n"
          ]
        }
      ],
      "source": [
        "print('Classification Report Gradient Boost Train set\\n', classification_report(y_trainval, y_pred_train_gb))\n",
        "print('\\nClassification Report Gradient Boost Test set\\n', classification_report(y_testval, y_pred_test_gb))"
      ]
    },
    {
      "cell_type": "code",
      "execution_count": 98,
      "metadata": {
        "colab": {
          "base_uri": "https://localhost:8080/"
        },
        "id": "dQQxO-uHohmb",
        "outputId": "f6ffa1b9-1024-4033-ade6-f1cd2f86e4ff"
      },
      "outputs": [
        {
          "data": {
            "text/plain": [
              "array([[7184,  144],\n",
              "       [ 661,  248]])"
            ]
          },
          "execution_count": 98,
          "metadata": {},
          "output_type": "execute_result"
        }
      ],
      "source": [
        "confusion_matrix(y_testval, y_pred_test_gb)"
      ]
    },
    {
      "cell_type": "code",
      "execution_count": 5,
      "metadata": {
        "colab": {
          "base_uri": "https://localhost:8080/",
          "height": 312
        },
        "id": "XkhFqO8pdkW_",
        "outputId": "7f48be64-7048-4a1d-dc46-d62b5f173e64"
      },
      "outputs": [
        {
          "ename": "NameError",
          "evalue": "name 'confusion_matrix' is not defined",
          "output_type": "error",
          "traceback": [
            "\u001b[1;31m---------------------------------------------------------------------------\u001b[0m",
            "\u001b[1;31mNameError\u001b[0m                                 Traceback (most recent call last)",
            "\u001b[1;32m~\\AppData\\Local\\Temp/ipykernel_9736/4103767933.py\u001b[0m in \u001b[0;36m<module>\u001b[1;34m\u001b[0m\n\u001b[1;32m----> 1\u001b[1;33m \u001b[0mconfusion_mat_gb_test\u001b[0m \u001b[1;33m=\u001b[0m \u001b[0mconfusion_matrix\u001b[0m\u001b[1;33m(\u001b[0m\u001b[0my_testval\u001b[0m\u001b[1;33m,\u001b[0m \u001b[0my_pred_test_gb\u001b[0m\u001b[1;33m)\u001b[0m\u001b[1;33m\u001b[0m\u001b[1;33m\u001b[0m\u001b[0m\n\u001b[0m\u001b[0;32m      2\u001b[0m \u001b[0msns\u001b[0m\u001b[1;33m.\u001b[0m\u001b[0mheatmap\u001b[0m\u001b[1;33m(\u001b[0m\u001b[0mconfusion_mat_gb_test\u001b[0m\u001b[1;33m,\u001b[0m \u001b[0mannot\u001b[0m\u001b[1;33m=\u001b[0m\u001b[1;32mTrue\u001b[0m\u001b[1;33m)\u001b[0m\u001b[1;33m\u001b[0m\u001b[1;33m\u001b[0m\u001b[0m\n\u001b[0;32m      3\u001b[0m \u001b[0mplt\u001b[0m\u001b[1;33m.\u001b[0m\u001b[0mxlabel\u001b[0m\u001b[1;33m(\u001b[0m\u001b[1;34m'Predicted'\u001b[0m\u001b[1;33m)\u001b[0m\u001b[1;33m\u001b[0m\u001b[1;33m\u001b[0m\u001b[0m\n\u001b[0;32m      4\u001b[0m \u001b[0mplt\u001b[0m\u001b[1;33m.\u001b[0m\u001b[0mylabel\u001b[0m\u001b[1;33m(\u001b[0m\u001b[1;34m'Actual'\u001b[0m\u001b[1;33m)\u001b[0m\u001b[1;33m\u001b[0m\u001b[1;33m\u001b[0m\u001b[0m\n\u001b[0;32m      5\u001b[0m \u001b[0mplt\u001b[0m\u001b[1;33m.\u001b[0m\u001b[0mtitle\u001b[0m\u001b[1;33m(\u001b[0m\u001b[1;34m'Confusion Matrix Test Set'\u001b[0m\u001b[1;33m)\u001b[0m\u001b[1;33m\u001b[0m\u001b[1;33m\u001b[0m\u001b[0m\n",
            "\u001b[1;31mNameError\u001b[0m: name 'confusion_matrix' is not defined"
          ]
        }
      ],
      "source": [
        "confusion_mat_gb_test = confusion_matrix(y_testval, y_pred_test_gb)\n",
        "sns.heatmap(confusion_mat_gb_test, annot=True)\n",
        "plt.xlabel('Predicted')\n",
        "plt.ylabel('Actual')\n",
        "plt.title('Confusion Matrix Test Set')"
      ]
    },
    {
      "cell_type": "code",
      "execution_count": 4,
      "metadata": {
        "colab": {
          "base_uri": "https://localhost:8080/",
          "height": 312
        },
        "id": "h0O3WA04dkXA",
        "outputId": "23bc51b5-5c44-4204-c134-fe5023cb71bd"
      },
      "outputs": [
        {
          "ename": "NameError",
          "evalue": "name 'plt' is not defined",
          "output_type": "error",
          "traceback": [
            "\u001b[1;31m---------------------------------------------------------------------------\u001b[0m",
            "\u001b[1;31mNameError\u001b[0m                                 Traceback (most recent call last)",
            "\u001b[1;32m~\\AppData\\Local\\Temp/ipykernel_9736/3594533120.py\u001b[0m in \u001b[0;36m<module>\u001b[1;34m\u001b[0m\n\u001b[1;32m----> 1\u001b[1;33m \u001b[0mfig\u001b[0m\u001b[1;33m,\u001b[0m \u001b[0max\u001b[0m \u001b[1;33m=\u001b[0m \u001b[0mplt\u001b[0m\u001b[1;33m.\u001b[0m\u001b[0msubplots\u001b[0m\u001b[1;33m(\u001b[0m\u001b[0mncols\u001b[0m\u001b[1;33m=\u001b[0m\u001b[1;36m2\u001b[0m\u001b[1;33m)\u001b[0m\u001b[1;33m\u001b[0m\u001b[1;33m\u001b[0m\u001b[0m\n\u001b[0m\u001b[0;32m      2\u001b[0m \u001b[0mplot_roc_curve\u001b[0m\u001b[1;33m(\u001b[0m\u001b[0mbest_gb\u001b[0m\u001b[1;33m,\u001b[0m \u001b[0mX_trainval\u001b[0m\u001b[1;33m,\u001b[0m \u001b[0my_trainval\u001b[0m\u001b[1;33m,\u001b[0m \u001b[0max\u001b[0m\u001b[1;33m=\u001b[0m\u001b[0max\u001b[0m\u001b[1;33m,\u001b[0m \u001b[0mname\u001b[0m\u001b[1;33m=\u001b[0m\u001b[1;34m'Training'\u001b[0m\u001b[1;33m)\u001b[0m\u001b[1;33m\u001b[0m\u001b[1;33m\u001b[0m\u001b[0m\n\u001b[0;32m      3\u001b[0m \u001b[1;31m# plot_roc_curve(best_gb, X_testval, y_testval, ax=ax, name='Test')\u001b[0m\u001b[1;33m\u001b[0m\u001b[1;33m\u001b[0m\u001b[0m\n\u001b[0;32m      4\u001b[0m \u001b[0mplt\u001b[0m\u001b[1;33m.\u001b[0m\u001b[0mtitle\u001b[0m\u001b[1;33m(\u001b[0m\u001b[1;34m'ROC AUC Score'\u001b[0m\u001b[1;33m)\u001b[0m\u001b[1;33m\u001b[0m\u001b[1;33m\u001b[0m\u001b[0m\n",
            "\u001b[1;31mNameError\u001b[0m: name 'plt' is not defined"
          ]
        }
      ],
      "source": [
        "fig, ax = plt.subplots(ncols=2)\n",
        "plot_roc_curve(best_gb, X_trainval, y_trainval, ax=ax, name='Training')\n",
        "# plot_roc_curve(best_gb, X_testval, y_testval, ax=ax, name='Test')\n",
        "plt.title('ROC AUC Score')\n"
      ]
    },
    {
      "cell_type": "markdown",
      "metadata": {
        "id": "ZXPsjb6ndc4T"
      },
      "source": [
        "> Classification Report : \n",
        ">> Model masih agak **overfit** pada train test. Hal ini dapat dilihat dari nilai keseluruhan (precision, recall, dan f1 score) pada data trainset lebih tinggi daripada nilai precision, recall, dan f1 score di test set. \n",
        "Model masih kurang bagus untuk memprediksi data pada kelas 1, namun hal ini cukup sederhana untuk memprediksi kedua kelas dikarenakan data yang imbalance antara data kelas 0 dan 1\n",
        "\n",
        "\n",
        "> Confussion Matrix : \n",
        ">> Pada testset, model GradientBoost  memprediksi 7184+248 = 7.432 data yang benar dan 661+144 = 805 data yang salah (total = 8.237) atau sekitar 90% data benar\n",
        "\n",
        "> ROC AUC\n",
        ">> Skorline AUC untuk GradientBoost masih diatas 0.5 sehingga model masih cukup bagus, namun berdasarkan skornya roc_auc pada traintest masih lebih besar dari test set (Overfit)"
      ]
    },
    {
      "cell_type": "markdown",
      "metadata": {
        "id": "ND3QAjqYdkXC"
      },
      "source": [
        "### 8.3.3 Melihat hasil prediksi dengan actual data"
      ]
    },
    {
      "cell_type": "code",
      "execution_count": 86,
      "metadata": {
        "colab": {
          "base_uri": "https://localhost:8080/",
          "height": 424
        },
        "id": "8SB3pbs7Dg-r",
        "outputId": "182bac10-1826-41b0-c255-75fd61d99201"
      },
      "outputs": [
        {
          "data": {
            "text/html": [
              "\n",
              "  <div id=\"df-37126a16-5adc-46a6-aea9-83fe07bffbac\">\n",
              "    <div class=\"colab-df-container\">\n",
              "      <div>\n",
              "<style scoped>\n",
              "    .dataframe tbody tr th:only-of-type {\n",
              "        vertical-align: middle;\n",
              "    }\n",
              "\n",
              "    .dataframe tbody tr th {\n",
              "        vertical-align: top;\n",
              "    }\n",
              "\n",
              "    .dataframe thead th {\n",
              "        text-align: right;\n",
              "    }\n",
              "</style>\n",
              "<table border=\"1\" class=\"dataframe\">\n",
              "  <thead>\n",
              "    <tr style=\"text-align: right;\">\n",
              "      <th></th>\n",
              "      <th>Actual</th>\n",
              "      <th>Predicted_gb</th>\n",
              "    </tr>\n",
              "  </thead>\n",
              "  <tbody>\n",
              "    <tr>\n",
              "      <th>0</th>\n",
              "      <td>0</td>\n",
              "      <td>0</td>\n",
              "    </tr>\n",
              "    <tr>\n",
              "      <th>1</th>\n",
              "      <td>0</td>\n",
              "      <td>0</td>\n",
              "    </tr>\n",
              "    <tr>\n",
              "      <th>2</th>\n",
              "      <td>0</td>\n",
              "      <td>0</td>\n",
              "    </tr>\n",
              "    <tr>\n",
              "      <th>3</th>\n",
              "      <td>0</td>\n",
              "      <td>0</td>\n",
              "    </tr>\n",
              "    <tr>\n",
              "      <th>4</th>\n",
              "      <td>0</td>\n",
              "      <td>0</td>\n",
              "    </tr>\n",
              "    <tr>\n",
              "      <th>...</th>\n",
              "      <td>...</td>\n",
              "      <td>...</td>\n",
              "    </tr>\n",
              "    <tr>\n",
              "      <th>8232</th>\n",
              "      <td>0</td>\n",
              "      <td>0</td>\n",
              "    </tr>\n",
              "    <tr>\n",
              "      <th>8233</th>\n",
              "      <td>0</td>\n",
              "      <td>0</td>\n",
              "    </tr>\n",
              "    <tr>\n",
              "      <th>8234</th>\n",
              "      <td>0</td>\n",
              "      <td>0</td>\n",
              "    </tr>\n",
              "    <tr>\n",
              "      <th>8235</th>\n",
              "      <td>0</td>\n",
              "      <td>0</td>\n",
              "    </tr>\n",
              "    <tr>\n",
              "      <th>8236</th>\n",
              "      <td>0</td>\n",
              "      <td>0</td>\n",
              "    </tr>\n",
              "  </tbody>\n",
              "</table>\n",
              "<p>8237 rows × 2 columns</p>\n",
              "</div>\n",
              "      <button class=\"colab-df-convert\" onclick=\"convertToInteractive('df-37126a16-5adc-46a6-aea9-83fe07bffbac')\"\n",
              "              title=\"Convert this dataframe to an interactive table.\"\n",
              "              style=\"display:none;\">\n",
              "        \n",
              "  <svg xmlns=\"http://www.w3.org/2000/svg\" height=\"24px\"viewBox=\"0 0 24 24\"\n",
              "       width=\"24px\">\n",
              "    <path d=\"M0 0h24v24H0V0z\" fill=\"none\"/>\n",
              "    <path d=\"M18.56 5.44l.94 2.06.94-2.06 2.06-.94-2.06-.94-.94-2.06-.94 2.06-2.06.94zm-11 1L8.5 8.5l.94-2.06 2.06-.94-2.06-.94L8.5 2.5l-.94 2.06-2.06.94zm10 10l.94 2.06.94-2.06 2.06-.94-2.06-.94-.94-2.06-.94 2.06-2.06.94z\"/><path d=\"M17.41 7.96l-1.37-1.37c-.4-.4-.92-.59-1.43-.59-.52 0-1.04.2-1.43.59L10.3 9.45l-7.72 7.72c-.78.78-.78 2.05 0 2.83L4 21.41c.39.39.9.59 1.41.59.51 0 1.02-.2 1.41-.59l7.78-7.78 2.81-2.81c.8-.78.8-2.07 0-2.86zM5.41 20L4 18.59l7.72-7.72 1.47 1.35L5.41 20z\"/>\n",
              "  </svg>\n",
              "      </button>\n",
              "      \n",
              "  <style>\n",
              "    .colab-df-container {\n",
              "      display:flex;\n",
              "      flex-wrap:wrap;\n",
              "      gap: 12px;\n",
              "    }\n",
              "\n",
              "    .colab-df-convert {\n",
              "      background-color: #E8F0FE;\n",
              "      border: none;\n",
              "      border-radius: 50%;\n",
              "      cursor: pointer;\n",
              "      display: none;\n",
              "      fill: #1967D2;\n",
              "      height: 32px;\n",
              "      padding: 0 0 0 0;\n",
              "      width: 32px;\n",
              "    }\n",
              "\n",
              "    .colab-df-convert:hover {\n",
              "      background-color: #E2EBFA;\n",
              "      box-shadow: 0px 1px 2px rgba(60, 64, 67, 0.3), 0px 1px 3px 1px rgba(60, 64, 67, 0.15);\n",
              "      fill: #174EA6;\n",
              "    }\n",
              "\n",
              "    [theme=dark] .colab-df-convert {\n",
              "      background-color: #3B4455;\n",
              "      fill: #D2E3FC;\n",
              "    }\n",
              "\n",
              "    [theme=dark] .colab-df-convert:hover {\n",
              "      background-color: #434B5C;\n",
              "      box-shadow: 0px 1px 3px 1px rgba(0, 0, 0, 0.15);\n",
              "      filter: drop-shadow(0px 1px 2px rgba(0, 0, 0, 0.3));\n",
              "      fill: #FFFFFF;\n",
              "    }\n",
              "  </style>\n",
              "\n",
              "      <script>\n",
              "        const buttonEl =\n",
              "          document.querySelector('#df-37126a16-5adc-46a6-aea9-83fe07bffbac button.colab-df-convert');\n",
              "        buttonEl.style.display =\n",
              "          google.colab.kernel.accessAllowed ? 'block' : 'none';\n",
              "\n",
              "        async function convertToInteractive(key) {\n",
              "          const element = document.querySelector('#df-37126a16-5adc-46a6-aea9-83fe07bffbac');\n",
              "          const dataTable =\n",
              "            await google.colab.kernel.invokeFunction('convertToInteractive',\n",
              "                                                     [key], {});\n",
              "          if (!dataTable) return;\n",
              "\n",
              "          const docLinkHtml = 'Like what you see? Visit the ' +\n",
              "            '<a target=\"_blank\" href=https://colab.research.google.com/notebooks/data_table.ipynb>data table notebook</a>'\n",
              "            + ' to learn more about interactive tables.';\n",
              "          element.innerHTML = '';\n",
              "          dataTable['output_type'] = 'display_data';\n",
              "          await google.colab.output.renderOutput(dataTable, element);\n",
              "          const docLink = document.createElement('div');\n",
              "          docLink.innerHTML = docLinkHtml;\n",
              "          element.appendChild(docLink);\n",
              "        }\n",
              "      </script>\n",
              "    </div>\n",
              "  </div>\n",
              "  "
            ],
            "text/plain": [
              "      Actual  Predicted_gb\n",
              "0          0             0\n",
              "1          0             0\n",
              "2          0             0\n",
              "3          0             0\n",
              "4          0             0\n",
              "...      ...           ...\n",
              "8232       0             0\n",
              "8233       0             0\n",
              "8234       0             0\n",
              "8235       0             0\n",
              "8236       0             0\n",
              "\n",
              "[8237 rows x 2 columns]"
            ]
          },
          "execution_count": 86,
          "metadata": {},
          "output_type": "execute_result"
        }
      ],
      "source": [
        "gb_result = pd.DataFrame(np.array([y_testval, y_pred_test_gb]).T, columns=['Actual','Predicted_gb'])\n",
        "gb_result"
      ]
    },
    {
      "cell_type": "code",
      "execution_count": 102,
      "metadata": {
        "colab": {
          "base_uri": "https://localhost:8080/"
        },
        "id": "Iz8EeSpWdkXD",
        "outputId": "0b53c9ba-cf4d-49cb-a5cc-718ffb11d81e"
      },
      "outputs": [
        {
          "data": {
            "text/plain": [
              "Actual  Predicted_gb\n",
              "0       0               7184\n",
              "1       0                661\n",
              "        1                248\n",
              "0       1                144\n",
              "dtype: int64"
            ]
          },
          "execution_count": 102,
          "metadata": {},
          "output_type": "execute_result"
        }
      ],
      "source": [
        "gb_result.value_counts()"
      ]
    },
    {
      "cell_type": "markdown",
      "metadata": {
        "id": "l2iYKfOiETJi"
      },
      "source": [
        "> Dari dataframe diatas, model GradientBoost `terlihat` gagal dalam memprediksi kelas yang Actualnya adalah 1 sebanyak 661x (lebih banyak salah memprediksi kelas 1), namun hanya gagal 144x dalam memprediksi kelas yang actualnya adalah 0. Hal ini cukup menjelaskan `classification report` dimana model memang lemah untuk memprediksi kelas 1"
      ]
    },
    {
      "cell_type": "markdown",
      "metadata": {
        "id": "1Xrik0xt3Wtm"
      },
      "source": [
        "## 8.4 Predicting with baseline model\n",
        "Memprediksi data menggunakan 6 model lain yang tidak ditunning "
      ]
    },
    {
      "cell_type": "code",
      "execution_count": 88,
      "metadata": {
        "id": "VCLtQMoD3bX7"
      },
      "outputs": [],
      "source": [
        "### LOGISTIC REGRESSION ###\n",
        "y_pred_train_lr = pipe_lr.predict(X_trainval)\n",
        "y_pred_test_lr = pipe_lr.predict(X_testval)\n",
        "\n",
        "### DECISION TREE ###\n",
        "y_pred_train_dt = pipe_dt.predict(X_trainval)\n",
        "y_pred_test_dt = pipe_dt.predict(X_testval)\n",
        "\n",
        "### NAIVE BAYES ###\n",
        "y_pred_train_nb = pipe_nb.predict(X_trainval)\n",
        "y_pred_test_nb = pipe_nb.predict(X_testval)\n",
        "\n",
        "### SUPPORT VECTOR MACHINE ###\n",
        "y_pred_train_svm = pipe_svm.predict(X_trainval)\n",
        "y_pred_test_svm = pipe_svm.predict(X_testval)\n",
        "\n",
        "### RANDOM FOREST  ###\n",
        "y_pred_train_rf = pipe_rf.predict(X_trainval)\n",
        "y_pred_test_rf = pipe_rf.predict(X_testval)\n",
        "\n",
        "### KNN ###\n",
        "y_pred_train_knn = pipe_knn.predict(X_trainval)\n",
        "y_pred_test_knn = pipe_knn.predict(X_testval)"
      ]
    },
    {
      "cell_type": "markdown",
      "metadata": {
        "id": "Pb9x_RWodkXF"
      },
      "source": [
        "### 8.4.1 Evaluate"
      ]
    },
    {
      "cell_type": "code",
      "execution_count": 89,
      "metadata": {
        "id": "dnv6YIsSdkXF"
      },
      "outputs": [],
      "source": [
        "roc_auc_score_baseline_lr_train = roc_auc_score(y_trainval, y_pred_train_lr)\n",
        "roc_auc_score_baseline_lr_test = roc_auc_score(y_testval, y_pred_test_lr)\n",
        "\n",
        "roc_auc_score_baseline_dt_train = roc_auc_score(y_trainval, y_pred_train_dt)\n",
        "roc_auc_score_baseline_dt_test = roc_auc_score(y_testval, y_pred_test_dt)\n",
        "\n",
        "roc_auc_score_baseline_nb_train= roc_auc_score(y_trainval, y_pred_train_nb)\n",
        "roc_auc_score_baseline_nb_test = roc_auc_score(y_testval, y_pred_test_nb)\n",
        "\n",
        "roc_auc_score_baseline_svm_train = roc_auc_score(y_trainval, y_pred_train_svm)\n",
        "roc_auc_score_baseline_svm_test = roc_auc_score(y_testval, y_pred_test_svm)\n",
        "\n",
        "roc_auc_score_baseline_rf_train = roc_auc_score(y_trainval, y_pred_train_rf)\n",
        "roc_auc_score_baseline_rf_test = roc_auc_score(y_testval, y_pred_test_rf)\n",
        "\n",
        "roc_auc_score_baseline_knn_train = roc_auc_score(y_trainval, y_pred_train_knn)\n",
        "roc_auc_score_baseline_knn_test=  roc_auc_score(y_testval, y_pred_test_knn)"
      ]
    },
    {
      "cell_type": "code",
      "execution_count": 90,
      "metadata": {
        "id": "A_XReqYvdkXG"
      },
      "outputs": [],
      "source": [
        "models_ = ['Logistic_Regression','Decision_Tree','Naive_Bayes','Support Vector Machine'\n",
        "            , 'Random_Forest', 'KNN']"
      ]
    },
    {
      "cell_type": "code",
      "execution_count": 91,
      "metadata": {
        "id": "UXY71TaHdkXG"
      },
      "outputs": [],
      "source": [
        "roc_auc_baseline_train = [roc_auc_score_baseline_lr_train,roc_auc_score_baseline_dt_train,\n",
        "                        roc_auc_score_baseline_nb_train, roc_auc_score_baseline_svm_train,\n",
        "                        roc_auc_score_baseline_rf_train, roc_auc_score_baseline_knn_train]\n",
        "\n",
        "roc_auc_baseline_test = [roc_auc_score_baseline_lr_test,roc_auc_score_baseline_dt_test,\n",
        "                        roc_auc_score_baseline_nb_test, roc_auc_score_baseline_svm_test,\n",
        "                        roc_auc_score_baseline_rf_test, roc_auc_score_baseline_knn_test]"
      ]
    },
    {
      "cell_type": "code",
      "execution_count": 92,
      "metadata": {
        "colab": {
          "base_uri": "https://localhost:8080/",
          "height": 237
        },
        "id": "dRXW4W5BdkXH",
        "outputId": "dd6c8c03-6926-48b4-d1c9-60d35e486914"
      },
      "outputs": [
        {
          "data": {
            "text/html": [
              "\n",
              "  <div id=\"df-29cd0773-afb3-4b24-a79f-eddb9268d19c\">\n",
              "    <div class=\"colab-df-container\">\n",
              "      <div>\n",
              "<style scoped>\n",
              "    .dataframe tbody tr th:only-of-type {\n",
              "        vertical-align: middle;\n",
              "    }\n",
              "\n",
              "    .dataframe tbody tr th {\n",
              "        vertical-align: top;\n",
              "    }\n",
              "\n",
              "    .dataframe thead th {\n",
              "        text-align: right;\n",
              "    }\n",
              "</style>\n",
              "<table border=\"1\" class=\"dataframe\">\n",
              "  <thead>\n",
              "    <tr style=\"text-align: right;\">\n",
              "      <th></th>\n",
              "      <th>Models</th>\n",
              "      <th>train_roc_auc_baseline</th>\n",
              "      <th>test_roc_auc_baseline</th>\n",
              "    </tr>\n",
              "  </thead>\n",
              "  <tbody>\n",
              "    <tr>\n",
              "      <th>0</th>\n",
              "      <td>KNN</td>\n",
              "      <td>0.672642</td>\n",
              "      <td>0.641780</td>\n",
              "    </tr>\n",
              "    <tr>\n",
              "      <th>1</th>\n",
              "      <td>Random_Forest</td>\n",
              "      <td>0.723555</td>\n",
              "      <td>0.634536</td>\n",
              "    </tr>\n",
              "    <tr>\n",
              "      <th>2</th>\n",
              "      <td>Decision_Tree</td>\n",
              "      <td>0.711528</td>\n",
              "      <td>0.615075</td>\n",
              "    </tr>\n",
              "    <tr>\n",
              "      <th>3</th>\n",
              "      <td>Naive_Bayes</td>\n",
              "      <td>0.596851</td>\n",
              "      <td>0.596463</td>\n",
              "    </tr>\n",
              "    <tr>\n",
              "      <th>4</th>\n",
              "      <td>Support Vector Machine</td>\n",
              "      <td>0.594187</td>\n",
              "      <td>0.593150</td>\n",
              "    </tr>\n",
              "    <tr>\n",
              "      <th>5</th>\n",
              "      <td>Logistic_Regression</td>\n",
              "      <td>0.580189</td>\n",
              "      <td>0.576653</td>\n",
              "    </tr>\n",
              "  </tbody>\n",
              "</table>\n",
              "</div>\n",
              "      <button class=\"colab-df-convert\" onclick=\"convertToInteractive('df-29cd0773-afb3-4b24-a79f-eddb9268d19c')\"\n",
              "              title=\"Convert this dataframe to an interactive table.\"\n",
              "              style=\"display:none;\">\n",
              "        \n",
              "  <svg xmlns=\"http://www.w3.org/2000/svg\" height=\"24px\"viewBox=\"0 0 24 24\"\n",
              "       width=\"24px\">\n",
              "    <path d=\"M0 0h24v24H0V0z\" fill=\"none\"/>\n",
              "    <path d=\"M18.56 5.44l.94 2.06.94-2.06 2.06-.94-2.06-.94-.94-2.06-.94 2.06-2.06.94zm-11 1L8.5 8.5l.94-2.06 2.06-.94-2.06-.94L8.5 2.5l-.94 2.06-2.06.94zm10 10l.94 2.06.94-2.06 2.06-.94-2.06-.94-.94-2.06-.94 2.06-2.06.94z\"/><path d=\"M17.41 7.96l-1.37-1.37c-.4-.4-.92-.59-1.43-.59-.52 0-1.04.2-1.43.59L10.3 9.45l-7.72 7.72c-.78.78-.78 2.05 0 2.83L4 21.41c.39.39.9.59 1.41.59.51 0 1.02-.2 1.41-.59l7.78-7.78 2.81-2.81c.8-.78.8-2.07 0-2.86zM5.41 20L4 18.59l7.72-7.72 1.47 1.35L5.41 20z\"/>\n",
              "  </svg>\n",
              "      </button>\n",
              "      \n",
              "  <style>\n",
              "    .colab-df-container {\n",
              "      display:flex;\n",
              "      flex-wrap:wrap;\n",
              "      gap: 12px;\n",
              "    }\n",
              "\n",
              "    .colab-df-convert {\n",
              "      background-color: #E8F0FE;\n",
              "      border: none;\n",
              "      border-radius: 50%;\n",
              "      cursor: pointer;\n",
              "      display: none;\n",
              "      fill: #1967D2;\n",
              "      height: 32px;\n",
              "      padding: 0 0 0 0;\n",
              "      width: 32px;\n",
              "    }\n",
              "\n",
              "    .colab-df-convert:hover {\n",
              "      background-color: #E2EBFA;\n",
              "      box-shadow: 0px 1px 2px rgba(60, 64, 67, 0.3), 0px 1px 3px 1px rgba(60, 64, 67, 0.15);\n",
              "      fill: #174EA6;\n",
              "    }\n",
              "\n",
              "    [theme=dark] .colab-df-convert {\n",
              "      background-color: #3B4455;\n",
              "      fill: #D2E3FC;\n",
              "    }\n",
              "\n",
              "    [theme=dark] .colab-df-convert:hover {\n",
              "      background-color: #434B5C;\n",
              "      box-shadow: 0px 1px 3px 1px rgba(0, 0, 0, 0.15);\n",
              "      filter: drop-shadow(0px 1px 2px rgba(0, 0, 0, 0.3));\n",
              "      fill: #FFFFFF;\n",
              "    }\n",
              "  </style>\n",
              "\n",
              "      <script>\n",
              "        const buttonEl =\n",
              "          document.querySelector('#df-29cd0773-afb3-4b24-a79f-eddb9268d19c button.colab-df-convert');\n",
              "        buttonEl.style.display =\n",
              "          google.colab.kernel.accessAllowed ? 'block' : 'none';\n",
              "\n",
              "        async function convertToInteractive(key) {\n",
              "          const element = document.querySelector('#df-29cd0773-afb3-4b24-a79f-eddb9268d19c');\n",
              "          const dataTable =\n",
              "            await google.colab.kernel.invokeFunction('convertToInteractive',\n",
              "                                                     [key], {});\n",
              "          if (!dataTable) return;\n",
              "\n",
              "          const docLinkHtml = 'Like what you see? Visit the ' +\n",
              "            '<a target=\"_blank\" href=https://colab.research.google.com/notebooks/data_table.ipynb>data table notebook</a>'\n",
              "            + ' to learn more about interactive tables.';\n",
              "          element.innerHTML = '';\n",
              "          dataTable['output_type'] = 'display_data';\n",
              "          await google.colab.output.renderOutput(dataTable, element);\n",
              "          const docLink = document.createElement('div');\n",
              "          docLink.innerHTML = docLinkHtml;\n",
              "          element.appendChild(docLink);\n",
              "        }\n",
              "      </script>\n",
              "    </div>\n",
              "  </div>\n",
              "  "
            ],
            "text/plain": [
              "                   Models  train_roc_auc_baseline  test_roc_auc_baseline\n",
              "0                     KNN                0.672642               0.641780\n",
              "1           Random_Forest                0.723555               0.634536\n",
              "2           Decision_Tree                0.711528               0.615075\n",
              "3             Naive_Bayes                0.596851               0.596463\n",
              "4  Support Vector Machine                0.594187               0.593150\n",
              "5     Logistic_Regression                0.580189               0.576653"
            ]
          },
          "execution_count": 92,
          "metadata": {},
          "output_type": "execute_result"
        }
      ],
      "source": [
        "pd.DataFrame({'Models' : models_, 'train_roc_auc_baseline' : roc_auc_baseline_train, \n",
        "            'test_roc_auc_baseline' : roc_auc_baseline_test}).sort_values(by='test_roc_auc_baseline',ascending=False).reset_index(drop=True)"
      ]
    },
    {
      "cell_type": "markdown",
      "metadata": {
        "id": "BW22zGwJdkXH"
      },
      "source": [
        "Tabel diatas adalah tabel skor roc_auc dari model baseline yang tidak dilakukan tunning terhadap datatest dan data train. Hasilnya semua model lebih rendah dibanding dengan GradientBoost (0.82) yang ditunning."
      ]
    },
    {
      "cell_type": "markdown",
      "metadata": {
        "id": "P3OlxNUFwZtc"
      },
      "source": [
        "# 9. Model Inference\n",
        "Model Inference adalah menguji model dengan data yang terpisah dari trainset/testset. Biasanya data yang digunakan adalah data `terkini` "
      ]
    },
    {
      "cell_type": "code",
      "execution_count": 93,
      "metadata": {
        "id": "dpG5sXl6dkXI"
      },
      "outputs": [],
      "source": [
        "df_inf1 = df_inf.drop('deposit', axis=1)\n",
        "df_inf2 = df_inf['deposit']"
      ]
    },
    {
      "cell_type": "code",
      "execution_count": 94,
      "metadata": {
        "id": "dB2ozCLRwai6"
      },
      "outputs": [],
      "source": [
        "inf_pred_rf = pipe_rf.predict(df_inf1)\n",
        "inf_pred_rf_df = pd.DataFrame(inf_pred_rf, columns = ['predict_rf'])\n",
        "\n",
        "\n",
        "inf_pred_lr = pipe_lr.predict(df_inf1)\n",
        "inf_pred_lr_df = pd.DataFrame(inf_pred_lr, columns = ['predict_lr'])\n",
        "\n",
        "\n",
        "inf_pred_nb = pipe_nb.predict(df_inf1)\n",
        "inf_pred_nb_df = pd.DataFrame(inf_pred_nb, columns = ['predict_nb'])\n",
        "\n",
        "\n",
        "inf_pred_svm = pipe_svm.predict(df_inf1)\n",
        "inf_pred_svm_df = pd.DataFrame(inf_pred_svm, columns = ['predict_svm'])\n",
        "\n",
        "\n",
        "inf_pred_knn = pipe_knn.predict(df_inf1)\n",
        "inf_pred_knn_df = pd.DataFrame(inf_pred_knn, columns = ['predict_knn'])\n",
        "\n",
        "\n",
        "\n",
        "inf_pred_dt = pipe_dt.predict(df_inf1)\n",
        "inf_pred_dt_df = pd.DataFrame(inf_pred_dt, columns = ['predict_dt'])"
      ]
    },
    {
      "cell_type": "code",
      "execution_count": 95,
      "metadata": {
        "id": "N6xMWQdh7YnR"
      },
      "outputs": [],
      "source": [
        "inf_pred_df = pd.concat([inf_pred_rf_df, inf_pred_lr_df,\n",
        "                         inf_pred_nb_df, inf_pred_svm_df,\n",
        "                         inf_pred_knn_df,inf_pred_dt_df], axis=1)"
      ]
    },
    {
      "cell_type": "code",
      "execution_count": 96,
      "metadata": {
        "colab": {
          "base_uri": "https://localhost:8080/",
          "height": 206
        },
        "id": "fVhbQ3lXEbZM",
        "outputId": "c04d1962-e54a-42be-c87c-aadf00519e4e"
      },
      "outputs": [
        {
          "data": {
            "text/html": [
              "\n",
              "  <div id=\"df-d90354e5-9580-491a-98d1-a989563fc336\">\n",
              "    <div class=\"colab-df-container\">\n",
              "      <div>\n",
              "<style scoped>\n",
              "    .dataframe tbody tr th:only-of-type {\n",
              "        vertical-align: middle;\n",
              "    }\n",
              "\n",
              "    .dataframe tbody tr th {\n",
              "        vertical-align: top;\n",
              "    }\n",
              "\n",
              "    .dataframe thead th {\n",
              "        text-align: right;\n",
              "    }\n",
              "</style>\n",
              "<table border=\"1\" class=\"dataframe\">\n",
              "  <thead>\n",
              "    <tr style=\"text-align: right;\">\n",
              "      <th></th>\n",
              "      <th>deposit</th>\n",
              "      <th>predict_rf</th>\n",
              "      <th>predict_lr</th>\n",
              "      <th>predict_nb</th>\n",
              "      <th>predict_svm</th>\n",
              "      <th>predict_knn</th>\n",
              "      <th>predict_dt</th>\n",
              "    </tr>\n",
              "  </thead>\n",
              "  <tbody>\n",
              "    <tr>\n",
              "      <th>0</th>\n",
              "      <td>1</td>\n",
              "      <td>0</td>\n",
              "      <td>0</td>\n",
              "      <td>0</td>\n",
              "      <td>0</td>\n",
              "      <td>0</td>\n",
              "      <td>0</td>\n",
              "    </tr>\n",
              "    <tr>\n",
              "      <th>1</th>\n",
              "      <td>0</td>\n",
              "      <td>0</td>\n",
              "      <td>0</td>\n",
              "      <td>0</td>\n",
              "      <td>0</td>\n",
              "      <td>0</td>\n",
              "      <td>0</td>\n",
              "    </tr>\n",
              "    <tr>\n",
              "      <th>2</th>\n",
              "      <td>0</td>\n",
              "      <td>0</td>\n",
              "      <td>0</td>\n",
              "      <td>0</td>\n",
              "      <td>0</td>\n",
              "      <td>0</td>\n",
              "      <td>0</td>\n",
              "    </tr>\n",
              "    <tr>\n",
              "      <th>3</th>\n",
              "      <td>0</td>\n",
              "      <td>0</td>\n",
              "      <td>0</td>\n",
              "      <td>0</td>\n",
              "      <td>0</td>\n",
              "      <td>0</td>\n",
              "      <td>0</td>\n",
              "    </tr>\n",
              "    <tr>\n",
              "      <th>4</th>\n",
              "      <td>0</td>\n",
              "      <td>0</td>\n",
              "      <td>0</td>\n",
              "      <td>0</td>\n",
              "      <td>0</td>\n",
              "      <td>0</td>\n",
              "      <td>0</td>\n",
              "    </tr>\n",
              "  </tbody>\n",
              "</table>\n",
              "</div>\n",
              "      <button class=\"colab-df-convert\" onclick=\"convertToInteractive('df-d90354e5-9580-491a-98d1-a989563fc336')\"\n",
              "              title=\"Convert this dataframe to an interactive table.\"\n",
              "              style=\"display:none;\">\n",
              "        \n",
              "  <svg xmlns=\"http://www.w3.org/2000/svg\" height=\"24px\"viewBox=\"0 0 24 24\"\n",
              "       width=\"24px\">\n",
              "    <path d=\"M0 0h24v24H0V0z\" fill=\"none\"/>\n",
              "    <path d=\"M18.56 5.44l.94 2.06.94-2.06 2.06-.94-2.06-.94-.94-2.06-.94 2.06-2.06.94zm-11 1L8.5 8.5l.94-2.06 2.06-.94-2.06-.94L8.5 2.5l-.94 2.06-2.06.94zm10 10l.94 2.06.94-2.06 2.06-.94-2.06-.94-.94-2.06-.94 2.06-2.06.94z\"/><path d=\"M17.41 7.96l-1.37-1.37c-.4-.4-.92-.59-1.43-.59-.52 0-1.04.2-1.43.59L10.3 9.45l-7.72 7.72c-.78.78-.78 2.05 0 2.83L4 21.41c.39.39.9.59 1.41.59.51 0 1.02-.2 1.41-.59l7.78-7.78 2.81-2.81c.8-.78.8-2.07 0-2.86zM5.41 20L4 18.59l7.72-7.72 1.47 1.35L5.41 20z\"/>\n",
              "  </svg>\n",
              "      </button>\n",
              "      \n",
              "  <style>\n",
              "    .colab-df-container {\n",
              "      display:flex;\n",
              "      flex-wrap:wrap;\n",
              "      gap: 12px;\n",
              "    }\n",
              "\n",
              "    .colab-df-convert {\n",
              "      background-color: #E8F0FE;\n",
              "      border: none;\n",
              "      border-radius: 50%;\n",
              "      cursor: pointer;\n",
              "      display: none;\n",
              "      fill: #1967D2;\n",
              "      height: 32px;\n",
              "      padding: 0 0 0 0;\n",
              "      width: 32px;\n",
              "    }\n",
              "\n",
              "    .colab-df-convert:hover {\n",
              "      background-color: #E2EBFA;\n",
              "      box-shadow: 0px 1px 2px rgba(60, 64, 67, 0.3), 0px 1px 3px 1px rgba(60, 64, 67, 0.15);\n",
              "      fill: #174EA6;\n",
              "    }\n",
              "\n",
              "    [theme=dark] .colab-df-convert {\n",
              "      background-color: #3B4455;\n",
              "      fill: #D2E3FC;\n",
              "    }\n",
              "\n",
              "    [theme=dark] .colab-df-convert:hover {\n",
              "      background-color: #434B5C;\n",
              "      box-shadow: 0px 1px 3px 1px rgba(0, 0, 0, 0.15);\n",
              "      filter: drop-shadow(0px 1px 2px rgba(0, 0, 0, 0.3));\n",
              "      fill: #FFFFFF;\n",
              "    }\n",
              "  </style>\n",
              "\n",
              "      <script>\n",
              "        const buttonEl =\n",
              "          document.querySelector('#df-d90354e5-9580-491a-98d1-a989563fc336 button.colab-df-convert');\n",
              "        buttonEl.style.display =\n",
              "          google.colab.kernel.accessAllowed ? 'block' : 'none';\n",
              "\n",
              "        async function convertToInteractive(key) {\n",
              "          const element = document.querySelector('#df-d90354e5-9580-491a-98d1-a989563fc336');\n",
              "          const dataTable =\n",
              "            await google.colab.kernel.invokeFunction('convertToInteractive',\n",
              "                                                     [key], {});\n",
              "          if (!dataTable) return;\n",
              "\n",
              "          const docLinkHtml = 'Like what you see? Visit the ' +\n",
              "            '<a target=\"_blank\" href=https://colab.research.google.com/notebooks/data_table.ipynb>data table notebook</a>'\n",
              "            + ' to learn more about interactive tables.';\n",
              "          element.innerHTML = '';\n",
              "          dataTable['output_type'] = 'display_data';\n",
              "          await google.colab.output.renderOutput(dataTable, element);\n",
              "          const docLink = document.createElement('div');\n",
              "          docLink.innerHTML = docLinkHtml;\n",
              "          element.appendChild(docLink);\n",
              "        }\n",
              "      </script>\n",
              "    </div>\n",
              "  </div>\n",
              "  "
            ],
            "text/plain": [
              "   deposit  predict_rf  predict_lr  predict_nb  predict_svm  predict_knn  \\\n",
              "0        1           0           0           0            0            0   \n",
              "1        0           0           0           0            0            0   \n",
              "2        0           0           0           0            0            0   \n",
              "3        0           0           0           0            0            0   \n",
              "4        0           0           0           0            0            0   \n",
              "\n",
              "   predict_dt  \n",
              "0           0  \n",
              "1           0  \n",
              "2           0  \n",
              "3           0  \n",
              "4           0  "
            ]
          },
          "execution_count": 96,
          "metadata": {},
          "output_type": "execute_result"
        }
      ],
      "source": [
        "pd.concat([df_inf2,inf_pred_df], axis=1)\n",
        "#melihat actual (deposit) dengan hasil predict model random forest"
      ]
    },
    {
      "cell_type": "markdown",
      "metadata": {
        "id": "goQGxFia75SN"
      },
      "source": [
        "> Dapat dilihat bahwa dari ke-7 model, semua model gagal dalam memprediksi kelas 1 . Hal ini dapat dijelaskan melalui  `classification report` yang menunjukkan nilai yang kecil pada kelas 1, yang berarti model kruang bagus untuk memprediksi dengan data training kelas 1"
      ]
    },
    {
      "cell_type": "markdown",
      "metadata": {
        "id": "4dfEP8l2JgZj"
      },
      "source": [
        "# 10. Kesimpulan\n",
        "\n",
        "## Overall Data\n",
        "Data yang digunakan tidak seimbang, terlalu banyak data yang memprediksi client yang tidak subscribe deposit.\n",
        "Tidak ada missing value pada dataset, namun banyak kategori `unknown` dan value ynag di set sangat tinggi `999`.\n",
        "Tidak ditemukan outliers pada dataset kali ini\n",
        "Fitur yang digunakan pada model ini adalah fitur yang memiliki korelasi cukup tinggi (>0.5) dengan target, yaitu : previous, month, contact, job, cons.price.idx,.emp.var.rate, euribor3m, pdays, nr.employed, credit\n",
        "\n",
        "\n",
        "## Model Result\n",
        "Model ini di evaluasi dengan menggunakan `cross_val_score` scoring roc_auc dengan 5x fold  **cukup buruk**. Hasilnya kedua model overfit. Model yang dibuat tidak dapat memprediksi client yang akan melakukan subscribe deposit dengan baik karena data yang didapatkan imbalance (kebanyakan data yang dipelajari adalah target yang tidak subscribe, sehingga model kurang mahir dalam mempelajari target yang subscribe).\n",
        "\n",
        "Dari ke-7 model yang diprediksi, model yang paling tinggi nilai roc_auc pada Testsetnya adalah :\n",
        "1. GradientBoost = 0.79\n",
        "2. LogisticRegression = 0.78\n",
        "3. NaiveBayes = 0.77\n",
        "4. RandomForest = 0.75\n",
        "5. SVM = 0.73\n",
        "6. KNN = 0.73\n",
        "7. DecisionTree = 0.63\n",
        "\n",
        "\n",
        "\n",
        "## Best Model\n",
        "Dari nilai `cross_val_score` dengan scoring roc_auc, nilai roc_auc yang paling tinggi adalah Model **GradientBoost**. Sehingga Data testset & inference akan dipredict dnegan Model GradientBoost yang sudah ditunning.\n",
        "\n",
        "Tunning dilakukan dengan GridSearchCV sebanyak 2fold dan menghasilkan hyperparameter : \n",
        "1. learning_rate: 0.1, \n",
        "2. loss: 'deviance, \n",
        "3. max_depth: 5,\n",
        "4. n_estimators': 100\n",
        "\n",
        "\n",
        "## Slight Conclusion \n",
        "Model GradientBoost memiliki roc_auc yang cukup tinggi (0.8). Dalam dataset kali ini sebaiknya di maximalkan pada nilai `recall` untuk meminimalisir nilai False Negative (Realitanya melakukan deposit, tapi terprediksi tidak deposit))"
      ]
    }
  ],
  "metadata": {
    "colab": {
      "collapsed_sections": [],
      "name": "h8dsft_P1Milestone1_CindraChatami.ipynb",
      "provenance": [],
      "toc_visible": true
    },
    "kernelspec": {
      "display_name": "Python 3",
      "name": "python3"
    },
    "language_info": {
      "codemirror_mode": {
        "name": "ipython",
        "version": 3
      },
      "file_extension": ".py",
      "mimetype": "text/x-python",
      "name": "python",
      "nbconvert_exporter": "python",
      "pygments_lexer": "ipython3",
      "version": "3.9.7"
    }
  },
  "nbformat": 4,
  "nbformat_minor": 0
}
